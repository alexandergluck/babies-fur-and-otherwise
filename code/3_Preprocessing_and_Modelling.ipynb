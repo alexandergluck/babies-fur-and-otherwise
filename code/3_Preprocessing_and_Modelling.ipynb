{
 "cells": [
  {
   "cell_type": "markdown",
   "id": "9bb33973-e33a-44bc-9e14-07b3a1ed0ebc",
   "metadata": {},
   "source": [
    "# Preprocessing and Modelling #"
   ]
  },
  {
   "cell_type": "code",
   "execution_count": 1,
   "id": "35053ba5-ec5e-4cc2-8fff-d92a4630c146",
   "metadata": {},
   "outputs": [],
   "source": [
    "import numpy as np\n",
    "import pandas as pd\n",
    "\n",
    "import nltk\n",
    "from nltk.stem import PorterStemmer, WordNetLemmatizer\n",
    "from nltk.corpus import stopwords, wordnet\n",
    "from nltk.tokenize import RegexpTokenizer\n",
    "\n",
    "from sklearn.feature_extraction.text import CountVectorizer, TfidfVectorizer\n",
    "from sklearn.model_selection import train_test_split, GridSearchCV\n",
    "from sklearn.pipeline import Pipeline\n",
    "from sklearn.linear_model import LogisticRegression\n",
    "from sklearn.ensemble import RandomForestClassifier, GradientBoostingClassifier\n",
    "from sklearn.svm import SVC\n",
    "from sklearn.metrics import confusion_matrix, ConfusionMatrixDisplay"
   ]
  },
  {
   "cell_type": "code",
   "execution_count": 2,
   "id": "7b8449e0-5bd4-4428-a2ce-eed5fb782714",
   "metadata": {},
   "outputs": [],
   "source": [
    "dogs_v_kids = pd.read_csv('../data/dogs_v_kids_cleaned.csv')"
   ]
  },
  {
   "cell_type": "markdown",
   "id": "08bb8522-f916-4fb9-b628-a3bc4c21dafd",
   "metadata": {
    "tags": []
   },
   "source": [
    "## Preprocessing ##"
   ]
  },
  {
   "cell_type": "markdown",
   "id": "2f195f60-a767-4cc5-8b08-81b2ff7936ae",
   "metadata": {},
   "source": [
    "#### Functions for Stemming and Lemmatizing ####\n",
    "\n",
    "I'll be testing using both **stemming** and **lemmatizing** in my models to see whether or not they improve performance"
   ]
  },
  {
   "cell_type": "code",
   "execution_count": 3,
   "id": "83dd192b-c9e8-4521-b931-93ec2a6b2b2c",
   "metadata": {},
   "outputs": [],
   "source": [
    "def stem_words(text):\n",
    "    # Initialize tokenizer and stemmer\n",
    "    tokenizer = RegexpTokenizer('\\w+')\n",
    "    stemmer = PorterStemmer()\n",
    "    \n",
    "    # Tokenize the text\n",
    "    words = tokenizer.tokenize(text.lower())\n",
    "    \n",
    "    # Stem each word\n",
    "    stemmed_words = [stemmer.stem(word) for word in words]\n",
    "    \n",
    "    return ' '.join(stemmed_words)\n",
    "# Adapted from code in lesson 504 as wells as code provided by Katie Sylvia in response to my question about adding stemming to CountVectorizer"
   ]
  },
  {
   "cell_type": "code",
   "execution_count": 4,
   "id": "9135343b-036d-4232-90a2-8dd76e5babb1",
   "metadata": {
    "tags": []
   },
   "outputs": [],
   "source": [
    "def lemm_words(text):\n",
    "    # Initialize tokenizer and lemmatizer\n",
    "    tokenizer = RegexpTokenizer('\\w+')\n",
    "    wn = WordNetLemmatizer()\n",
    "    \n",
    "    # Create variables\n",
    "    # wordnet mapper variables taken from lesson 504\n",
    "    mapper = {\n",
    "        'J': wordnet.ADJ,\n",
    "        'V': wordnet.VERB,\n",
    "        'N': wordnet.NOUN,\n",
    "        'R': wordnet.ADV\n",
    "    }\n",
    "    lemmatized_words = []\n",
    "    \n",
    "    # Tokenize the text\n",
    "    words = tokenizer.tokenize(text.lower())\n",
    "    \n",
    "    # Position tag the tokenized text\n",
    "    words_tagged = nltk.pos_tag(words)\n",
    "\n",
    "    # Lemmatize\n",
    "    for word, tag in words_tagged:\n",
    "        pos = mapper.get(tag[0])\n",
    "        if pos:\n",
    "            lemmatized_words.append(wn.lemmatize(word, pos))\n",
    "        else:\n",
    "            lemmatized_words.append(word)\n",
    "    \n",
    "    return ' '.join(lemmatized_words)"
   ]
  },
  {
   "cell_type": "markdown",
   "id": "fd9e7f0d-dddf-43fa-90c7-d08c29777c40",
   "metadata": {},
   "source": [
    "I'll use these functions on my corpus, and add the stemmed and lemmatized documents to my dataset:\n",
    "\n",
    "*Note: I previously attempted to include slightly altered versions of the above **stem_words** and **lemm_words** functions as arguments to the **tokenizer** parameter for **CountVectorizer** in a **GridSearch**. The resulting code was too computationally expensive to be practical (it took hours to run).*"
   ]
  },
  {
   "cell_type": "code",
   "execution_count": 5,
   "id": "855e1676-9753-489c-8369-03c11d3ab08f",
   "metadata": {},
   "outputs": [
    {
     "data": {
      "text/html": [
       "<div>\n",
       "<style scoped>\n",
       "    .dataframe tbody tr th:only-of-type {\n",
       "        vertical-align: middle;\n",
       "    }\n",
       "\n",
       "    .dataframe tbody tr th {\n",
       "        vertical-align: top;\n",
       "    }\n",
       "\n",
       "    .dataframe thead th {\n",
       "        text-align: right;\n",
       "    }\n",
       "</style>\n",
       "<table border=\"1\" class=\"dataframe\">\n",
       "  <thead>\n",
       "    <tr style=\"text-align: right;\">\n",
       "      <th></th>\n",
       "      <th>subreddit</th>\n",
       "      <th>post</th>\n",
       "      <th>title</th>\n",
       "      <th>author</th>\n",
       "      <th>utc_datetime_str</th>\n",
       "      <th>post_length</th>\n",
       "      <th>post_word_count</th>\n",
       "      <th>title_length</th>\n",
       "      <th>title_word_count</th>\n",
       "      <th>title_post</th>\n",
       "      <th>title_post_stemmed</th>\n",
       "      <th>title_post_lemmed</th>\n",
       "    </tr>\n",
       "  </thead>\n",
       "  <tbody>\n",
       "    <tr>\n",
       "      <th>0</th>\n",
       "      <td>0</td>\n",
       "      <td>We have a 1 year old maltese shihtzu, we have ...</td>\n",
       "      <td>On lead greetings</td>\n",
       "      <td>M3409</td>\n",
       "      <td>2023-03-02 00:16:11</td>\n",
       "      <td>661</td>\n",
       "      <td>129</td>\n",
       "      <td>17</td>\n",
       "      <td>3</td>\n",
       "      <td>On lead greetings We have a 1 year old maltese...</td>\n",
       "      <td>on lead greet we have a 1 year old maltes shih...</td>\n",
       "      <td>on lead greeting we have a 1 year old maltese ...</td>\n",
       "    </tr>\n",
       "    <tr>\n",
       "      <th>1</th>\n",
       "      <td>0</td>\n",
       "      <td>Color, pile thickness, pattern?\\r\\n\\r\\nI have ...</td>\n",
       "      <td>Home carpet recommendations?</td>\n",
       "      <td>GoodMoGo</td>\n",
       "      <td>2023-03-02 00:15:20</td>\n",
       "      <td>326</td>\n",
       "      <td>55</td>\n",
       "      <td>28</td>\n",
       "      <td>3</td>\n",
       "      <td>Home carpet recommendations? Color, pile thick...</td>\n",
       "      <td>home carpet recommend color pile thick pattern...</td>\n",
       "      <td>home carpet recommendation color pile thicknes...</td>\n",
       "    </tr>\n",
       "    <tr>\n",
       "      <th>2</th>\n",
       "      <td>0</td>\n",
       "      <td>Hello, Noah is a white german shepherd, he has...</td>\n",
       "      <td>Dog epilepsy</td>\n",
       "      <td>kekalam</td>\n",
       "      <td>2023-03-02 00:14:14</td>\n",
       "      <td>376</td>\n",
       "      <td>75</td>\n",
       "      <td>12</td>\n",
       "      <td>2</td>\n",
       "      <td>Dog epilepsy Hello, Noah is a white german she...</td>\n",
       "      <td>dog epilepsi hello noah is a white german shep...</td>\n",
       "      <td>dog epilepsy hello noah be a white german shep...</td>\n",
       "    </tr>\n",
       "    <tr>\n",
       "      <th>3</th>\n",
       "      <td>0</td>\n",
       "      <td>So I’ve moved in to my aunts house and she own...</td>\n",
       "      <td>Advice needed</td>\n",
       "      <td>mfgoodguy</td>\n",
       "      <td>2023-03-02 00:12:16</td>\n",
       "      <td>1037</td>\n",
       "      <td>207</td>\n",
       "      <td>13</td>\n",
       "      <td>2</td>\n",
       "      <td>Advice needed So I’ve moved in to my aunts hou...</td>\n",
       "      <td>advic need so i ve move in to my aunt hous and...</td>\n",
       "      <td>advice need so i ve move in to my aunt house a...</td>\n",
       "    </tr>\n",
       "    <tr>\n",
       "      <th>4</th>\n",
       "      <td>0</td>\n",
       "      <td>This is an app that could be useful to find a...</td>\n",
       "      <td>Mappet is an app for dogs lovers</td>\n",
       "      <td>SalvatoreScalia</td>\n",
       "      <td>2023-03-02 00:05:20</td>\n",
       "      <td>308</td>\n",
       "      <td>28</td>\n",
       "      <td>32</td>\n",
       "      <td>7</td>\n",
       "      <td>Mappet is an app for dogs lovers  This is an a...</td>\n",
       "      <td>mappet is an app for dog lover thi is an app t...</td>\n",
       "      <td>mappet be an app for dog lover this be an app ...</td>\n",
       "    </tr>\n",
       "  </tbody>\n",
       "</table>\n",
       "</div>"
      ],
      "text/plain": [
       "   subreddit                                               post  \\\n",
       "0          0  We have a 1 year old maltese shihtzu, we have ...   \n",
       "1          0  Color, pile thickness, pattern?\\r\\n\\r\\nI have ...   \n",
       "2          0  Hello, Noah is a white german shepherd, he has...   \n",
       "3          0  So I’ve moved in to my aunts house and she own...   \n",
       "4          0   This is an app that could be useful to find a...   \n",
       "\n",
       "                              title           author     utc_datetime_str  \\\n",
       "0                 On lead greetings            M3409  2023-03-02 00:16:11   \n",
       "1      Home carpet recommendations?         GoodMoGo  2023-03-02 00:15:20   \n",
       "2                      Dog epilepsy          kekalam  2023-03-02 00:14:14   \n",
       "3                     Advice needed        mfgoodguy  2023-03-02 00:12:16   \n",
       "4  Mappet is an app for dogs lovers  SalvatoreScalia  2023-03-02 00:05:20   \n",
       "\n",
       "   post_length  post_word_count  title_length  title_word_count  \\\n",
       "0          661              129            17                 3   \n",
       "1          326               55            28                 3   \n",
       "2          376               75            12                 2   \n",
       "3         1037              207            13                 2   \n",
       "4          308               28            32                 7   \n",
       "\n",
       "                                          title_post  \\\n",
       "0  On lead greetings We have a 1 year old maltese...   \n",
       "1  Home carpet recommendations? Color, pile thick...   \n",
       "2  Dog epilepsy Hello, Noah is a white german she...   \n",
       "3  Advice needed So I’ve moved in to my aunts hou...   \n",
       "4  Mappet is an app for dogs lovers  This is an a...   \n",
       "\n",
       "                                  title_post_stemmed  \\\n",
       "0  on lead greet we have a 1 year old maltes shih...   \n",
       "1  home carpet recommend color pile thick pattern...   \n",
       "2  dog epilepsi hello noah is a white german shep...   \n",
       "3  advic need so i ve move in to my aunt hous and...   \n",
       "4  mappet is an app for dog lover thi is an app t...   \n",
       "\n",
       "                                   title_post_lemmed  \n",
       "0  on lead greeting we have a 1 year old maltese ...  \n",
       "1  home carpet recommendation color pile thicknes...  \n",
       "2  dog epilepsy hello noah be a white german shep...  \n",
       "3  advice need so i ve move in to my aunt house a...  \n",
       "4  mappet be an app for dog lover this be an app ...  "
      ]
     },
     "execution_count": 5,
     "metadata": {},
     "output_type": "execute_result"
    }
   ],
   "source": [
    "dogs_v_kids['title_post_stemmed'] = [stem_words(doc) for doc in dogs_v_kids['title_post']]\n",
    "dogs_v_kids['title_post_lemmed'] = [lemm_words(doc) for doc in dogs_v_kids['title_post']]\n",
    "\n",
    "dogs_v_kids.head()"
   ]
  },
  {
   "cell_type": "markdown",
   "id": "585bee51-8aef-4cca-b2aa-ef406d8dfb10",
   "metadata": {},
   "source": [
    "I'll save out this version of the dataframe:"
   ]
  },
  {
   "cell_type": "code",
   "execution_count": 6,
   "id": "7bc8c014-3e53-4bbf-98d2-7ab13a3aa18b",
   "metadata": {
    "tags": []
   },
   "outputs": [],
   "source": [
    "dogs_v_kids.to_csv('../data/dogs_v_kids_stemmed_n_lemmed.csv', index=False)"
   ]
  },
  {
   "cell_type": "markdown",
   "id": "f71aee5a-061e-4ce7-b69b-d2b5b853e0d8",
   "metadata": {},
   "source": [
    "#### Function for Tracking Model Performance Metrics ####"
   ]
  },
  {
   "cell_type": "code",
   "execution_count": 7,
   "id": "0bcfc465-1f32-41db-90fd-d317115902ba",
   "metadata": {},
   "outputs": [],
   "source": [
    "def model_stats(model, model_type, vectorizer, transform_type, crutch_words=False):\n",
    "    # get confusion matrix variables\n",
    "    if transform_type == 'o':\n",
    "        y_hat = model.predict(X_test)\n",
    "        tn, fp, fn, tp = confusion_matrix(y_test, y_hat).ravel()\n",
    "    elif transform_type == 'l':\n",
    "        y_hat = model.predict(X_test_l)\n",
    "        tn, fp, fn, tp = confusion_matrix(y_test_l, y_hat).ravel()\n",
    "    else:\n",
    "        y_hat = model.predict(X_test_s)\n",
    "        tn, fp, fn, tp = confusion_matrix(y_test_s, y_hat).ravel()\n",
    "    \n",
    "    # get training accuracy scores\n",
    "    if transform_type == 'o':\n",
    "        train_accuracy = model.score(X_train, y_train)\n",
    "    elif transform_type == 'l':\n",
    "        train_accuracy = model.score(X_train_l, y_train_l)\n",
    "    else:\n",
    "        train_accuracy = model.score(X_train_s, y_train_s)\n",
    "    \n",
    "    # store various model stats as a library\n",
    "    stats = {\n",
    "        'model_type': model_type,\n",
    "        'vectorizer': vectorizer,\n",
    "        'transform_type': transform_type,\n",
    "        'crutch_words_removed': crutch_words * 1,  \n",
    "        'true_positives': tp,\n",
    "        'true_negatives': tn,\n",
    "        'false_positives': fp,\n",
    "        'false_negatives': fn,\n",
    "        'train_accuracy': train_accuracy,\n",
    "        'accuracy': (tp + tn) / (tp + tn + fp + fn),\n",
    "        'sensitivity': tp / (tp + fn),\n",
    "        'specificity': tn / (tn + fp),\n",
    "        'precision': tp / (tp + fp)\n",
    "    }\n",
    "    \n",
    "    return stats"
   ]
  },
  {
   "cell_type": "markdown",
   "id": "054b3d7e-24a1-4d18-8ec8-9a4413149c8d",
   "metadata": {},
   "source": [
    "I'll also create a variable to store them"
   ]
  },
  {
   "cell_type": "code",
   "execution_count": 8,
   "id": "d4180779-222e-4b83-8792-4f0a784b5a59",
   "metadata": {},
   "outputs": [],
   "source": [
    "model_metrics = []"
   ]
  },
  {
   "cell_type": "markdown",
   "id": "3b367c20-2e80-4bb6-94e3-77cd57abd02f",
   "metadata": {},
   "source": [
    "#### Custom Stop Words - Crutch Words ####\n",
    "\n",
    "I'm going to define a custom class of stop words that I'll call **'Crutch Words'**. This list includes some of the most popular and obvious differentiator words from each subreddit, such as 'dog' and 'kids'. I'll do versions of each model with and without the list of **'Crutch Words'**.\n",
    "\n",
    "I expect removing the **'Crutch Words'** to negatively impact model performance, but I am interested to see to what extent that is the case"
   ]
  },
  {
   "cell_type": "code",
   "execution_count": 9,
   "id": "280899d6-646a-41c3-8287-b90a36c31a43",
   "metadata": {},
   "outputs": [
    {
     "name": "stdout",
     "output_type": "stream",
     "text": [
      "['i', 'me', 'my', 'myself', 'we', 'our', 'ours', 'ourselves', 'you', \"you're\", \"you've\", \"you'll\", \"you'd\", 'your', 'yours', 'yourself', 'yourselves', 'he', 'him', 'his', 'himself', 'she', \"she's\", 'her', 'hers', 'herself', 'it', \"it's\", 'its', 'itself', 'they', 'them', 'their', 'theirs', 'themselves', 'what', 'which', 'who', 'whom', 'this', 'that', \"that'll\", 'these', 'those', 'am', 'is', 'are', 'was', 'were', 'be', 'been', 'being', 'have', 'has', 'had', 'having', 'do', 'does', 'did', 'doing', 'a', 'an', 'the', 'and', 'but', 'if', 'or', 'because', 'as', 'until', 'while', 'of', 'at', 'by', 'for', 'with', 'about', 'against', 'between', 'into', 'through', 'during', 'before', 'after', 'above', 'below', 'to', 'from', 'up', 'down', 'in', 'out', 'on', 'off', 'over', 'under', 'again', 'further', 'then', 'once', 'here', 'there', 'when', 'where', 'why', 'how', 'all', 'any', 'both', 'each', 'few', 'more', 'most', 'other', 'some', 'such', 'no', 'nor', 'not', 'only', 'own', 'same', 'so', 'than', 'too', 'very', 's', 't', 'can', 'will', 'just', 'don', \"don't\", 'should', \"should've\", 'now', 'd', 'll', 'm', 'o', 're', 've', 'y', 'ain', 'aren', \"aren't\", 'couldn', \"couldn't\", 'didn', \"didn't\", 'doesn', \"doesn't\", 'hadn', \"hadn't\", 'hasn', \"hasn't\", 'haven', \"haven't\", 'isn', \"isn't\", 'ma', 'mightn', \"mightn't\", 'mustn', \"mustn't\", 'needn', \"needn't\", 'shan', \"shan't\", 'shouldn', \"shouldn't\", 'wasn', \"wasn't\", 'weren', \"weren't\", 'won', \"won't\", 'wouldn', \"wouldn't\", 'dog', 'dogs', 'puppy', 'vet', 'kid', 'kids', 'son', 'daughter', 'baby']\n"
     ]
    }
   ],
   "source": [
    "crutch_words = ['dog', 'dogs', 'puppy', 'vet', 'kid', 'kids', 'son', 'daughter', 'baby']\n",
    "crutch_words_eng = stopwords.words('english') + crutch_words\n",
    "print(crutch_words_eng)"
   ]
  },
  {
   "cell_type": "markdown",
   "id": "363248b8-ffad-4677-966a-1997109ccc40",
   "metadata": {},
   "source": [
    "I'll run my **stemming** and **lemmatizing** functions over the stop words lists as well, for use with my **stemmed** and **lemmatized** corpora:"
   ]
  },
  {
   "cell_type": "code",
   "execution_count": 10,
   "id": "c7836803-e260-47d6-9188-bdfff369e9c4",
   "metadata": {},
   "outputs": [],
   "source": [
    "eng_stopwords_stemmed = stem_words(' '.join(stopwords.words('english'))).split()\n",
    "eng_stopwords_lemmed = lemm_words(' '.join(stopwords.words('english'))).split()\n",
    "crutch_words_stemmed = stem_words(' '.join(crutch_words_eng)).split()\n",
    "crutch_words_lemmed = lemm_words(' '.join(crutch_words_eng)).split()"
   ]
  },
  {
   "cell_type": "markdown",
   "id": "2af66108-c41a-428a-8bf7-12f406ccf09c",
   "metadata": {},
   "source": [
    "#### Defining X and y Variables ####\n",
    "\n",
    "I'm going to define three different versions of X: one each for my **original**, **stemmed**, and **lemmatized** corpora"
   ]
  },
  {
   "cell_type": "code",
   "execution_count": 11,
   "id": "ecf33dc5-37ac-45fa-ab51-7932349a3b93",
   "metadata": {},
   "outputs": [],
   "source": [
    "X = dogs_v_kids['title_post']\n",
    "X_s = dogs_v_kids['title_post_stemmed']\n",
    "X_l = dogs_v_kids['title_post_lemmed']\n",
    "\n",
    "y = dogs_v_kids['subreddit']"
   ]
  },
  {
   "cell_type": "markdown",
   "id": "f1755379-5fb3-4ef3-8043-72b6ebef9da2",
   "metadata": {
    "tags": []
   },
   "source": [
    "#### Train/Test Split ####\n",
    "\n",
    "Likewise, I'll do a train/test split for each version of X"
   ]
  },
  {
   "cell_type": "code",
   "execution_count": 12,
   "id": "8e303436-39bf-4ac1-8c64-293d1b15f1c7",
   "metadata": {},
   "outputs": [],
   "source": [
    "X_train, X_test, y_train, y_test = train_test_split(X,\n",
    "                                                    y,\n",
    "                                                    stratify=y,\n",
    "                                                    test_size=0.2,\n",
    "                                                    random_state=1234)\n",
    "\n",
    "X_train_s, X_test_s, y_train_s, y_test_s = train_test_split(X_s,\n",
    "                                                    y,\n",
    "                                                    stratify=y,\n",
    "                                                    test_size=0.2,\n",
    "                                                    random_state=1234)\n",
    "\n",
    "X_train_l, X_test_l, y_train_l, y_test_l = train_test_split(X_l,\n",
    "                                                    y,\n",
    "                                                    stratify=y,\n",
    "                                                    test_size=0.2,\n",
    "                                                    random_state=1234)"
   ]
  },
  {
   "cell_type": "markdown",
   "id": "7f856002-dc1f-4f18-9179-9db66b6f0a6f",
   "metadata": {},
   "source": [
    "## Modelling ##\n",
    "\n",
    "I'll build four different types of models:\n",
    "1) Logistic Regression\n",
    "2) Random Forest\n",
    "3) Gradient Boost\n",
    "4) Support Vector Machine\n",
    "\n",
    "For each model type I'll build two sets of models:\n",
    "1) The first set will be given the corpus of data with the **'Crutch Words'** still included\n",
    "2) The second will be given data with the **'Crutch Words'** removed\n",
    "\n",
    "For each model I'll use **GridSearch** to determine best parameters"
   ]
  },
  {
   "cell_type": "markdown",
   "id": "886e13fe-1447-421e-b727-88cefb21d90f",
   "metadata": {},
   "source": [
    "##### Baseline Score #####"
   ]
  },
  {
   "cell_type": "code",
   "execution_count": 13,
   "id": "4fe10dea-c877-44c6-aaf0-d3728e15c296",
   "metadata": {},
   "outputs": [
    {
     "data": {
      "text/html": [
       "<div>\n",
       "<style scoped>\n",
       "    .dataframe tbody tr th:only-of-type {\n",
       "        vertical-align: middle;\n",
       "    }\n",
       "\n",
       "    .dataframe tbody tr th {\n",
       "        vertical-align: top;\n",
       "    }\n",
       "\n",
       "    .dataframe thead th {\n",
       "        text-align: right;\n",
       "    }\n",
       "</style>\n",
       "<table border=\"1\" class=\"dataframe\">\n",
       "  <thead>\n",
       "    <tr style=\"text-align: right;\">\n",
       "      <th></th>\n",
       "      <th>subreddit</th>\n",
       "    </tr>\n",
       "  </thead>\n",
       "  <tbody>\n",
       "    <tr>\n",
       "      <th>0</th>\n",
       "      <td>0.529465</td>\n",
       "    </tr>\n",
       "    <tr>\n",
       "      <th>1</th>\n",
       "      <td>0.470535</td>\n",
       "    </tr>\n",
       "  </tbody>\n",
       "</table>\n",
       "</div>"
      ],
      "text/plain": [
       "   subreddit\n",
       "0   0.529465\n",
       "1   0.470535"
      ]
     },
     "execution_count": 13,
     "metadata": {},
     "output_type": "execute_result"
    }
   ],
   "source": [
    "pd.DataFrame(y.value_counts(normalize=True))"
   ]
  },
  {
   "cell_type": "markdown",
   "id": "6e1b693c-312b-494a-9f33-7f9e38c24ea2",
   "metadata": {},
   "source": [
    "<font size='2'>*Recall that 0 represents **r/dogs**, while 1 represents the target value, **r/parenting***<font>"
   ]
  },
  {
   "cell_type": "markdown",
   "id": "d526de11-a79f-44a1-9a14-b3a41daec26a",
   "metadata": {
    "tags": []
   },
   "source": [
    "### 1. Logistic Regression ###\n",
    "\n",
    "I'll run four **Logistic Regression** models each on the data with and without **crutch words**. For the first three I'll transform each of the three versions of the corpus with **CountVectorizer**:\n",
    "1) Original Corpus\n",
    "2) Stemmed Corpus\n",
    "3) Lemmatized Corpus\n",
    "\n",
    "For the fourth model I'll transform the data using **TfidfVectorizer**, using the version of the corpus that performed best among the first three."
   ]
  },
  {
   "cell_type": "markdown",
   "id": "a0f275fc-9bbd-4cf1-b144-075b520ca120",
   "metadata": {
    "tags": []
   },
   "source": [
    "#### 1.a.1 Crutch Words Allowed - CountVectorizer - Original Corpus ####"
   ]
  },
  {
   "cell_type": "markdown",
   "id": "a75b786d-d2e6-4f4d-985f-4cb5e8fddb46",
   "metadata": {},
   "source": [
    "##### Model Instantiation and Fitting #####"
   ]
  },
  {
   "cell_type": "code",
   "execution_count": 14,
   "id": "35343b5f-d5a3-452f-9d5f-315533e2091a",
   "metadata": {},
   "outputs": [],
   "source": [
    "log_o_pipe = Pipeline([\n",
    "    ('cvec', CountVectorizer()),\n",
    "    ('logreg', LogisticRegression())\n",
    "])"
   ]
  },
  {
   "cell_type": "code",
   "execution_count": 15,
   "id": "2e5c7016-2224-4f12-b9ef-0ed362b87fa2",
   "metadata": {},
   "outputs": [],
   "source": [
    "log_o_pipe_params = {\n",
    "    'cvec__max_features': [2000, 3000, 4000],\n",
    "    'cvec__min_df': [3,4,5],\n",
    "    'cvec__max_df': [0.7, 0.75, 0.8],\n",
    "    'cvec__ngram_range': [(1,2)],\n",
    "    'cvec__stop_words': ['english'],\n",
    "    'logreg__C': [0.1, 0.05, 0.02],\n",
    "    'logreg__n_jobs': [4]\n",
    "}"
   ]
  },
  {
   "cell_type": "code",
   "execution_count": 16,
   "id": "4e650af0-51c3-4bb0-87ee-c9e56cfe8392",
   "metadata": {},
   "outputs": [],
   "source": [
    "log_o_gs = GridSearchCV(log_o_pipe,\n",
    "                      param_grid = log_o_pipe_params,\n",
    "                      cv = 5)"
   ]
  },
  {
   "cell_type": "code",
   "execution_count": 17,
   "id": "e8fd7306-daf7-43b9-a6e7-13daadbcdb4d",
   "metadata": {},
   "outputs": [
    {
     "data": {
      "text/html": [
       "<style>#sk-container-id-1 {color: black;background-color: white;}#sk-container-id-1 pre{padding: 0;}#sk-container-id-1 div.sk-toggleable {background-color: white;}#sk-container-id-1 label.sk-toggleable__label {cursor: pointer;display: block;width: 100%;margin-bottom: 0;padding: 0.3em;box-sizing: border-box;text-align: center;}#sk-container-id-1 label.sk-toggleable__label-arrow:before {content: \"▸\";float: left;margin-right: 0.25em;color: #696969;}#sk-container-id-1 label.sk-toggleable__label-arrow:hover:before {color: black;}#sk-container-id-1 div.sk-estimator:hover label.sk-toggleable__label-arrow:before {color: black;}#sk-container-id-1 div.sk-toggleable__content {max-height: 0;max-width: 0;overflow: hidden;text-align: left;background-color: #f0f8ff;}#sk-container-id-1 div.sk-toggleable__content pre {margin: 0.2em;color: black;border-radius: 0.25em;background-color: #f0f8ff;}#sk-container-id-1 input.sk-toggleable__control:checked~div.sk-toggleable__content {max-height: 200px;max-width: 100%;overflow: auto;}#sk-container-id-1 input.sk-toggleable__control:checked~label.sk-toggleable__label-arrow:before {content: \"▾\";}#sk-container-id-1 div.sk-estimator input.sk-toggleable__control:checked~label.sk-toggleable__label {background-color: #d4ebff;}#sk-container-id-1 div.sk-label input.sk-toggleable__control:checked~label.sk-toggleable__label {background-color: #d4ebff;}#sk-container-id-1 input.sk-hidden--visually {border: 0;clip: rect(1px 1px 1px 1px);clip: rect(1px, 1px, 1px, 1px);height: 1px;margin: -1px;overflow: hidden;padding: 0;position: absolute;width: 1px;}#sk-container-id-1 div.sk-estimator {font-family: monospace;background-color: #f0f8ff;border: 1px dotted black;border-radius: 0.25em;box-sizing: border-box;margin-bottom: 0.5em;}#sk-container-id-1 div.sk-estimator:hover {background-color: #d4ebff;}#sk-container-id-1 div.sk-parallel-item::after {content: \"\";width: 100%;border-bottom: 1px solid gray;flex-grow: 1;}#sk-container-id-1 div.sk-label:hover label.sk-toggleable__label {background-color: #d4ebff;}#sk-container-id-1 div.sk-serial::before {content: \"\";position: absolute;border-left: 1px solid gray;box-sizing: border-box;top: 0;bottom: 0;left: 50%;z-index: 0;}#sk-container-id-1 div.sk-serial {display: flex;flex-direction: column;align-items: center;background-color: white;padding-right: 0.2em;padding-left: 0.2em;position: relative;}#sk-container-id-1 div.sk-item {position: relative;z-index: 1;}#sk-container-id-1 div.sk-parallel {display: flex;align-items: stretch;justify-content: center;background-color: white;position: relative;}#sk-container-id-1 div.sk-item::before, #sk-container-id-1 div.sk-parallel-item::before {content: \"\";position: absolute;border-left: 1px solid gray;box-sizing: border-box;top: 0;bottom: 0;left: 50%;z-index: -1;}#sk-container-id-1 div.sk-parallel-item {display: flex;flex-direction: column;z-index: 1;position: relative;background-color: white;}#sk-container-id-1 div.sk-parallel-item:first-child::after {align-self: flex-end;width: 50%;}#sk-container-id-1 div.sk-parallel-item:last-child::after {align-self: flex-start;width: 50%;}#sk-container-id-1 div.sk-parallel-item:only-child::after {width: 0;}#sk-container-id-1 div.sk-dashed-wrapped {border: 1px dashed gray;margin: 0 0.4em 0.5em 0.4em;box-sizing: border-box;padding-bottom: 0.4em;background-color: white;}#sk-container-id-1 div.sk-label label {font-family: monospace;font-weight: bold;display: inline-block;line-height: 1.2em;}#sk-container-id-1 div.sk-label-container {text-align: center;}#sk-container-id-1 div.sk-container {/* jupyter's `normalize.less` sets `[hidden] { display: none; }` but bootstrap.min.css set `[hidden] { display: none !important; }` so we also need the `!important` here to be able to override the default hidden behavior on the sphinx rendered scikit-learn.org. See: https://github.com/scikit-learn/scikit-learn/issues/21755 */display: inline-block !important;position: relative;}#sk-container-id-1 div.sk-text-repr-fallback {display: none;}</style><div id=\"sk-container-id-1\" class=\"sk-top-container\"><div class=\"sk-text-repr-fallback\"><pre>GridSearchCV(cv=5,\n",
       "             estimator=Pipeline(steps=[(&#x27;cvec&#x27;, CountVectorizer()),\n",
       "                                       (&#x27;logreg&#x27;, LogisticRegression())]),\n",
       "             param_grid={&#x27;cvec__max_df&#x27;: [0.7, 0.75, 0.8],\n",
       "                         &#x27;cvec__max_features&#x27;: [2000, 3000, 4000],\n",
       "                         &#x27;cvec__min_df&#x27;: [3, 4, 5],\n",
       "                         &#x27;cvec__ngram_range&#x27;: [(1, 2)],\n",
       "                         &#x27;cvec__stop_words&#x27;: [&#x27;english&#x27;],\n",
       "                         &#x27;logreg__C&#x27;: [0.1, 0.05, 0.02],\n",
       "                         &#x27;logreg__n_jobs&#x27;: [4]})</pre><b>In a Jupyter environment, please rerun this cell to show the HTML representation or trust the notebook. <br />On GitHub, the HTML representation is unable to render, please try loading this page with nbviewer.org.</b></div><div class=\"sk-container\" hidden><div class=\"sk-item sk-dashed-wrapped\"><div class=\"sk-label-container\"><div class=\"sk-label sk-toggleable\"><input class=\"sk-toggleable__control sk-hidden--visually\" id=\"sk-estimator-id-1\" type=\"checkbox\" ><label for=\"sk-estimator-id-1\" class=\"sk-toggleable__label sk-toggleable__label-arrow\">GridSearchCV</label><div class=\"sk-toggleable__content\"><pre>GridSearchCV(cv=5,\n",
       "             estimator=Pipeline(steps=[(&#x27;cvec&#x27;, CountVectorizer()),\n",
       "                                       (&#x27;logreg&#x27;, LogisticRegression())]),\n",
       "             param_grid={&#x27;cvec__max_df&#x27;: [0.7, 0.75, 0.8],\n",
       "                         &#x27;cvec__max_features&#x27;: [2000, 3000, 4000],\n",
       "                         &#x27;cvec__min_df&#x27;: [3, 4, 5],\n",
       "                         &#x27;cvec__ngram_range&#x27;: [(1, 2)],\n",
       "                         &#x27;cvec__stop_words&#x27;: [&#x27;english&#x27;],\n",
       "                         &#x27;logreg__C&#x27;: [0.1, 0.05, 0.02],\n",
       "                         &#x27;logreg__n_jobs&#x27;: [4]})</pre></div></div></div><div class=\"sk-parallel\"><div class=\"sk-parallel-item\"><div class=\"sk-item\"><div class=\"sk-label-container\"><div class=\"sk-label sk-toggleable\"><input class=\"sk-toggleable__control sk-hidden--visually\" id=\"sk-estimator-id-2\" type=\"checkbox\" ><label for=\"sk-estimator-id-2\" class=\"sk-toggleable__label sk-toggleable__label-arrow\">estimator: Pipeline</label><div class=\"sk-toggleable__content\"><pre>Pipeline(steps=[(&#x27;cvec&#x27;, CountVectorizer()), (&#x27;logreg&#x27;, LogisticRegression())])</pre></div></div></div><div class=\"sk-serial\"><div class=\"sk-item\"><div class=\"sk-serial\"><div class=\"sk-item\"><div class=\"sk-estimator sk-toggleable\"><input class=\"sk-toggleable__control sk-hidden--visually\" id=\"sk-estimator-id-3\" type=\"checkbox\" ><label for=\"sk-estimator-id-3\" class=\"sk-toggleable__label sk-toggleable__label-arrow\">CountVectorizer</label><div class=\"sk-toggleable__content\"><pre>CountVectorizer()</pre></div></div></div><div class=\"sk-item\"><div class=\"sk-estimator sk-toggleable\"><input class=\"sk-toggleable__control sk-hidden--visually\" id=\"sk-estimator-id-4\" type=\"checkbox\" ><label for=\"sk-estimator-id-4\" class=\"sk-toggleable__label sk-toggleable__label-arrow\">LogisticRegression</label><div class=\"sk-toggleable__content\"><pre>LogisticRegression()</pre></div></div></div></div></div></div></div></div></div></div></div></div>"
      ],
      "text/plain": [
       "GridSearchCV(cv=5,\n",
       "             estimator=Pipeline(steps=[('cvec', CountVectorizer()),\n",
       "                                       ('logreg', LogisticRegression())]),\n",
       "             param_grid={'cvec__max_df': [0.7, 0.75, 0.8],\n",
       "                         'cvec__max_features': [2000, 3000, 4000],\n",
       "                         'cvec__min_df': [3, 4, 5],\n",
       "                         'cvec__ngram_range': [(1, 2)],\n",
       "                         'cvec__stop_words': ['english'],\n",
       "                         'logreg__C': [0.1, 0.05, 0.02],\n",
       "                         'logreg__n_jobs': [4]})"
      ]
     },
     "execution_count": 17,
     "metadata": {},
     "output_type": "execute_result"
    }
   ],
   "source": [
    "log_o_gs.fit(X_train, y_train)"
   ]
  },
  {
   "cell_type": "markdown",
   "id": "6afa819b-0052-4ab8-b0c6-256600fa1d32",
   "metadata": {},
   "source": [
    "##### Best Parameters #####"
   ]
  },
  {
   "cell_type": "code",
   "execution_count": 18,
   "id": "cab89359-75c7-4912-9e3c-30be3bb57cd0",
   "metadata": {},
   "outputs": [
    {
     "data": {
      "text/plain": [
       "{'cvec__max_df': 0.7,\n",
       " 'cvec__max_features': 3000,\n",
       " 'cvec__min_df': 3,\n",
       " 'cvec__ngram_range': (1, 2),\n",
       " 'cvec__stop_words': 'english',\n",
       " 'logreg__C': 0.05,\n",
       " 'logreg__n_jobs': 4}"
      ]
     },
     "execution_count": 18,
     "metadata": {},
     "output_type": "execute_result"
    }
   ],
   "source": [
    "log_o_gs.best_params_"
   ]
  },
  {
   "cell_type": "markdown",
   "id": "013486d6-9b32-4b57-a949-61fb4f9050ad",
   "metadata": {},
   "source": [
    "##### Model Performance Metrics #####"
   ]
  },
  {
   "cell_type": "code",
   "execution_count": 19,
   "id": "4f623a0c-0189-4e33-a41b-52dc1f71c477",
   "metadata": {},
   "outputs": [
    {
     "data": {
      "image/png": "[encoded data removed]",
      "text/plain": [
       "<Figure size 640x480 with 2 Axes>"
      ]
     },
     "metadata": {},
     "output_type": "display_data"
    }
   ],
   "source": [
    "ConfusionMatrixDisplay.from_estimator(log_o_gs, X_test, y_test, cmap = 'Purples');"
   ]
  },
  {
   "cell_type": "code",
   "execution_count": 20,
   "id": "d3362b6c-360e-4f5c-b4cf-6b07cb4724f4",
   "metadata": {},
   "outputs": [
    {
     "data": {
      "text/html": [
       "<div>\n",
       "<style scoped>\n",
       "    .dataframe tbody tr th:only-of-type {\n",
       "        vertical-align: middle;\n",
       "    }\n",
       "\n",
       "    .dataframe tbody tr th {\n",
       "        vertical-align: top;\n",
       "    }\n",
       "\n",
       "    .dataframe thead th {\n",
       "        text-align: right;\n",
       "    }\n",
       "</style>\n",
       "<table border=\"1\" class=\"dataframe\">\n",
       "  <thead>\n",
       "    <tr style=\"text-align: right;\">\n",
       "      <th></th>\n",
       "      <th>train_accuracy</th>\n",
       "      <th>accuracy</th>\n",
       "      <th>sensitivity</th>\n",
       "    </tr>\n",
       "  </thead>\n",
       "  <tbody>\n",
       "    <tr>\n",
       "      <th>0</th>\n",
       "      <td>0.992857</td>\n",
       "      <td>0.968468</td>\n",
       "      <td>0.961661</td>\n",
       "    </tr>\n",
       "  </tbody>\n",
       "</table>\n",
       "</div>"
      ],
      "text/plain": [
       "   train_accuracy  accuracy  sensitivity\n",
       "0        0.992857  0.968468     0.961661"
      ]
     },
     "execution_count": 20,
     "metadata": {},
     "output_type": "execute_result"
    }
   ],
   "source": [
    "log_o_metrics = model_stats(log_o_gs, 'log', 'c', 'o')\n",
    "model_metrics.append(log_o_metrics)\n",
    "pd.DataFrame(log_o_metrics, index=[0])[['train_accuracy', 'accuracy','sensitivity']]"
   ]
  },
  {
   "cell_type": "markdown",
   "id": "fb6e4aeb-1a97-4a26-ad46-7efab76b0d49",
   "metadata": {
    "jp-MarkdownHeadingCollapsed": true,
    "tags": []
   },
   "source": [
    "##### Model Performance Summary #####\n",
    "This is the first model I've run, and with only the baseline to compare it to it looks like a pretty performative model. The testing **accuracy** score of .968 is well above the baseline score of .529.\n",
    "\n",
    "**Sensitivity** is the performance metric I'm most interested in. I'll need to wait until I have other models to compare to, but a **sensitivity** score of .962 seems like a pretty good start"
   ]
  },
  {
   "cell_type": "markdown",
   "id": "e4903212-0ba8-453a-89e5-34f02d95bc50",
   "metadata": {
    "tags": []
   },
   "source": [
    "#### 1.a.2. Crutch Words Allowed - CountVectorizer - Stemmed Corpus ####"
   ]
  },
  {
   "cell_type": "markdown",
   "id": "f5bda1a3-e286-4315-97f2-19976f85c9ac",
   "metadata": {},
   "source": [
    "##### Model Instantiation and Fitting #####"
   ]
  },
  {
   "cell_type": "code",
   "execution_count": 21,
   "id": "6d7458d3-7efa-4695-b23f-ac73904fd1aa",
   "metadata": {},
   "outputs": [],
   "source": [
    "log_s_pipe = Pipeline([\n",
    "    ('cvec', CountVectorizer()),\n",
    "    ('logreg', LogisticRegression())\n",
    "])"
   ]
  },
  {
   "cell_type": "code",
   "execution_count": 22,
   "id": "d0c2a72f-62d2-4e26-a710-c6f75ff86b53",
   "metadata": {},
   "outputs": [],
   "source": [
    "log_s_pipe_params = {\n",
    "    'cvec__max_features': [3000, 3500, 4000],\n",
    "    'cvec__min_df': [2,3,4],\n",
    "    'cvec__max_df': [0.45, 0.5, 0.55],\n",
    "    'cvec__ngram_range': [(1,2)],\n",
    "    'cvec__stop_words': [eng_stopwords_stemmed],\n",
    "    'logreg__C': [0.05, 0.025, 0.01],\n",
    "    'logreg__n_jobs': [4]\n",
    "}"
   ]
  },
  {
   "cell_type": "code",
   "execution_count": 23,
   "id": "7963542b-5ca2-407f-b48d-d9d301b1d23d",
   "metadata": {},
   "outputs": [],
   "source": [
    "log_s_gs = GridSearchCV(log_s_pipe,\n",
    "                      param_grid = log_s_pipe_params,\n",
    "                      cv = 5)"
   ]
  },
  {
   "cell_type": "code",
   "execution_count": 24,
   "id": "d00fcc17-730b-4fe5-a37d-b8e6cb8b9fe3",
   "metadata": {},
   "outputs": [
    {
     "data": {
      "text/html": [
       "<style>#sk-container-id-2 {color: black;background-color: white;}#sk-container-id-2 pre{padding: 0;}#sk-container-id-2 div.sk-toggleable {background-color: white;}#sk-container-id-2 label.sk-toggleable__label {cursor: pointer;display: block;width: 100%;margin-bottom: 0;padding: 0.3em;box-sizing: border-box;text-align: center;}#sk-container-id-2 label.sk-toggleable__label-arrow:before {content: \"▸\";float: left;margin-right: 0.25em;color: #696969;}#sk-container-id-2 label.sk-toggleable__label-arrow:hover:before {color: black;}#sk-container-id-2 div.sk-estimator:hover label.sk-toggleable__label-arrow:before {color: black;}#sk-container-id-2 div.sk-toggleable__content {max-height: 0;max-width: 0;overflow: hidden;text-align: left;background-color: #f0f8ff;}#sk-container-id-2 div.sk-toggleable__content pre {margin: 0.2em;color: black;border-radius: 0.25em;background-color: #f0f8ff;}#sk-container-id-2 input.sk-toggleable__control:checked~div.sk-toggleable__content {max-height: 200px;max-width: 100%;overflow: auto;}#sk-container-id-2 input.sk-toggleable__control:checked~label.sk-toggleable__label-arrow:before {content: \"▾\";}#sk-container-id-2 div.sk-estimator input.sk-toggleable__control:checked~label.sk-toggleable__label {background-color: #d4ebff;}#sk-container-id-2 div.sk-label input.sk-toggleable__control:checked~label.sk-toggleable__label {background-color: #d4ebff;}#sk-container-id-2 input.sk-hidden--visually {border: 0;clip: rect(1px 1px 1px 1px);clip: rect(1px, 1px, 1px, 1px);height: 1px;margin: -1px;overflow: hidden;padding: 0;position: absolute;width: 1px;}#sk-container-id-2 div.sk-estimator {font-family: monospace;background-color: #f0f8ff;border: 1px dotted black;border-radius: 0.25em;box-sizing: border-box;margin-bottom: 0.5em;}#sk-container-id-2 div.sk-estimator:hover {background-color: #d4ebff;}#sk-container-id-2 div.sk-parallel-item::after {content: \"\";width: 100%;border-bottom: 1px solid gray;flex-grow: 1;}#sk-container-id-2 div.sk-label:hover label.sk-toggleable__label {background-color: #d4ebff;}#sk-container-id-2 div.sk-serial::before {content: \"\";position: absolute;border-left: 1px solid gray;box-sizing: border-box;top: 0;bottom: 0;left: 50%;z-index: 0;}#sk-container-id-2 div.sk-serial {display: flex;flex-direction: column;align-items: center;background-color: white;padding-right: 0.2em;padding-left: 0.2em;position: relative;}#sk-container-id-2 div.sk-item {position: relative;z-index: 1;}#sk-container-id-2 div.sk-parallel {display: flex;align-items: stretch;justify-content: center;background-color: white;position: relative;}#sk-container-id-2 div.sk-item::before, #sk-container-id-2 div.sk-parallel-item::before {content: \"\";position: absolute;border-left: 1px solid gray;box-sizing: border-box;top: 0;bottom: 0;left: 50%;z-index: -1;}#sk-container-id-2 div.sk-parallel-item {display: flex;flex-direction: column;z-index: 1;position: relative;background-color: white;}#sk-container-id-2 div.sk-parallel-item:first-child::after {align-self: flex-end;width: 50%;}#sk-container-id-2 div.sk-parallel-item:last-child::after {align-self: flex-start;width: 50%;}#sk-container-id-2 div.sk-parallel-item:only-child::after {width: 0;}#sk-container-id-2 div.sk-dashed-wrapped {border: 1px dashed gray;margin: 0 0.4em 0.5em 0.4em;box-sizing: border-box;padding-bottom: 0.4em;background-color: white;}#sk-container-id-2 div.sk-label label {font-family: monospace;font-weight: bold;display: inline-block;line-height: 1.2em;}#sk-container-id-2 div.sk-label-container {text-align: center;}#sk-container-id-2 div.sk-container {/* jupyter's `normalize.less` sets `[hidden] { display: none; }` but bootstrap.min.css set `[hidden] { display: none !important; }` so we also need the `!important` here to be able to override the default hidden behavior on the sphinx rendered scikit-learn.org. See: https://github.com/scikit-learn/scikit-learn/issues/21755 */display: inline-block !important;position: relative;}#sk-container-id-2 div.sk-text-repr-fallback {display: none;}</style><div id=\"sk-container-id-2\" class=\"sk-top-container\"><div class=\"sk-text-repr-fallback\"><pre>GridSearchCV(cv=5,\n",
       "             estimator=Pipeline(steps=[(&#x27;cvec&#x27;, CountVectorizer()),\n",
       "                                       (&#x27;logreg&#x27;, LogisticRegression())]),\n",
       "             param_grid={&#x27;cvec__max_df&#x27;: [0.45, 0.5, 0.55],\n",
       "                         &#x27;cvec__max_features&#x27;: [3000, 3500, 4000],\n",
       "                         &#x27;cvec__min_df&#x27;: [2, 3, 4],\n",
       "                         &#x27;cvec__ngram_range&#x27;: [(1, 2)],\n",
       "                         &#x27;cvec__stop_words&#x27;: [[&#x27;i&#x27;, &#x27;me&#x27;, &#x27;my&#x27;, &#x27;myself&#x27;, &#x27;we&#x27;,\n",
       "                                               &#x27;our&#x27;, &#x27;our&#x27;, &#x27;ourselv&#x27;, &#x27;you&#x27;,\n",
       "                                               &#x27;you&#x27;, &#x27;re&#x27;, &#x27;you&#x27;, &#x27;ve&#x27;, &#x27;you&#x27;,\n",
       "                                               &#x27;ll&#x27;, &#x27;you&#x27;, &#x27;d&#x27;, &#x27;your&#x27;, &#x27;your&#x27;,\n",
       "                                               &#x27;yourself&#x27;, &#x27;yourselv&#x27;, &#x27;he&#x27;,\n",
       "                                               &#x27;him&#x27;, &#x27;hi&#x27;, &#x27;himself&#x27;, &#x27;she&#x27;,\n",
       "                                               &#x27;she&#x27;, &#x27;s&#x27;, &#x27;her&#x27;, &#x27;her&#x27;, ...]],\n",
       "                         &#x27;logreg__C&#x27;: [0.05, 0.025, 0.01],\n",
       "                         &#x27;logreg__n_jobs&#x27;: [4]})</pre><b>In a Jupyter environment, please rerun this cell to show the HTML representation or trust the notebook. <br />On GitHub, the HTML representation is unable to render, please try loading this page with nbviewer.org.</b></div><div class=\"sk-container\" hidden><div class=\"sk-item sk-dashed-wrapped\"><div class=\"sk-label-container\"><div class=\"sk-label sk-toggleable\"><input class=\"sk-toggleable__control sk-hidden--visually\" id=\"sk-estimator-id-5\" type=\"checkbox\" ><label for=\"sk-estimator-id-5\" class=\"sk-toggleable__label sk-toggleable__label-arrow\">GridSearchCV</label><div class=\"sk-toggleable__content\"><pre>GridSearchCV(cv=5,\n",
       "             estimator=Pipeline(steps=[(&#x27;cvec&#x27;, CountVectorizer()),\n",
       "                                       (&#x27;logreg&#x27;, LogisticRegression())]),\n",
       "             param_grid={&#x27;cvec__max_df&#x27;: [0.45, 0.5, 0.55],\n",
       "                         &#x27;cvec__max_features&#x27;: [3000, 3500, 4000],\n",
       "                         &#x27;cvec__min_df&#x27;: [2, 3, 4],\n",
       "                         &#x27;cvec__ngram_range&#x27;: [(1, 2)],\n",
       "                         &#x27;cvec__stop_words&#x27;: [[&#x27;i&#x27;, &#x27;me&#x27;, &#x27;my&#x27;, &#x27;myself&#x27;, &#x27;we&#x27;,\n",
       "                                               &#x27;our&#x27;, &#x27;our&#x27;, &#x27;ourselv&#x27;, &#x27;you&#x27;,\n",
       "                                               &#x27;you&#x27;, &#x27;re&#x27;, &#x27;you&#x27;, &#x27;ve&#x27;, &#x27;you&#x27;,\n",
       "                                               &#x27;ll&#x27;, &#x27;you&#x27;, &#x27;d&#x27;, &#x27;your&#x27;, &#x27;your&#x27;,\n",
       "                                               &#x27;yourself&#x27;, &#x27;yourselv&#x27;, &#x27;he&#x27;,\n",
       "                                               &#x27;him&#x27;, &#x27;hi&#x27;, &#x27;himself&#x27;, &#x27;she&#x27;,\n",
       "                                               &#x27;she&#x27;, &#x27;s&#x27;, &#x27;her&#x27;, &#x27;her&#x27;, ...]],\n",
       "                         &#x27;logreg__C&#x27;: [0.05, 0.025, 0.01],\n",
       "                         &#x27;logreg__n_jobs&#x27;: [4]})</pre></div></div></div><div class=\"sk-parallel\"><div class=\"sk-parallel-item\"><div class=\"sk-item\"><div class=\"sk-label-container\"><div class=\"sk-label sk-toggleable\"><input class=\"sk-toggleable__control sk-hidden--visually\" id=\"sk-estimator-id-6\" type=\"checkbox\" ><label for=\"sk-estimator-id-6\" class=\"sk-toggleable__label sk-toggleable__label-arrow\">estimator: Pipeline</label><div class=\"sk-toggleable__content\"><pre>Pipeline(steps=[(&#x27;cvec&#x27;, CountVectorizer()), (&#x27;logreg&#x27;, LogisticRegression())])</pre></div></div></div><div class=\"sk-serial\"><div class=\"sk-item\"><div class=\"sk-serial\"><div class=\"sk-item\"><div class=\"sk-estimator sk-toggleable\"><input class=\"sk-toggleable__control sk-hidden--visually\" id=\"sk-estimator-id-7\" type=\"checkbox\" ><label for=\"sk-estimator-id-7\" class=\"sk-toggleable__label sk-toggleable__label-arrow\">CountVectorizer</label><div class=\"sk-toggleable__content\"><pre>CountVectorizer()</pre></div></div></div><div class=\"sk-item\"><div class=\"sk-estimator sk-toggleable\"><input class=\"sk-toggleable__control sk-hidden--visually\" id=\"sk-estimator-id-8\" type=\"checkbox\" ><label for=\"sk-estimator-id-8\" class=\"sk-toggleable__label sk-toggleable__label-arrow\">LogisticRegression</label><div class=\"sk-toggleable__content\"><pre>LogisticRegression()</pre></div></div></div></div></div></div></div></div></div></div></div></div>"
      ],
      "text/plain": [
       "GridSearchCV(cv=5,\n",
       "             estimator=Pipeline(steps=[('cvec', CountVectorizer()),\n",
       "                                       ('logreg', LogisticRegression())]),\n",
       "             param_grid={'cvec__max_df': [0.45, 0.5, 0.55],\n",
       "                         'cvec__max_features': [3000, 3500, 4000],\n",
       "                         'cvec__min_df': [2, 3, 4],\n",
       "                         'cvec__ngram_range': [(1, 2)],\n",
       "                         'cvec__stop_words': [['i', 'me', 'my', 'myself', 'we',\n",
       "                                               'our', 'our', 'ourselv', 'you',\n",
       "                                               'you', 're', 'you', 've', 'you',\n",
       "                                               'll', 'you', 'd', 'your', 'your',\n",
       "                                               'yourself', 'yourselv', 'he',\n",
       "                                               'him', 'hi', 'himself', 'she',\n",
       "                                               'she', 's', 'her', 'her', ...]],\n",
       "                         'logreg__C': [0.05, 0.025, 0.01],\n",
       "                         'logreg__n_jobs': [4]})"
      ]
     },
     "execution_count": 24,
     "metadata": {},
     "output_type": "execute_result"
    }
   ],
   "source": [
    "log_s_gs.fit(X_train_s, y_train_s)"
   ]
  },
  {
   "cell_type": "markdown",
   "id": "a70313e7-8588-4d29-be89-579314e34432",
   "metadata": {},
   "source": [
    "##### Best Parameters #####"
   ]
  },
  {
   "cell_type": "code",
   "execution_count": 25,
   "id": "a1b75cff-2e85-46d1-bc1f-e89c98fa645a",
   "metadata": {},
   "outputs": [
    {
     "data": {
      "text/plain": [
       "{'cvec__max_df': 0.5,\n",
       " 'cvec__max_features': 3000,\n",
       " 'cvec__min_df': 4,\n",
       " 'cvec__ngram_range': (1, 2),\n",
       " 'logreg__C': 0.025,\n",
       " 'logreg__n_jobs': 4}"
      ]
     },
     "execution_count": 25,
     "metadata": {},
     "output_type": "execute_result"
    }
   ],
   "source": [
    "log_s_gs.best_params_.pop('cvec__stop_words')\n",
    "log_s_gs.best_params_"
   ]
  },
  {
   "cell_type": "markdown",
   "id": "0fda9298-7056-48f9-be76-d886ae02944f",
   "metadata": {},
   "source": [
    "##### Model Performance Metrics #####"
   ]
  },
  {
   "cell_type": "code",
   "execution_count": 26,
   "id": "66381fac-68a0-43f9-8f96-fba227b3be00",
   "metadata": {},
   "outputs": [
    {
     "data": {
      "image/png": "[encoded data removed]",
      "text/plain": [
       "<Figure size 640x480 with 2 Axes>"
      ]
     },
     "metadata": {},
     "output_type": "display_data"
    }
   ],
   "source": [
    "ConfusionMatrixDisplay.from_estimator(log_s_gs, X_test_s, y_test_s, cmap = 'Purples');"
   ]
  },
  {
   "cell_type": "code",
   "execution_count": 27,
   "id": "4956490f-7df5-4d15-b9fe-0243562df7a1",
   "metadata": {},
   "outputs": [
    {
     "data": {
      "text/html": [
       "<div>\n",
       "<style scoped>\n",
       "    .dataframe tbody tr th:only-of-type {\n",
       "        vertical-align: middle;\n",
       "    }\n",
       "\n",
       "    .dataframe tbody tr th {\n",
       "        vertical-align: top;\n",
       "    }\n",
       "\n",
       "    .dataframe thead th {\n",
       "        text-align: right;\n",
       "    }\n",
       "</style>\n",
       "<table border=\"1\" class=\"dataframe\">\n",
       "  <thead>\n",
       "    <tr style=\"text-align: right;\">\n",
       "      <th></th>\n",
       "      <th>train_accuracy</th>\n",
       "      <th>accuracy</th>\n",
       "      <th>sensitivity</th>\n",
       "    </tr>\n",
       "  </thead>\n",
       "  <tbody>\n",
       "    <tr>\n",
       "      <th>0</th>\n",
       "      <td>0.993233</td>\n",
       "      <td>0.974474</td>\n",
       "      <td>0.974441</td>\n",
       "    </tr>\n",
       "  </tbody>\n",
       "</table>\n",
       "</div>"
      ],
      "text/plain": [
       "   train_accuracy  accuracy  sensitivity\n",
       "0        0.993233  0.974474     0.974441"
      ]
     },
     "execution_count": 27,
     "metadata": {},
     "output_type": "execute_result"
    }
   ],
   "source": [
    "log_s_metrics = model_stats(log_s_gs, 'log', 'c', 's')\n",
    "model_metrics.append(log_s_metrics)\n",
    "pd.DataFrame(log_s_metrics, index=[0])[['train_accuracy', 'accuracy','sensitivity']]"
   ]
  },
  {
   "cell_type": "markdown",
   "id": "3114ea47-2624-4c6e-8f6d-a7835cc815be",
   "metadata": {},
   "source": [
    "##### Model Performance Summary #####\n",
    "Stemming the corpus does appear to result in a boost inperformance. Our **accuracy** score improves to .974, compared to .968 from the model run without stemming. **Sensitivity** also gets a boost from from .962 to .974"
   ]
  },
  {
   "cell_type": "markdown",
   "id": "724a8548-6e4c-4751-8569-fe09e106b1a3",
   "metadata": {
    "tags": []
   },
   "source": [
    "#### 1.a.3. Crutch Words Allowed - CountVectorizer - Lemmatized Corpus ####"
   ]
  },
  {
   "cell_type": "markdown",
   "id": "53385546-edee-46b0-91f0-ef26eba4e7f2",
   "metadata": {},
   "source": [
    "##### Model Instantiation and Fitting #####"
   ]
  },
  {
   "cell_type": "code",
   "execution_count": 28,
   "id": "072a7c00-fd83-42dd-bccb-92b3e9387962",
   "metadata": {},
   "outputs": [],
   "source": [
    "log_l_pipe = Pipeline([\n",
    "    ('cvec', CountVectorizer()),\n",
    "    ('logreg', LogisticRegression())\n",
    "])"
   ]
  },
  {
   "cell_type": "code",
   "execution_count": 29,
   "id": "b6d6f913-f170-4f17-a6bf-850e0f444e3a",
   "metadata": {},
   "outputs": [],
   "source": [
    "log_l_pipe_params = {\n",
    "    'cvec__max_features': [4000, 4500, 5000],\n",
    "    'cvec__min_df': [1, 2, 3],\n",
    "    'cvec__max_df': [0.45, 0.5, 0.55],\n",
    "    'cvec__ngram_range': [(1,2)],\n",
    "    'cvec__stop_words': [eng_stopwords_lemmed],\n",
    "    'logreg__C': [0.05, 0.025, 0.01],\n",
    "    'logreg__n_jobs': [4]\n",
    "}"
   ]
  },
  {
   "cell_type": "code",
   "execution_count": 30,
   "id": "b0b7157b-fc12-4142-885a-258fe88c826c",
   "metadata": {},
   "outputs": [],
   "source": [
    "log_l_gs = GridSearchCV(log_l_pipe,\n",
    "                      param_grid = log_l_pipe_params,\n",
    "                      cv = 5)"
   ]
  },
  {
   "cell_type": "code",
   "execution_count": 31,
   "id": "991126d4-caa1-4284-8a48-e9c9e4b63397",
   "metadata": {},
   "outputs": [
    {
     "data": {
      "text/html": [
       "<style>#sk-container-id-3 {color: black;background-color: white;}#sk-container-id-3 pre{padding: 0;}#sk-container-id-3 div.sk-toggleable {background-color: white;}#sk-container-id-3 label.sk-toggleable__label {cursor: pointer;display: block;width: 100%;margin-bottom: 0;padding: 0.3em;box-sizing: border-box;text-align: center;}#sk-container-id-3 label.sk-toggleable__label-arrow:before {content: \"▸\";float: left;margin-right: 0.25em;color: #696969;}#sk-container-id-3 label.sk-toggleable__label-arrow:hover:before {color: black;}#sk-container-id-3 div.sk-estimator:hover label.sk-toggleable__label-arrow:before {color: black;}#sk-container-id-3 div.sk-toggleable__content {max-height: 0;max-width: 0;overflow: hidden;text-align: left;background-color: #f0f8ff;}#sk-container-id-3 div.sk-toggleable__content pre {margin: 0.2em;color: black;border-radius: 0.25em;background-color: #f0f8ff;}#sk-container-id-3 input.sk-toggleable__control:checked~div.sk-toggleable__content {max-height: 200px;max-width: 100%;overflow: auto;}#sk-container-id-3 input.sk-toggleable__control:checked~label.sk-toggleable__label-arrow:before {content: \"▾\";}#sk-container-id-3 div.sk-estimator input.sk-toggleable__control:checked~label.sk-toggleable__label {background-color: #d4ebff;}#sk-container-id-3 div.sk-label input.sk-toggleable__control:checked~label.sk-toggleable__label {background-color: #d4ebff;}#sk-container-id-3 input.sk-hidden--visually {border: 0;clip: rect(1px 1px 1px 1px);clip: rect(1px, 1px, 1px, 1px);height: 1px;margin: -1px;overflow: hidden;padding: 0;position: absolute;width: 1px;}#sk-container-id-3 div.sk-estimator {font-family: monospace;background-color: #f0f8ff;border: 1px dotted black;border-radius: 0.25em;box-sizing: border-box;margin-bottom: 0.5em;}#sk-container-id-3 div.sk-estimator:hover {background-color: #d4ebff;}#sk-container-id-3 div.sk-parallel-item::after {content: \"\";width: 100%;border-bottom: 1px solid gray;flex-grow: 1;}#sk-container-id-3 div.sk-label:hover label.sk-toggleable__label {background-color: #d4ebff;}#sk-container-id-3 div.sk-serial::before {content: \"\";position: absolute;border-left: 1px solid gray;box-sizing: border-box;top: 0;bottom: 0;left: 50%;z-index: 0;}#sk-container-id-3 div.sk-serial {display: flex;flex-direction: column;align-items: center;background-color: white;padding-right: 0.2em;padding-left: 0.2em;position: relative;}#sk-container-id-3 div.sk-item {position: relative;z-index: 1;}#sk-container-id-3 div.sk-parallel {display: flex;align-items: stretch;justify-content: center;background-color: white;position: relative;}#sk-container-id-3 div.sk-item::before, #sk-container-id-3 div.sk-parallel-item::before {content: \"\";position: absolute;border-left: 1px solid gray;box-sizing: border-box;top: 0;bottom: 0;left: 50%;z-index: -1;}#sk-container-id-3 div.sk-parallel-item {display: flex;flex-direction: column;z-index: 1;position: relative;background-color: white;}#sk-container-id-3 div.sk-parallel-item:first-child::after {align-self: flex-end;width: 50%;}#sk-container-id-3 div.sk-parallel-item:last-child::after {align-self: flex-start;width: 50%;}#sk-container-id-3 div.sk-parallel-item:only-child::after {width: 0;}#sk-container-id-3 div.sk-dashed-wrapped {border: 1px dashed gray;margin: 0 0.4em 0.5em 0.4em;box-sizing: border-box;padding-bottom: 0.4em;background-color: white;}#sk-container-id-3 div.sk-label label {font-family: monospace;font-weight: bold;display: inline-block;line-height: 1.2em;}#sk-container-id-3 div.sk-label-container {text-align: center;}#sk-container-id-3 div.sk-container {/* jupyter's `normalize.less` sets `[hidden] { display: none; }` but bootstrap.min.css set `[hidden] { display: none !important; }` so we also need the `!important` here to be able to override the default hidden behavior on the sphinx rendered scikit-learn.org. See: https://github.com/scikit-learn/scikit-learn/issues/21755 */display: inline-block !important;position: relative;}#sk-container-id-3 div.sk-text-repr-fallback {display: none;}</style><div id=\"sk-container-id-3\" class=\"sk-top-container\"><div class=\"sk-text-repr-fallback\"><pre>GridSearchCV(cv=5,\n",
       "             estimator=Pipeline(steps=[(&#x27;cvec&#x27;, CountVectorizer()),\n",
       "                                       (&#x27;logreg&#x27;, LogisticRegression())]),\n",
       "             param_grid={&#x27;cvec__max_df&#x27;: [0.45, 0.5, 0.55],\n",
       "                         &#x27;cvec__max_features&#x27;: [4000, 4500, 5000],\n",
       "                         &#x27;cvec__min_df&#x27;: [1, 2, 3],\n",
       "                         &#x27;cvec__ngram_range&#x27;: [(1, 2)],\n",
       "                         &#x27;cvec__stop_words&#x27;: [[&#x27;i&#x27;, &#x27;me&#x27;, &#x27;my&#x27;, &#x27;myself&#x27;, &#x27;we&#x27;,\n",
       "                                               &#x27;our&#x27;, &#x27;ours&#x27;, &#x27;ourselves&#x27;,\n",
       "                                               &#x27;you&#x27;, &#x27;you&#x27;, &#x27;re&#x27;, &#x27;you&#x27;, &#x27;ve&#x27;,\n",
       "                                               &#x27;you&#x27;, &#x27;ll&#x27;, &#x27;you&#x27;, &#x27;d&#x27;, &#x27;your&#x27;,\n",
       "                                               &#x27;yours&#x27;, &#x27;yourself&#x27;,\n",
       "                                               &#x27;yourselves&#x27;, &#x27;he&#x27;, &#x27;him&#x27;, &#x27;his&#x27;,\n",
       "                                               &#x27;himself&#x27;, &#x27;she&#x27;, &#x27;she&#x27;, &#x27;s&#x27;,\n",
       "                                               &#x27;her&#x27;, &#x27;hers&#x27;, ...]],\n",
       "                         &#x27;logreg__C&#x27;: [0.05, 0.025, 0.01],\n",
       "                         &#x27;logreg__n_jobs&#x27;: [4]})</pre><b>In a Jupyter environment, please rerun this cell to show the HTML representation or trust the notebook. <br />On GitHub, the HTML representation is unable to render, please try loading this page with nbviewer.org.</b></div><div class=\"sk-container\" hidden><div class=\"sk-item sk-dashed-wrapped\"><div class=\"sk-label-container\"><div class=\"sk-label sk-toggleable\"><input class=\"sk-toggleable__control sk-hidden--visually\" id=\"sk-estimator-id-9\" type=\"checkbox\" ><label for=\"sk-estimator-id-9\" class=\"sk-toggleable__label sk-toggleable__label-arrow\">GridSearchCV</label><div class=\"sk-toggleable__content\"><pre>GridSearchCV(cv=5,\n",
       "             estimator=Pipeline(steps=[(&#x27;cvec&#x27;, CountVectorizer()),\n",
       "                                       (&#x27;logreg&#x27;, LogisticRegression())]),\n",
       "             param_grid={&#x27;cvec__max_df&#x27;: [0.45, 0.5, 0.55],\n",
       "                         &#x27;cvec__max_features&#x27;: [4000, 4500, 5000],\n",
       "                         &#x27;cvec__min_df&#x27;: [1, 2, 3],\n",
       "                         &#x27;cvec__ngram_range&#x27;: [(1, 2)],\n",
       "                         &#x27;cvec__stop_words&#x27;: [[&#x27;i&#x27;, &#x27;me&#x27;, &#x27;my&#x27;, &#x27;myself&#x27;, &#x27;we&#x27;,\n",
       "                                               &#x27;our&#x27;, &#x27;ours&#x27;, &#x27;ourselves&#x27;,\n",
       "                                               &#x27;you&#x27;, &#x27;you&#x27;, &#x27;re&#x27;, &#x27;you&#x27;, &#x27;ve&#x27;,\n",
       "                                               &#x27;you&#x27;, &#x27;ll&#x27;, &#x27;you&#x27;, &#x27;d&#x27;, &#x27;your&#x27;,\n",
       "                                               &#x27;yours&#x27;, &#x27;yourself&#x27;,\n",
       "                                               &#x27;yourselves&#x27;, &#x27;he&#x27;, &#x27;him&#x27;, &#x27;his&#x27;,\n",
       "                                               &#x27;himself&#x27;, &#x27;she&#x27;, &#x27;she&#x27;, &#x27;s&#x27;,\n",
       "                                               &#x27;her&#x27;, &#x27;hers&#x27;, ...]],\n",
       "                         &#x27;logreg__C&#x27;: [0.05, 0.025, 0.01],\n",
       "                         &#x27;logreg__n_jobs&#x27;: [4]})</pre></div></div></div><div class=\"sk-parallel\"><div class=\"sk-parallel-item\"><div class=\"sk-item\"><div class=\"sk-label-container\"><div class=\"sk-label sk-toggleable\"><input class=\"sk-toggleable__control sk-hidden--visually\" id=\"sk-estimator-id-10\" type=\"checkbox\" ><label for=\"sk-estimator-id-10\" class=\"sk-toggleable__label sk-toggleable__label-arrow\">estimator: Pipeline</label><div class=\"sk-toggleable__content\"><pre>Pipeline(steps=[(&#x27;cvec&#x27;, CountVectorizer()), (&#x27;logreg&#x27;, LogisticRegression())])</pre></div></div></div><div class=\"sk-serial\"><div class=\"sk-item\"><div class=\"sk-serial\"><div class=\"sk-item\"><div class=\"sk-estimator sk-toggleable\"><input class=\"sk-toggleable__control sk-hidden--visually\" id=\"sk-estimator-id-11\" type=\"checkbox\" ><label for=\"sk-estimator-id-11\" class=\"sk-toggleable__label sk-toggleable__label-arrow\">CountVectorizer</label><div class=\"sk-toggleable__content\"><pre>CountVectorizer()</pre></div></div></div><div class=\"sk-item\"><div class=\"sk-estimator sk-toggleable\"><input class=\"sk-toggleable__control sk-hidden--visually\" id=\"sk-estimator-id-12\" type=\"checkbox\" ><label for=\"sk-estimator-id-12\" class=\"sk-toggleable__label sk-toggleable__label-arrow\">LogisticRegression</label><div class=\"sk-toggleable__content\"><pre>LogisticRegression()</pre></div></div></div></div></div></div></div></div></div></div></div></div>"
      ],
      "text/plain": [
       "GridSearchCV(cv=5,\n",
       "             estimator=Pipeline(steps=[('cvec', CountVectorizer()),\n",
       "                                       ('logreg', LogisticRegression())]),\n",
       "             param_grid={'cvec__max_df': [0.45, 0.5, 0.55],\n",
       "                         'cvec__max_features': [4000, 4500, 5000],\n",
       "                         'cvec__min_df': [1, 2, 3],\n",
       "                         'cvec__ngram_range': [(1, 2)],\n",
       "                         'cvec__stop_words': [['i', 'me', 'my', 'myself', 'we',\n",
       "                                               'our', 'ours', 'ourselves',\n",
       "                                               'you', 'you', 're', 'you', 've',\n",
       "                                               'you', 'll', 'you', 'd', 'your',\n",
       "                                               'yours', 'yourself',\n",
       "                                               'yourselves', 'he', 'him', 'his',\n",
       "                                               'himself', 'she', 'she', 's',\n",
       "                                               'her', 'hers', ...]],\n",
       "                         'logreg__C': [0.05, 0.025, 0.01],\n",
       "                         'logreg__n_jobs': [4]})"
      ]
     },
     "execution_count": 31,
     "metadata": {},
     "output_type": "execute_result"
    }
   ],
   "source": [
    "log_l_gs.fit(X_train_l, y_train_l)"
   ]
  },
  {
   "cell_type": "markdown",
   "id": "61ff8864-7e92-42bc-97d0-2ce473aecd04",
   "metadata": {},
   "source": [
    "##### Best Parameters #####"
   ]
  },
  {
   "cell_type": "code",
   "execution_count": 32,
   "id": "a4fdaa63-4690-436c-a06a-1886e46ae190",
   "metadata": {},
   "outputs": [
    {
     "data": {
      "text/plain": [
       "{'cvec__max_df': 0.5,\n",
       " 'cvec__max_features': 4500,\n",
       " 'cvec__min_df': 2,\n",
       " 'cvec__ngram_range': (1, 2),\n",
       " 'logreg__C': 0.025,\n",
       " 'logreg__n_jobs': 4}"
      ]
     },
     "execution_count": 32,
     "metadata": {},
     "output_type": "execute_result"
    }
   ],
   "source": [
    "log_l_gs.best_params_.pop('cvec__stop_words')\n",
    "log_l_gs.best_params_"
   ]
  },
  {
   "cell_type": "markdown",
   "id": "58894ac1-5ab8-4d9b-a2f4-47cebb464c3e",
   "metadata": {},
   "source": [
    "##### Model Performance Metrics #####"
   ]
  },
  {
   "cell_type": "code",
   "execution_count": 33,
   "id": "f8718bc8-6001-4437-a839-d76c7520653e",
   "metadata": {},
   "outputs": [
    {
     "data": {
      "image/png": "[encoded data removed]",
      "text/plain": [
       "<Figure size 640x480 with 2 Axes>"
      ]
     },
     "metadata": {},
     "output_type": "display_data"
    }
   ],
   "source": [
    "ConfusionMatrixDisplay.from_estimator(log_l_gs, X_test_l, y_test_l, cmap = 'Purples');"
   ]
  },
  {
   "cell_type": "code",
   "execution_count": 34,
   "id": "409e9773-211c-4ac5-b5fb-41639406f6ac",
   "metadata": {},
   "outputs": [
    {
     "data": {
      "text/html": [
       "<div>\n",
       "<style scoped>\n",
       "    .dataframe tbody tr th:only-of-type {\n",
       "        vertical-align: middle;\n",
       "    }\n",
       "\n",
       "    .dataframe tbody tr th {\n",
       "        vertical-align: top;\n",
       "    }\n",
       "\n",
       "    .dataframe thead th {\n",
       "        text-align: right;\n",
       "    }\n",
       "</style>\n",
       "<table border=\"1\" class=\"dataframe\">\n",
       "  <thead>\n",
       "    <tr style=\"text-align: right;\">\n",
       "      <th></th>\n",
       "      <th>train_accuracy</th>\n",
       "      <th>accuracy</th>\n",
       "      <th>sensitivity</th>\n",
       "    </tr>\n",
       "  </thead>\n",
       "  <tbody>\n",
       "    <tr>\n",
       "      <th>0</th>\n",
       "      <td>0.993233</td>\n",
       "      <td>0.968468</td>\n",
       "      <td>0.968051</td>\n",
       "    </tr>\n",
       "  </tbody>\n",
       "</table>\n",
       "</div>"
      ],
      "text/plain": [
       "   train_accuracy  accuracy  sensitivity\n",
       "0        0.993233  0.968468     0.968051"
      ]
     },
     "execution_count": 34,
     "metadata": {},
     "output_type": "execute_result"
    }
   ],
   "source": [
    "log_l_metrics = model_stats(log_l_gs, 'log', 'c', 'l')\n",
    "model_metrics.append(log_l_metrics)\n",
    "pd.DataFrame(log_l_metrics, index=[0])[['train_accuracy', 'accuracy','sensitivity']]"
   ]
  },
  {
   "cell_type": "markdown",
   "id": "fadf9a84-e58f-4b2f-91b1-550f20b1e5eb",
   "metadata": {},
   "source": [
    "##### Model Performance Summary #####\n",
    "Performance on the model for the **lemmatized** corpus falls between that of the model on the **stemmed** corpus and the **original**. Both **accuracy** and **sensitivity** scores fall in the middle of the three.\n",
    "\n",
    "The model on the **stemmed** corpus appears to be the best performer"
   ]
  },
  {
   "cell_type": "markdown",
   "id": "3dcbfd35-3608-4b03-a711-c67cfa01fef9",
   "metadata": {
    "tags": []
   },
   "source": [
    "#### 1.a.4. Crutch Words Allowed - TfidfVectorizer - Stemmed Corpus ####"
   ]
  },
  {
   "cell_type": "markdown",
   "id": "aa353cda-ebdd-4608-9b5a-da8a731c373a",
   "metadata": {},
   "source": [
    "The model on the **stemmed** corpus performed best of the previous three models, so that's what I will use for the **TfidfVectorizer** model "
   ]
  },
  {
   "cell_type": "markdown",
   "id": "b8f9c5bb-ae47-49f8-8d07-bfd678d1cab5",
   "metadata": {},
   "source": [
    "##### Model Instantiation and Fitting #####"
   ]
  },
  {
   "cell_type": "code",
   "execution_count": 35,
   "id": "78a41326-b9ab-4735-a66d-848918c65b04",
   "metadata": {},
   "outputs": [],
   "source": [
    "log_st_pipe = Pipeline([\n",
    "    ('tvec', TfidfVectorizer()),\n",
    "    ('logreg', LogisticRegression())\n",
    "])"
   ]
  },
  {
   "cell_type": "code",
   "execution_count": 36,
   "id": "2358c8e2-6259-403b-9feb-b97eca3e984f",
   "metadata": {},
   "outputs": [],
   "source": [
    "log_st_pipe_params = {\n",
    "    'tvec__max_features': [1500, 2000, 2500],\n",
    "    'tvec__min_df': [1, 2],\n",
    "    'tvec__max_df': [0.4, 0.5, 0.55],\n",
    "    'tvec__ngram_range': [(1,1), (1,2)],\n",
    "    'tvec__stop_words': [eng_stopwords_stemmed],\n",
    "    'logreg__C': [0.08, 0.1, 0.3, 0.5],\n",
    "    'logreg__n_jobs': [4]\n",
    "}"
   ]
  },
  {
   "cell_type": "code",
   "execution_count": 37,
   "id": "819ed3da-c6de-4af4-bfb4-755ad73d9103",
   "metadata": {},
   "outputs": [],
   "source": [
    "log_st_gs = GridSearchCV(log_st_pipe,\n",
    "                      param_grid = log_st_pipe_params,\n",
    "                      cv = 5)"
   ]
  },
  {
   "cell_type": "code",
   "execution_count": 38,
   "id": "0f642e09-9510-44eb-8e27-ce1f45112b22",
   "metadata": {},
   "outputs": [
    {
     "data": {
      "text/html": [
       "<style>#sk-container-id-4 {color: black;background-color: white;}#sk-container-id-4 pre{padding: 0;}#sk-container-id-4 div.sk-toggleable {background-color: white;}#sk-container-id-4 label.sk-toggleable__label {cursor: pointer;display: block;width: 100%;margin-bottom: 0;padding: 0.3em;box-sizing: border-box;text-align: center;}#sk-container-id-4 label.sk-toggleable__label-arrow:before {content: \"▸\";float: left;margin-right: 0.25em;color: #696969;}#sk-container-id-4 label.sk-toggleable__label-arrow:hover:before {color: black;}#sk-container-id-4 div.sk-estimator:hover label.sk-toggleable__label-arrow:before {color: black;}#sk-container-id-4 div.sk-toggleable__content {max-height: 0;max-width: 0;overflow: hidden;text-align: left;background-color: #f0f8ff;}#sk-container-id-4 div.sk-toggleable__content pre {margin: 0.2em;color: black;border-radius: 0.25em;background-color: #f0f8ff;}#sk-container-id-4 input.sk-toggleable__control:checked~div.sk-toggleable__content {max-height: 200px;max-width: 100%;overflow: auto;}#sk-container-id-4 input.sk-toggleable__control:checked~label.sk-toggleable__label-arrow:before {content: \"▾\";}#sk-container-id-4 div.sk-estimator input.sk-toggleable__control:checked~label.sk-toggleable__label {background-color: #d4ebff;}#sk-container-id-4 div.sk-label input.sk-toggleable__control:checked~label.sk-toggleable__label {background-color: #d4ebff;}#sk-container-id-4 input.sk-hidden--visually {border: 0;clip: rect(1px 1px 1px 1px);clip: rect(1px, 1px, 1px, 1px);height: 1px;margin: -1px;overflow: hidden;padding: 0;position: absolute;width: 1px;}#sk-container-id-4 div.sk-estimator {font-family: monospace;background-color: #f0f8ff;border: 1px dotted black;border-radius: 0.25em;box-sizing: border-box;margin-bottom: 0.5em;}#sk-container-id-4 div.sk-estimator:hover {background-color: #d4ebff;}#sk-container-id-4 div.sk-parallel-item::after {content: \"\";width: 100%;border-bottom: 1px solid gray;flex-grow: 1;}#sk-container-id-4 div.sk-label:hover label.sk-toggleable__label {background-color: #d4ebff;}#sk-container-id-4 div.sk-serial::before {content: \"\";position: absolute;border-left: 1px solid gray;box-sizing: border-box;top: 0;bottom: 0;left: 50%;z-index: 0;}#sk-container-id-4 div.sk-serial {display: flex;flex-direction: column;align-items: center;background-color: white;padding-right: 0.2em;padding-left: 0.2em;position: relative;}#sk-container-id-4 div.sk-item {position: relative;z-index: 1;}#sk-container-id-4 div.sk-parallel {display: flex;align-items: stretch;justify-content: center;background-color: white;position: relative;}#sk-container-id-4 div.sk-item::before, #sk-container-id-4 div.sk-parallel-item::before {content: \"\";position: absolute;border-left: 1px solid gray;box-sizing: border-box;top: 0;bottom: 0;left: 50%;z-index: -1;}#sk-container-id-4 div.sk-parallel-item {display: flex;flex-direction: column;z-index: 1;position: relative;background-color: white;}#sk-container-id-4 div.sk-parallel-item:first-child::after {align-self: flex-end;width: 50%;}#sk-container-id-4 div.sk-parallel-item:last-child::after {align-self: flex-start;width: 50%;}#sk-container-id-4 div.sk-parallel-item:only-child::after {width: 0;}#sk-container-id-4 div.sk-dashed-wrapped {border: 1px dashed gray;margin: 0 0.4em 0.5em 0.4em;box-sizing: border-box;padding-bottom: 0.4em;background-color: white;}#sk-container-id-4 div.sk-label label {font-family: monospace;font-weight: bold;display: inline-block;line-height: 1.2em;}#sk-container-id-4 div.sk-label-container {text-align: center;}#sk-container-id-4 div.sk-container {/* jupyter's `normalize.less` sets `[hidden] { display: none; }` but bootstrap.min.css set `[hidden] { display: none !important; }` so we also need the `!important` here to be able to override the default hidden behavior on the sphinx rendered scikit-learn.org. See: https://github.com/scikit-learn/scikit-learn/issues/21755 */display: inline-block !important;position: relative;}#sk-container-id-4 div.sk-text-repr-fallback {display: none;}</style><div id=\"sk-container-id-4\" class=\"sk-top-container\"><div class=\"sk-text-repr-fallback\"><pre>GridSearchCV(cv=5,\n",
       "             estimator=Pipeline(steps=[(&#x27;tvec&#x27;, TfidfVectorizer()),\n",
       "                                       (&#x27;logreg&#x27;, LogisticRegression())]),\n",
       "             param_grid={&#x27;logreg__C&#x27;: [0.08, 0.1, 0.3, 0.5],\n",
       "                         &#x27;logreg__n_jobs&#x27;: [4],\n",
       "                         &#x27;tvec__max_df&#x27;: [0.4, 0.5, 0.55],\n",
       "                         &#x27;tvec__max_features&#x27;: [1500, 2000, 2500],\n",
       "                         &#x27;tvec__min_df&#x27;: [1, 2],\n",
       "                         &#x27;tvec__ngram_range&#x27;: [(1, 1), (1, 2)],\n",
       "                         &#x27;tvec__stop_words&#x27;: [[&#x27;i&#x27;, &#x27;me&#x27;, &#x27;my&#x27;, &#x27;myself&#x27;, &#x27;we&#x27;,\n",
       "                                               &#x27;our&#x27;, &#x27;our&#x27;, &#x27;ourselv&#x27;, &#x27;you&#x27;,\n",
       "                                               &#x27;you&#x27;, &#x27;re&#x27;, &#x27;you&#x27;, &#x27;ve&#x27;, &#x27;you&#x27;,\n",
       "                                               &#x27;ll&#x27;, &#x27;you&#x27;, &#x27;d&#x27;, &#x27;your&#x27;, &#x27;your&#x27;,\n",
       "                                               &#x27;yourself&#x27;, &#x27;yourselv&#x27;, &#x27;he&#x27;,\n",
       "                                               &#x27;him&#x27;, &#x27;hi&#x27;, &#x27;himself&#x27;, &#x27;she&#x27;,\n",
       "                                               &#x27;she&#x27;, &#x27;s&#x27;, &#x27;her&#x27;, &#x27;her&#x27;, ...]]})</pre><b>In a Jupyter environment, please rerun this cell to show the HTML representation or trust the notebook. <br />On GitHub, the HTML representation is unable to render, please try loading this page with nbviewer.org.</b></div><div class=\"sk-container\" hidden><div class=\"sk-item sk-dashed-wrapped\"><div class=\"sk-label-container\"><div class=\"sk-label sk-toggleable\"><input class=\"sk-toggleable__control sk-hidden--visually\" id=\"sk-estimator-id-13\" type=\"checkbox\" ><label for=\"sk-estimator-id-13\" class=\"sk-toggleable__label sk-toggleable__label-arrow\">GridSearchCV</label><div class=\"sk-toggleable__content\"><pre>GridSearchCV(cv=5,\n",
       "             estimator=Pipeline(steps=[(&#x27;tvec&#x27;, TfidfVectorizer()),\n",
       "                                       (&#x27;logreg&#x27;, LogisticRegression())]),\n",
       "             param_grid={&#x27;logreg__C&#x27;: [0.08, 0.1, 0.3, 0.5],\n",
       "                         &#x27;logreg__n_jobs&#x27;: [4],\n",
       "                         &#x27;tvec__max_df&#x27;: [0.4, 0.5, 0.55],\n",
       "                         &#x27;tvec__max_features&#x27;: [1500, 2000, 2500],\n",
       "                         &#x27;tvec__min_df&#x27;: [1, 2],\n",
       "                         &#x27;tvec__ngram_range&#x27;: [(1, 1), (1, 2)],\n",
       "                         &#x27;tvec__stop_words&#x27;: [[&#x27;i&#x27;, &#x27;me&#x27;, &#x27;my&#x27;, &#x27;myself&#x27;, &#x27;we&#x27;,\n",
       "                                               &#x27;our&#x27;, &#x27;our&#x27;, &#x27;ourselv&#x27;, &#x27;you&#x27;,\n",
       "                                               &#x27;you&#x27;, &#x27;re&#x27;, &#x27;you&#x27;, &#x27;ve&#x27;, &#x27;you&#x27;,\n",
       "                                               &#x27;ll&#x27;, &#x27;you&#x27;, &#x27;d&#x27;, &#x27;your&#x27;, &#x27;your&#x27;,\n",
       "                                               &#x27;yourself&#x27;, &#x27;yourselv&#x27;, &#x27;he&#x27;,\n",
       "                                               &#x27;him&#x27;, &#x27;hi&#x27;, &#x27;himself&#x27;, &#x27;she&#x27;,\n",
       "                                               &#x27;she&#x27;, &#x27;s&#x27;, &#x27;her&#x27;, &#x27;her&#x27;, ...]]})</pre></div></div></div><div class=\"sk-parallel\"><div class=\"sk-parallel-item\"><div class=\"sk-item\"><div class=\"sk-label-container\"><div class=\"sk-label sk-toggleable\"><input class=\"sk-toggleable__control sk-hidden--visually\" id=\"sk-estimator-id-14\" type=\"checkbox\" ><label for=\"sk-estimator-id-14\" class=\"sk-toggleable__label sk-toggleable__label-arrow\">estimator: Pipeline</label><div class=\"sk-toggleable__content\"><pre>Pipeline(steps=[(&#x27;tvec&#x27;, TfidfVectorizer()), (&#x27;logreg&#x27;, LogisticRegression())])</pre></div></div></div><div class=\"sk-serial\"><div class=\"sk-item\"><div class=\"sk-serial\"><div class=\"sk-item\"><div class=\"sk-estimator sk-toggleable\"><input class=\"sk-toggleable__control sk-hidden--visually\" id=\"sk-estimator-id-15\" type=\"checkbox\" ><label for=\"sk-estimator-id-15\" class=\"sk-toggleable__label sk-toggleable__label-arrow\">TfidfVectorizer</label><div class=\"sk-toggleable__content\"><pre>TfidfVectorizer()</pre></div></div></div><div class=\"sk-item\"><div class=\"sk-estimator sk-toggleable\"><input class=\"sk-toggleable__control sk-hidden--visually\" id=\"sk-estimator-id-16\" type=\"checkbox\" ><label for=\"sk-estimator-id-16\" class=\"sk-toggleable__label sk-toggleable__label-arrow\">LogisticRegression</label><div class=\"sk-toggleable__content\"><pre>LogisticRegression()</pre></div></div></div></div></div></div></div></div></div></div></div></div>"
      ],
      "text/plain": [
       "GridSearchCV(cv=5,\n",
       "             estimator=Pipeline(steps=[('tvec', TfidfVectorizer()),\n",
       "                                       ('logreg', LogisticRegression())]),\n",
       "             param_grid={'logreg__C': [0.08, 0.1, 0.3, 0.5],\n",
       "                         'logreg__n_jobs': [4],\n",
       "                         'tvec__max_df': [0.4, 0.5, 0.55],\n",
       "                         'tvec__max_features': [1500, 2000, 2500],\n",
       "                         'tvec__min_df': [1, 2],\n",
       "                         'tvec__ngram_range': [(1, 1), (1, 2)],\n",
       "                         'tvec__stop_words': [['i', 'me', 'my', 'myself', 'we',\n",
       "                                               'our', 'our', 'ourselv', 'you',\n",
       "                                               'you', 're', 'you', 've', 'you',\n",
       "                                               'll', 'you', 'd', 'your', 'your',\n",
       "                                               'yourself', 'yourselv', 'he',\n",
       "                                               'him', 'hi', 'himself', 'she',\n",
       "                                               'she', 's', 'her', 'her', ...]]})"
      ]
     },
     "execution_count": 38,
     "metadata": {},
     "output_type": "execute_result"
    }
   ],
   "source": [
    "log_st_gs.fit(X_train_s, y_train_s)"
   ]
  },
  {
   "cell_type": "markdown",
   "id": "b7f41069-fe49-45ac-b8c8-855d3afebf6d",
   "metadata": {},
   "source": [
    "##### Best Parameters #####"
   ]
  },
  {
   "cell_type": "code",
   "execution_count": 39,
   "id": "2955186c-70db-42bd-87f1-f50c7bdef4c6",
   "metadata": {},
   "outputs": [
    {
     "data": {
      "text/plain": [
       "{'logreg__C': 0.3,\n",
       " 'logreg__n_jobs': 4,\n",
       " 'tvec__max_df': 0.5,\n",
       " 'tvec__max_features': 2500,\n",
       " 'tvec__min_df': 1,\n",
       " 'tvec__ngram_range': (1, 2)}"
      ]
     },
     "execution_count": 39,
     "metadata": {},
     "output_type": "execute_result"
    }
   ],
   "source": [
    "log_st_gs.best_params_.pop('tvec__stop_words')\n",
    "log_st_gs.best_params_"
   ]
  },
  {
   "cell_type": "markdown",
   "id": "efdab493-429f-4849-b1f5-5490efa5837f",
   "metadata": {},
   "source": [
    "##### Model Performance Metrics #####"
   ]
  },
  {
   "cell_type": "code",
   "execution_count": 40,
   "id": "f8523e6a-597a-49e5-88f0-01ade691c3c0",
   "metadata": {},
   "outputs": [
    {
     "data": {
      "image/png": "[encoded data removed]",
      "text/plain": [
       "<Figure size 640x480 with 2 Axes>"
      ]
     },
     "metadata": {},
     "output_type": "display_data"
    }
   ],
   "source": [
    "ConfusionMatrixDisplay.from_estimator(log_st_gs, X_test_s, y_test_s, cmap = 'Purples');"
   ]
  },
  {
   "cell_type": "code",
   "execution_count": 41,
   "id": "d073a761-8ffc-42a3-a52a-00fc796ea346",
   "metadata": {},
   "outputs": [
    {
     "data": {
      "text/html": [
       "<div>\n",
       "<style scoped>\n",
       "    .dataframe tbody tr th:only-of-type {\n",
       "        vertical-align: middle;\n",
       "    }\n",
       "\n",
       "    .dataframe tbody tr th {\n",
       "        vertical-align: top;\n",
       "    }\n",
       "\n",
       "    .dataframe thead th {\n",
       "        text-align: right;\n",
       "    }\n",
       "</style>\n",
       "<table border=\"1\" class=\"dataframe\">\n",
       "  <thead>\n",
       "    <tr style=\"text-align: right;\">\n",
       "      <th></th>\n",
       "      <th>train_accuracy</th>\n",
       "      <th>accuracy</th>\n",
       "      <th>sensitivity</th>\n",
       "    </tr>\n",
       "  </thead>\n",
       "  <tbody>\n",
       "    <tr>\n",
       "      <th>0</th>\n",
       "      <td>0.989474</td>\n",
       "      <td>0.978979</td>\n",
       "      <td>0.980831</td>\n",
       "    </tr>\n",
       "  </tbody>\n",
       "</table>\n",
       "</div>"
      ],
      "text/plain": [
       "   train_accuracy  accuracy  sensitivity\n",
       "0        0.989474  0.978979     0.980831"
      ]
     },
     "execution_count": 41,
     "metadata": {},
     "output_type": "execute_result"
    }
   ],
   "source": [
    "log_st_metrics = model_stats(log_st_gs, 'log', 't', 's')\n",
    "model_metrics.append(log_st_metrics)\n",
    "pd.DataFrame(log_st_metrics, index=[0])[['train_accuracy', 'accuracy','sensitivity']]"
   ]
  },
  {
   "cell_type": "markdown",
   "id": "f130a50b-07df-4f38-befb-a45f786a75f2",
   "metadata": {
    "tags": []
   },
   "source": [
    "##### Model Performance Summary #####\n",
    "The **TfidfVectorizer** does appear to provide a performance boost over the **CountVectorizer**. Our **accuracy** score is up to .979, and our **sensitivity** is up to .981, with only 6 false negatives predictions on the test data"
   ]
  },
  {
   "cell_type": "markdown",
   "id": "dfe4cd89-616a-4517-a6f4-6299b072ce05",
   "metadata": {
    "tags": []
   },
   "source": [
    "#### 1.b.1. Crutch Words Removed - CountVectorizer - Original Corpus ####"
   ]
  },
  {
   "cell_type": "markdown",
   "id": "870b254e-e5a1-4459-8ef1-4a484ddc1746",
   "metadata": {},
   "source": [
    "##### Model Instantiation and Fitting #####"
   ]
  },
  {
   "cell_type": "code",
   "execution_count": 42,
   "id": "3418593a-2902-49f1-b928-8fd861e2aa0d",
   "metadata": {},
   "outputs": [],
   "source": [
    "log_oc_pipe = Pipeline([\n",
    "    ('cvec', CountVectorizer()),\n",
    "    ('logreg', LogisticRegression())\n",
    "])"
   ]
  },
  {
   "cell_type": "code",
   "execution_count": 43,
   "id": "6f54bd89-c64e-4227-af17-4439593fff43",
   "metadata": {},
   "outputs": [],
   "source": [
    "log_oc_pipe_params = {\n",
    "    'cvec__max_features': [4000, 5000, 6000],\n",
    "    'cvec__min_df': [3, 4, 5],\n",
    "    'cvec__max_df': [0.6, 0.65, 0.7],\n",
    "    'cvec__ngram_range': [(1,2)],\n",
    "    'cvec__stop_words': [crutch_words_eng],\n",
    "    'logreg__C': [0.5, 0.25, 0.1],\n",
    "    'logreg__n_jobs': [4]\n",
    "}"
   ]
  },
  {
   "cell_type": "code",
   "execution_count": 44,
   "id": "0d2267d3-92f6-499b-9a0f-01525fe9dc95",
   "metadata": {},
   "outputs": [],
   "source": [
    "log_oc_gs = GridSearchCV(log_oc_pipe,\n",
    "                      param_grid = log_oc_pipe_params,\n",
    "                      cv = 5)"
   ]
  },
  {
   "cell_type": "code",
   "execution_count": 45,
   "id": "d98e4834-c817-4db9-896b-5c420da4b08c",
   "metadata": {},
   "outputs": [
    {
     "data": {
      "text/html": [
       "<style>#sk-container-id-5 {color: black;background-color: white;}#sk-container-id-5 pre{padding: 0;}#sk-container-id-5 div.sk-toggleable {background-color: white;}#sk-container-id-5 label.sk-toggleable__label {cursor: pointer;display: block;width: 100%;margin-bottom: 0;padding: 0.3em;box-sizing: border-box;text-align: center;}#sk-container-id-5 label.sk-toggleable__label-arrow:before {content: \"▸\";float: left;margin-right: 0.25em;color: #696969;}#sk-container-id-5 label.sk-toggleable__label-arrow:hover:before {color: black;}#sk-container-id-5 div.sk-estimator:hover label.sk-toggleable__label-arrow:before {color: black;}#sk-container-id-5 div.sk-toggleable__content {max-height: 0;max-width: 0;overflow: hidden;text-align: left;background-color: #f0f8ff;}#sk-container-id-5 div.sk-toggleable__content pre {margin: 0.2em;color: black;border-radius: 0.25em;background-color: #f0f8ff;}#sk-container-id-5 input.sk-toggleable__control:checked~div.sk-toggleable__content {max-height: 200px;max-width: 100%;overflow: auto;}#sk-container-id-5 input.sk-toggleable__control:checked~label.sk-toggleable__label-arrow:before {content: \"▾\";}#sk-container-id-5 div.sk-estimator input.sk-toggleable__control:checked~label.sk-toggleable__label {background-color: #d4ebff;}#sk-container-id-5 div.sk-label input.sk-toggleable__control:checked~label.sk-toggleable__label {background-color: #d4ebff;}#sk-container-id-5 input.sk-hidden--visually {border: 0;clip: rect(1px 1px 1px 1px);clip: rect(1px, 1px, 1px, 1px);height: 1px;margin: -1px;overflow: hidden;padding: 0;position: absolute;width: 1px;}#sk-container-id-5 div.sk-estimator {font-family: monospace;background-color: #f0f8ff;border: 1px dotted black;border-radius: 0.25em;box-sizing: border-box;margin-bottom: 0.5em;}#sk-container-id-5 div.sk-estimator:hover {background-color: #d4ebff;}#sk-container-id-5 div.sk-parallel-item::after {content: \"\";width: 100%;border-bottom: 1px solid gray;flex-grow: 1;}#sk-container-id-5 div.sk-label:hover label.sk-toggleable__label {background-color: #d4ebff;}#sk-container-id-5 div.sk-serial::before {content: \"\";position: absolute;border-left: 1px solid gray;box-sizing: border-box;top: 0;bottom: 0;left: 50%;z-index: 0;}#sk-container-id-5 div.sk-serial {display: flex;flex-direction: column;align-items: center;background-color: white;padding-right: 0.2em;padding-left: 0.2em;position: relative;}#sk-container-id-5 div.sk-item {position: relative;z-index: 1;}#sk-container-id-5 div.sk-parallel {display: flex;align-items: stretch;justify-content: center;background-color: white;position: relative;}#sk-container-id-5 div.sk-item::before, #sk-container-id-5 div.sk-parallel-item::before {content: \"\";position: absolute;border-left: 1px solid gray;box-sizing: border-box;top: 0;bottom: 0;left: 50%;z-index: -1;}#sk-container-id-5 div.sk-parallel-item {display: flex;flex-direction: column;z-index: 1;position: relative;background-color: white;}#sk-container-id-5 div.sk-parallel-item:first-child::after {align-self: flex-end;width: 50%;}#sk-container-id-5 div.sk-parallel-item:last-child::after {align-self: flex-start;width: 50%;}#sk-container-id-5 div.sk-parallel-item:only-child::after {width: 0;}#sk-container-id-5 div.sk-dashed-wrapped {border: 1px dashed gray;margin: 0 0.4em 0.5em 0.4em;box-sizing: border-box;padding-bottom: 0.4em;background-color: white;}#sk-container-id-5 div.sk-label label {font-family: monospace;font-weight: bold;display: inline-block;line-height: 1.2em;}#sk-container-id-5 div.sk-label-container {text-align: center;}#sk-container-id-5 div.sk-container {/* jupyter's `normalize.less` sets `[hidden] { display: none; }` but bootstrap.min.css set `[hidden] { display: none !important; }` so we also need the `!important` here to be able to override the default hidden behavior on the sphinx rendered scikit-learn.org. See: https://github.com/scikit-learn/scikit-learn/issues/21755 */display: inline-block !important;position: relative;}#sk-container-id-5 div.sk-text-repr-fallback {display: none;}</style><div id=\"sk-container-id-5\" class=\"sk-top-container\"><div class=\"sk-text-repr-fallback\"><pre>GridSearchCV(cv=5,\n",
       "             estimator=Pipeline(steps=[(&#x27;cvec&#x27;, CountVectorizer()),\n",
       "                                       (&#x27;logreg&#x27;, LogisticRegression())]),\n",
       "             param_grid={&#x27;cvec__max_df&#x27;: [0.6, 0.65, 0.7],\n",
       "                         &#x27;cvec__max_features&#x27;: [4000, 5000, 6000],\n",
       "                         &#x27;cvec__min_df&#x27;: [3, 4, 5],\n",
       "                         &#x27;cvec__ngram_range&#x27;: [(1, 2)],\n",
       "                         &#x27;cvec__stop_words&#x27;: [[&#x27;i&#x27;, &#x27;me&#x27;, &#x27;my&#x27;, &#x27;myself&#x27;, &#x27;we&#x27;,\n",
       "                                               &#x27;our&#x27;, &#x27;ours&#x27;, &#x27;ourselves&#x27;,\n",
       "                                               &#x27;you&#x27;, &quot;you&#x27;re&quot;, &quot;you&#x27;ve&quot;,\n",
       "                                               &quot;you&#x27;ll&quot;, &quot;you&#x27;d&quot;, &#x27;your&#x27;,\n",
       "                                               &#x27;yours&#x27;, &#x27;yourself&#x27;,\n",
       "                                               &#x27;yourselves&#x27;, &#x27;he&#x27;, &#x27;him&#x27;, &#x27;his&#x27;,\n",
       "                                               &#x27;himself&#x27;, &#x27;she&#x27;, &quot;she&#x27;s&quot;, &#x27;her&#x27;,\n",
       "                                               &#x27;hers&#x27;, &#x27;herself&#x27;, &#x27;it&#x27;, &quot;it&#x27;s&quot;,\n",
       "                                               &#x27;its&#x27;, &#x27;itself&#x27;, ...]],\n",
       "                         &#x27;logreg__C&#x27;: [0.5, 0.25, 0.1], &#x27;logreg__n_jobs&#x27;: [4]})</pre><b>In a Jupyter environment, please rerun this cell to show the HTML representation or trust the notebook. <br />On GitHub, the HTML representation is unable to render, please try loading this page with nbviewer.org.</b></div><div class=\"sk-container\" hidden><div class=\"sk-item sk-dashed-wrapped\"><div class=\"sk-label-container\"><div class=\"sk-label sk-toggleable\"><input class=\"sk-toggleable__control sk-hidden--visually\" id=\"sk-estimator-id-17\" type=\"checkbox\" ><label for=\"sk-estimator-id-17\" class=\"sk-toggleable__label sk-toggleable__label-arrow\">GridSearchCV</label><div class=\"sk-toggleable__content\"><pre>GridSearchCV(cv=5,\n",
       "             estimator=Pipeline(steps=[(&#x27;cvec&#x27;, CountVectorizer()),\n",
       "                                       (&#x27;logreg&#x27;, LogisticRegression())]),\n",
       "             param_grid={&#x27;cvec__max_df&#x27;: [0.6, 0.65, 0.7],\n",
       "                         &#x27;cvec__max_features&#x27;: [4000, 5000, 6000],\n",
       "                         &#x27;cvec__min_df&#x27;: [3, 4, 5],\n",
       "                         &#x27;cvec__ngram_range&#x27;: [(1, 2)],\n",
       "                         &#x27;cvec__stop_words&#x27;: [[&#x27;i&#x27;, &#x27;me&#x27;, &#x27;my&#x27;, &#x27;myself&#x27;, &#x27;we&#x27;,\n",
       "                                               &#x27;our&#x27;, &#x27;ours&#x27;, &#x27;ourselves&#x27;,\n",
       "                                               &#x27;you&#x27;, &quot;you&#x27;re&quot;, &quot;you&#x27;ve&quot;,\n",
       "                                               &quot;you&#x27;ll&quot;, &quot;you&#x27;d&quot;, &#x27;your&#x27;,\n",
       "                                               &#x27;yours&#x27;, &#x27;yourself&#x27;,\n",
       "                                               &#x27;yourselves&#x27;, &#x27;he&#x27;, &#x27;him&#x27;, &#x27;his&#x27;,\n",
       "                                               &#x27;himself&#x27;, &#x27;she&#x27;, &quot;she&#x27;s&quot;, &#x27;her&#x27;,\n",
       "                                               &#x27;hers&#x27;, &#x27;herself&#x27;, &#x27;it&#x27;, &quot;it&#x27;s&quot;,\n",
       "                                               &#x27;its&#x27;, &#x27;itself&#x27;, ...]],\n",
       "                         &#x27;logreg__C&#x27;: [0.5, 0.25, 0.1], &#x27;logreg__n_jobs&#x27;: [4]})</pre></div></div></div><div class=\"sk-parallel\"><div class=\"sk-parallel-item\"><div class=\"sk-item\"><div class=\"sk-label-container\"><div class=\"sk-label sk-toggleable\"><input class=\"sk-toggleable__control sk-hidden--visually\" id=\"sk-estimator-id-18\" type=\"checkbox\" ><label for=\"sk-estimator-id-18\" class=\"sk-toggleable__label sk-toggleable__label-arrow\">estimator: Pipeline</label><div class=\"sk-toggleable__content\"><pre>Pipeline(steps=[(&#x27;cvec&#x27;, CountVectorizer()), (&#x27;logreg&#x27;, LogisticRegression())])</pre></div></div></div><div class=\"sk-serial\"><div class=\"sk-item\"><div class=\"sk-serial\"><div class=\"sk-item\"><div class=\"sk-estimator sk-toggleable\"><input class=\"sk-toggleable__control sk-hidden--visually\" id=\"sk-estimator-id-19\" type=\"checkbox\" ><label for=\"sk-estimator-id-19\" class=\"sk-toggleable__label sk-toggleable__label-arrow\">CountVectorizer</label><div class=\"sk-toggleable__content\"><pre>CountVectorizer()</pre></div></div></div><div class=\"sk-item\"><div class=\"sk-estimator sk-toggleable\"><input class=\"sk-toggleable__control sk-hidden--visually\" id=\"sk-estimator-id-20\" type=\"checkbox\" ><label for=\"sk-estimator-id-20\" class=\"sk-toggleable__label sk-toggleable__label-arrow\">LogisticRegression</label><div class=\"sk-toggleable__content\"><pre>LogisticRegression()</pre></div></div></div></div></div></div></div></div></div></div></div></div>"
      ],
      "text/plain": [
       "GridSearchCV(cv=5,\n",
       "             estimator=Pipeline(steps=[('cvec', CountVectorizer()),\n",
       "                                       ('logreg', LogisticRegression())]),\n",
       "             param_grid={'cvec__max_df': [0.6, 0.65, 0.7],\n",
       "                         'cvec__max_features': [4000, 5000, 6000],\n",
       "                         'cvec__min_df': [3, 4, 5],\n",
       "                         'cvec__ngram_range': [(1, 2)],\n",
       "                         'cvec__stop_words': [['i', 'me', 'my', 'myself', 'we',\n",
       "                                               'our', 'ours', 'ourselves',\n",
       "                                               'you', \"you're\", \"you've\",\n",
       "                                               \"you'll\", \"you'd\", 'your',\n",
       "                                               'yours', 'yourself',\n",
       "                                               'yourselves', 'he', 'him', 'his',\n",
       "                                               'himself', 'she', \"she's\", 'her',\n",
       "                                               'hers', 'herself', 'it', \"it's\",\n",
       "                                               'its', 'itself', ...]],\n",
       "                         'logreg__C': [0.5, 0.25, 0.1], 'logreg__n_jobs': [4]})"
      ]
     },
     "execution_count": 45,
     "metadata": {},
     "output_type": "execute_result"
    }
   ],
   "source": [
    "log_oc_gs.fit(X_train, y_train)"
   ]
  },
  {
   "cell_type": "markdown",
   "id": "37f5b3e5-4a7e-41f6-8bc4-95acc3dac624",
   "metadata": {},
   "source": [
    "##### Best Parameters #####"
   ]
  },
  {
   "cell_type": "code",
   "execution_count": 46,
   "id": "a2479072-552c-4227-a5a1-b215d7135770",
   "metadata": {},
   "outputs": [
    {
     "data": {
      "text/plain": [
       "{'cvec__max_df': 0.6,\n",
       " 'cvec__max_features': 6000,\n",
       " 'cvec__min_df': 4,\n",
       " 'cvec__ngram_range': (1, 2),\n",
       " 'logreg__C': 0.1,\n",
       " 'logreg__n_jobs': 4}"
      ]
     },
     "execution_count": 46,
     "metadata": {},
     "output_type": "execute_result"
    }
   ],
   "source": [
    "log_oc_gs.best_params_.pop('cvec__stop_words')\n",
    "log_oc_gs.best_params_"
   ]
  },
  {
   "cell_type": "markdown",
   "id": "f25cb2ce-7707-45fa-a3fe-a0310b08888e",
   "metadata": {},
   "source": [
    "##### Model Performance Metrics #####"
   ]
  },
  {
   "cell_type": "code",
   "execution_count": 47,
   "id": "9a12ccc4-6cde-45ca-b79b-592497461c91",
   "metadata": {
    "tags": []
   },
   "outputs": [
    {
     "data": {
      "image/png": "[encoded data removed]",
      "text/plain": [
       "<Figure size 640x480 with 2 Axes>"
      ]
     },
     "metadata": {},
     "output_type": "display_data"
    }
   ],
   "source": [
    "ConfusionMatrixDisplay.from_estimator(log_oc_gs, X_test, y_test, cmap = 'Purples');"
   ]
  },
  {
   "cell_type": "code",
   "execution_count": 48,
   "id": "f5af6744-9ed1-4fc5-8cbb-bbfe525bcde6",
   "metadata": {},
   "outputs": [
    {
     "data": {
      "text/html": [
       "<div>\n",
       "<style scoped>\n",
       "    .dataframe tbody tr th:only-of-type {\n",
       "        vertical-align: middle;\n",
       "    }\n",
       "\n",
       "    .dataframe tbody tr th {\n",
       "        vertical-align: top;\n",
       "    }\n",
       "\n",
       "    .dataframe thead th {\n",
       "        text-align: right;\n",
       "    }\n",
       "</style>\n",
       "<table border=\"1\" class=\"dataframe\">\n",
       "  <thead>\n",
       "    <tr style=\"text-align: right;\">\n",
       "      <th></th>\n",
       "      <th>train_accuracy</th>\n",
       "      <th>accuracy</th>\n",
       "      <th>sensitivity</th>\n",
       "    </tr>\n",
       "  </thead>\n",
       "  <tbody>\n",
       "    <tr>\n",
       "      <th>0</th>\n",
       "      <td>0.991729</td>\n",
       "      <td>0.926426</td>\n",
       "      <td>0.872204</td>\n",
       "    </tr>\n",
       "  </tbody>\n",
       "</table>\n",
       "</div>"
      ],
      "text/plain": [
       "   train_accuracy  accuracy  sensitivity\n",
       "0        0.991729  0.926426     0.872204"
      ]
     },
     "execution_count": 48,
     "metadata": {},
     "output_type": "execute_result"
    }
   ],
   "source": [
    "log_oc_metrics = model_stats(log_oc_gs, 'log', 'c', 'o', crutch_words=True)\n",
    "model_metrics.append(log_oc_metrics)\n",
    "pd.DataFrame(log_oc_metrics, index=[0])[['train_accuracy', 'accuracy','sensitivity']]"
   ]
  },
  {
   "cell_type": "markdown",
   "id": "d601c744-dc30-424a-95cd-1eac48904b17",
   "metadata": {},
   "source": [
    "##### Model Performance Summary #####\n",
    "\n",
    "While this model is still a strong improvement from the baseline, comparing to the previous logistic regression models shows a very marked negative impact on model performance from the removal of the **crutch words**.\n",
    "\n",
    "Worse still, much of the drop in performance is along the metric we care most about, **sensitivity**. This model produced almost four times as many false negatives on the test set as the comparable model without **crutch words** removed.\n",
    "\n",
    "The **variance** on this model is also high compared to the models with **crutch words** allowed. Interestingly, the best value for the regularization parameter **C** chosen by **GridSearch** was relatively high. It might be possible to eke a little more performance out of this model by honing in further on that parameter.\n",
    "\n",
    "Clearly, removing the **crutch words** imparts a significant handicap on model performance"
   ]
  },
  {
   "cell_type": "markdown",
   "id": "b3b1f81d-46e3-4519-ae2d-866905235822",
   "metadata": {
    "tags": []
   },
   "source": [
    "#### 1.b.2. Crutch Words Removed - CountVectorizer - Stemmed Corpus ####"
   ]
  },
  {
   "cell_type": "markdown",
   "id": "ba6c52e3-3d74-4504-abd4-03b7d6568c53",
   "metadata": {},
   "source": [
    "##### Model Instantiation and Fitting #####"
   ]
  },
  {
   "cell_type": "code",
   "execution_count": 49,
   "id": "25d7073d-6929-469e-8ae6-ad7e302bbbc4",
   "metadata": {},
   "outputs": [],
   "source": [
    "log_sc_pipe = Pipeline([\n",
    "    ('cvec', CountVectorizer()),\n",
    "    ('logreg', LogisticRegression())\n",
    "])"
   ]
  },
  {
   "cell_type": "code",
   "execution_count": 50,
   "id": "7977b469-24df-47f0-8e00-82807d7b415e",
   "metadata": {},
   "outputs": [],
   "source": [
    "log_sc_pipe_params = {\n",
    "    'cvec__max_features': [5000, 6000, 7000],\n",
    "    'cvec__min_df': [2, 3, 4],\n",
    "    'cvec__max_df': [0.5, 0.55, 0.6],\n",
    "    'cvec__ngram_range': [(1,2)],\n",
    "    'cvec__stop_words': [crutch_words_stemmed],\n",
    "    'logreg__C': [0.7, 0.6, 0.5, 0.4],\n",
    "    'logreg__n_jobs': [4]\n",
    "}"
   ]
  },
  {
   "cell_type": "code",
   "execution_count": 51,
   "id": "bbcceaed-9ab7-4207-9e7c-de6757025363",
   "metadata": {},
   "outputs": [],
   "source": [
    "log_sc_gs = GridSearchCV(log_sc_pipe,\n",
    "                      param_grid = log_sc_pipe_params,\n",
    "                      cv = 5)"
   ]
  },
  {
   "cell_type": "code",
   "execution_count": 52,
   "id": "6b1e33e5-73d7-4f60-99a6-93a387d81426",
   "metadata": {},
   "outputs": [
    {
     "data": {
      "text/html": [
       "<style>#sk-container-id-6 {color: black;background-color: white;}#sk-container-id-6 pre{padding: 0;}#sk-container-id-6 div.sk-toggleable {background-color: white;}#sk-container-id-6 label.sk-toggleable__label {cursor: pointer;display: block;width: 100%;margin-bottom: 0;padding: 0.3em;box-sizing: border-box;text-align: center;}#sk-container-id-6 label.sk-toggleable__label-arrow:before {content: \"▸\";float: left;margin-right: 0.25em;color: #696969;}#sk-container-id-6 label.sk-toggleable__label-arrow:hover:before {color: black;}#sk-container-id-6 div.sk-estimator:hover label.sk-toggleable__label-arrow:before {color: black;}#sk-container-id-6 div.sk-toggleable__content {max-height: 0;max-width: 0;overflow: hidden;text-align: left;background-color: #f0f8ff;}#sk-container-id-6 div.sk-toggleable__content pre {margin: 0.2em;color: black;border-radius: 0.25em;background-color: #f0f8ff;}#sk-container-id-6 input.sk-toggleable__control:checked~div.sk-toggleable__content {max-height: 200px;max-width: 100%;overflow: auto;}#sk-container-id-6 input.sk-toggleable__control:checked~label.sk-toggleable__label-arrow:before {content: \"▾\";}#sk-container-id-6 div.sk-estimator input.sk-toggleable__control:checked~label.sk-toggleable__label {background-color: #d4ebff;}#sk-container-id-6 div.sk-label input.sk-toggleable__control:checked~label.sk-toggleable__label {background-color: #d4ebff;}#sk-container-id-6 input.sk-hidden--visually {border: 0;clip: rect(1px 1px 1px 1px);clip: rect(1px, 1px, 1px, 1px);height: 1px;margin: -1px;overflow: hidden;padding: 0;position: absolute;width: 1px;}#sk-container-id-6 div.sk-estimator {font-family: monospace;background-color: #f0f8ff;border: 1px dotted black;border-radius: 0.25em;box-sizing: border-box;margin-bottom: 0.5em;}#sk-container-id-6 div.sk-estimator:hover {background-color: #d4ebff;}#sk-container-id-6 div.sk-parallel-item::after {content: \"\";width: 100%;border-bottom: 1px solid gray;flex-grow: 1;}#sk-container-id-6 div.sk-label:hover label.sk-toggleable__label {background-color: #d4ebff;}#sk-container-id-6 div.sk-serial::before {content: \"\";position: absolute;border-left: 1px solid gray;box-sizing: border-box;top: 0;bottom: 0;left: 50%;z-index: 0;}#sk-container-id-6 div.sk-serial {display: flex;flex-direction: column;align-items: center;background-color: white;padding-right: 0.2em;padding-left: 0.2em;position: relative;}#sk-container-id-6 div.sk-item {position: relative;z-index: 1;}#sk-container-id-6 div.sk-parallel {display: flex;align-items: stretch;justify-content: center;background-color: white;position: relative;}#sk-container-id-6 div.sk-item::before, #sk-container-id-6 div.sk-parallel-item::before {content: \"\";position: absolute;border-left: 1px solid gray;box-sizing: border-box;top: 0;bottom: 0;left: 50%;z-index: -1;}#sk-container-id-6 div.sk-parallel-item {display: flex;flex-direction: column;z-index: 1;position: relative;background-color: white;}#sk-container-id-6 div.sk-parallel-item:first-child::after {align-self: flex-end;width: 50%;}#sk-container-id-6 div.sk-parallel-item:last-child::after {align-self: flex-start;width: 50%;}#sk-container-id-6 div.sk-parallel-item:only-child::after {width: 0;}#sk-container-id-6 div.sk-dashed-wrapped {border: 1px dashed gray;margin: 0 0.4em 0.5em 0.4em;box-sizing: border-box;padding-bottom: 0.4em;background-color: white;}#sk-container-id-6 div.sk-label label {font-family: monospace;font-weight: bold;display: inline-block;line-height: 1.2em;}#sk-container-id-6 div.sk-label-container {text-align: center;}#sk-container-id-6 div.sk-container {/* jupyter's `normalize.less` sets `[hidden] { display: none; }` but bootstrap.min.css set `[hidden] { display: none !important; }` so we also need the `!important` here to be able to override the default hidden behavior on the sphinx rendered scikit-learn.org. See: https://github.com/scikit-learn/scikit-learn/issues/21755 */display: inline-block !important;position: relative;}#sk-container-id-6 div.sk-text-repr-fallback {display: none;}</style><div id=\"sk-container-id-6\" class=\"sk-top-container\"><div class=\"sk-text-repr-fallback\"><pre>GridSearchCV(cv=5,\n",
       "             estimator=Pipeline(steps=[(&#x27;cvec&#x27;, CountVectorizer()),\n",
       "                                       (&#x27;logreg&#x27;, LogisticRegression())]),\n",
       "             param_grid={&#x27;cvec__max_df&#x27;: [0.5, 0.55, 0.6],\n",
       "                         &#x27;cvec__max_features&#x27;: [5000, 6000, 7000],\n",
       "                         &#x27;cvec__min_df&#x27;: [2, 3, 4],\n",
       "                         &#x27;cvec__ngram_range&#x27;: [(1, 2)],\n",
       "                         &#x27;cvec__stop_words&#x27;: [[&#x27;i&#x27;, &#x27;me&#x27;, &#x27;my&#x27;, &#x27;myself&#x27;, &#x27;we&#x27;,\n",
       "                                               &#x27;our&#x27;, &#x27;our&#x27;, &#x27;ourselv&#x27;, &#x27;you&#x27;,\n",
       "                                               &#x27;you&#x27;, &#x27;re&#x27;, &#x27;you&#x27;, &#x27;ve&#x27;, &#x27;you&#x27;,\n",
       "                                               &#x27;ll&#x27;, &#x27;you&#x27;, &#x27;d&#x27;, &#x27;your&#x27;, &#x27;your&#x27;,\n",
       "                                               &#x27;yourself&#x27;, &#x27;yourselv&#x27;, &#x27;he&#x27;,\n",
       "                                               &#x27;him&#x27;, &#x27;hi&#x27;, &#x27;himself&#x27;, &#x27;she&#x27;,\n",
       "                                               &#x27;she&#x27;, &#x27;s&#x27;, &#x27;her&#x27;, &#x27;her&#x27;, ...]],\n",
       "                         &#x27;logreg__C&#x27;: [0.7, 0.6, 0.5, 0.4],\n",
       "                         &#x27;logreg__n_jobs&#x27;: [4]})</pre><b>In a Jupyter environment, please rerun this cell to show the HTML representation or trust the notebook. <br />On GitHub, the HTML representation is unable to render, please try loading this page with nbviewer.org.</b></div><div class=\"sk-container\" hidden><div class=\"sk-item sk-dashed-wrapped\"><div class=\"sk-label-container\"><div class=\"sk-label sk-toggleable\"><input class=\"sk-toggleable__control sk-hidden--visually\" id=\"sk-estimator-id-21\" type=\"checkbox\" ><label for=\"sk-estimator-id-21\" class=\"sk-toggleable__label sk-toggleable__label-arrow\">GridSearchCV</label><div class=\"sk-toggleable__content\"><pre>GridSearchCV(cv=5,\n",
       "             estimator=Pipeline(steps=[(&#x27;cvec&#x27;, CountVectorizer()),\n",
       "                                       (&#x27;logreg&#x27;, LogisticRegression())]),\n",
       "             param_grid={&#x27;cvec__max_df&#x27;: [0.5, 0.55, 0.6],\n",
       "                         &#x27;cvec__max_features&#x27;: [5000, 6000, 7000],\n",
       "                         &#x27;cvec__min_df&#x27;: [2, 3, 4],\n",
       "                         &#x27;cvec__ngram_range&#x27;: [(1, 2)],\n",
       "                         &#x27;cvec__stop_words&#x27;: [[&#x27;i&#x27;, &#x27;me&#x27;, &#x27;my&#x27;, &#x27;myself&#x27;, &#x27;we&#x27;,\n",
       "                                               &#x27;our&#x27;, &#x27;our&#x27;, &#x27;ourselv&#x27;, &#x27;you&#x27;,\n",
       "                                               &#x27;you&#x27;, &#x27;re&#x27;, &#x27;you&#x27;, &#x27;ve&#x27;, &#x27;you&#x27;,\n",
       "                                               &#x27;ll&#x27;, &#x27;you&#x27;, &#x27;d&#x27;, &#x27;your&#x27;, &#x27;your&#x27;,\n",
       "                                               &#x27;yourself&#x27;, &#x27;yourselv&#x27;, &#x27;he&#x27;,\n",
       "                                               &#x27;him&#x27;, &#x27;hi&#x27;, &#x27;himself&#x27;, &#x27;she&#x27;,\n",
       "                                               &#x27;she&#x27;, &#x27;s&#x27;, &#x27;her&#x27;, &#x27;her&#x27;, ...]],\n",
       "                         &#x27;logreg__C&#x27;: [0.7, 0.6, 0.5, 0.4],\n",
       "                         &#x27;logreg__n_jobs&#x27;: [4]})</pre></div></div></div><div class=\"sk-parallel\"><div class=\"sk-parallel-item\"><div class=\"sk-item\"><div class=\"sk-label-container\"><div class=\"sk-label sk-toggleable\"><input class=\"sk-toggleable__control sk-hidden--visually\" id=\"sk-estimator-id-22\" type=\"checkbox\" ><label for=\"sk-estimator-id-22\" class=\"sk-toggleable__label sk-toggleable__label-arrow\">estimator: Pipeline</label><div class=\"sk-toggleable__content\"><pre>Pipeline(steps=[(&#x27;cvec&#x27;, CountVectorizer()), (&#x27;logreg&#x27;, LogisticRegression())])</pre></div></div></div><div class=\"sk-serial\"><div class=\"sk-item\"><div class=\"sk-serial\"><div class=\"sk-item\"><div class=\"sk-estimator sk-toggleable\"><input class=\"sk-toggleable__control sk-hidden--visually\" id=\"sk-estimator-id-23\" type=\"checkbox\" ><label for=\"sk-estimator-id-23\" class=\"sk-toggleable__label sk-toggleable__label-arrow\">CountVectorizer</label><div class=\"sk-toggleable__content\"><pre>CountVectorizer()</pre></div></div></div><div class=\"sk-item\"><div class=\"sk-estimator sk-toggleable\"><input class=\"sk-toggleable__control sk-hidden--visually\" id=\"sk-estimator-id-24\" type=\"checkbox\" ><label for=\"sk-estimator-id-24\" class=\"sk-toggleable__label sk-toggleable__label-arrow\">LogisticRegression</label><div class=\"sk-toggleable__content\"><pre>LogisticRegression()</pre></div></div></div></div></div></div></div></div></div></div></div></div>"
      ],
      "text/plain": [
       "GridSearchCV(cv=5,\n",
       "             estimator=Pipeline(steps=[('cvec', CountVectorizer()),\n",
       "                                       ('logreg', LogisticRegression())]),\n",
       "             param_grid={'cvec__max_df': [0.5, 0.55, 0.6],\n",
       "                         'cvec__max_features': [5000, 6000, 7000],\n",
       "                         'cvec__min_df': [2, 3, 4],\n",
       "                         'cvec__ngram_range': [(1, 2)],\n",
       "                         'cvec__stop_words': [['i', 'me', 'my', 'myself', 'we',\n",
       "                                               'our', 'our', 'ourselv', 'you',\n",
       "                                               'you', 're', 'you', 've', 'you',\n",
       "                                               'll', 'you', 'd', 'your', 'your',\n",
       "                                               'yourself', 'yourselv', 'he',\n",
       "                                               'him', 'hi', 'himself', 'she',\n",
       "                                               'she', 's', 'her', 'her', ...]],\n",
       "                         'logreg__C': [0.7, 0.6, 0.5, 0.4],\n",
       "                         'logreg__n_jobs': [4]})"
      ]
     },
     "execution_count": 52,
     "metadata": {},
     "output_type": "execute_result"
    }
   ],
   "source": [
    "log_sc_gs.fit(X_train_s, y_train_s)"
   ]
  },
  {
   "cell_type": "markdown",
   "id": "92cabc06-ef4a-4e71-9b9e-c5a663473444",
   "metadata": {},
   "source": [
    "##### Best Parameters #####"
   ]
  },
  {
   "cell_type": "code",
   "execution_count": 53,
   "id": "d6654608-9cc3-4cf4-9682-b87e81a8a42d",
   "metadata": {},
   "outputs": [
    {
     "data": {
      "text/plain": [
       "{'cvec__max_df': 0.5,\n",
       " 'cvec__max_features': 6000,\n",
       " 'cvec__min_df': 3,\n",
       " 'cvec__ngram_range': (1, 2),\n",
       " 'logreg__C': 0.5,\n",
       " 'logreg__n_jobs': 4}"
      ]
     },
     "execution_count": 53,
     "metadata": {},
     "output_type": "execute_result"
    }
   ],
   "source": [
    "log_sc_gs.best_params_.pop('cvec__stop_words')\n",
    "log_sc_gs.best_params_"
   ]
  },
  {
   "cell_type": "markdown",
   "id": "0945aa5d-6359-438b-a889-c3cce4f692b8",
   "metadata": {},
   "source": [
    "##### Model Performance Metrics #####"
   ]
  },
  {
   "cell_type": "code",
   "execution_count": 54,
   "id": "d93690c1-fc5d-40a2-b83b-95490576fd05",
   "metadata": {},
   "outputs": [
    {
     "data": {
      "image/png": "[encoded data removed]",
      "text/plain": [
       "<Figure size 640x480 with 2 Axes>"
      ]
     },
     "metadata": {},
     "output_type": "display_data"
    }
   ],
   "source": [
    "ConfusionMatrixDisplay.from_estimator(log_sc_gs, X_test_s, y_test_s, cmap = 'Purples');"
   ]
  },
  {
   "cell_type": "code",
   "execution_count": 55,
   "id": "856bd6fa-8ef1-4f5c-a69c-7becd68ab73a",
   "metadata": {},
   "outputs": [
    {
     "data": {
      "text/html": [
       "<div>\n",
       "<style scoped>\n",
       "    .dataframe tbody tr th:only-of-type {\n",
       "        vertical-align: middle;\n",
       "    }\n",
       "\n",
       "    .dataframe tbody tr th {\n",
       "        vertical-align: top;\n",
       "    }\n",
       "\n",
       "    .dataframe thead th {\n",
       "        text-align: right;\n",
       "    }\n",
       "</style>\n",
       "<table border=\"1\" class=\"dataframe\">\n",
       "  <thead>\n",
       "    <tr style=\"text-align: right;\">\n",
       "      <th></th>\n",
       "      <th>train_accuracy</th>\n",
       "      <th>accuracy</th>\n",
       "      <th>sensitivity</th>\n",
       "    </tr>\n",
       "  </thead>\n",
       "  <tbody>\n",
       "    <tr>\n",
       "      <th>0</th>\n",
       "      <td>1.0</td>\n",
       "      <td>0.923423</td>\n",
       "      <td>0.881789</td>\n",
       "    </tr>\n",
       "  </tbody>\n",
       "</table>\n",
       "</div>"
      ],
      "text/plain": [
       "   train_accuracy  accuracy  sensitivity\n",
       "0             1.0  0.923423     0.881789"
      ]
     },
     "execution_count": 55,
     "metadata": {},
     "output_type": "execute_result"
    }
   ],
   "source": [
    "log_sc_metrics = model_stats(log_sc_gs, 'log', 'c', 's', crutch_words=True)\n",
    "model_metrics.append(log_sc_metrics)\n",
    "pd.DataFrame(log_sc_metrics, index=[0])[['train_accuracy', 'accuracy','sensitivity']]"
   ]
  },
  {
   "cell_type": "markdown",
   "id": "c7760e7d-536f-4487-b5a3-ee1c879bdca7",
   "metadata": {},
   "source": [
    "##### Model Performance Summary #####\n",
    "As with the **crutch words allowed** models, we get a minor performance boost from **stemming** our corpus. The **sensitivity** of .882 is an improvement on the previous model, but still very low in comparison to the models that have not been handicapped with the **crutch words** list\n",
    "\n",
    "As with the previous model, we're looking at pretty high **variance** between train and test **accuracy**, but with the **GridSearch** returning a middle-of-the-road regulation parameter as the best parameter"
   ]
  },
  {
   "cell_type": "markdown",
   "id": "89b846cc-581e-4bff-a75a-01da4ba3012c",
   "metadata": {
    "tags": []
   },
   "source": [
    "#### 1.b.3. Crutch Words Removed - CountVectorizer - Lemmatized Corpus ####"
   ]
  },
  {
   "cell_type": "markdown",
   "id": "e11d3212-a550-4720-83eb-b888872ada34",
   "metadata": {},
   "source": [
    "##### Model Instantiation and Fitting #####"
   ]
  },
  {
   "cell_type": "code",
   "execution_count": 56,
   "id": "89482d96-b0ac-48cb-ace1-6a2bcc3f8646",
   "metadata": {},
   "outputs": [],
   "source": [
    "log_lc_pipe = Pipeline([\n",
    "    ('cvec', CountVectorizer()),\n",
    "    ('logreg', LogisticRegression())\n",
    "])"
   ]
  },
  {
   "cell_type": "code",
   "execution_count": 57,
   "id": "c925a61a-7453-4fce-b789-aaf9ffabe868",
   "metadata": {},
   "outputs": [],
   "source": [
    "log_lc_pipe_params = {\n",
    "    'cvec__max_features': [3500, 4000, 4500],\n",
    "    'cvec__min_df': [2,3,4],\n",
    "    'cvec__max_df': [0.4, 0.45, 0.5],\n",
    "    'cvec__ngram_range': [(1,2)],\n",
    "    'cvec__stop_words': [crutch_words_lemmed],\n",
    "    'logreg__C': [0.04, 0.05, 0.06],\n",
    "    'logreg__n_jobs': [4]\n",
    "}"
   ]
  },
  {
   "cell_type": "code",
   "execution_count": 58,
   "id": "b35006a2-5d3a-4f88-8c3a-a30076c5b30f",
   "metadata": {},
   "outputs": [],
   "source": [
    "log_lc_gs = GridSearchCV(log_lc_pipe,\n",
    "                      param_grid = log_lc_pipe_params,\n",
    "                      cv = 5)"
   ]
  },
  {
   "cell_type": "code",
   "execution_count": 59,
   "id": "eec346cc-6ce2-48a1-9720-542da3d03745",
   "metadata": {},
   "outputs": [
    {
     "data": {
      "text/html": [
       "<style>#sk-container-id-7 {color: black;background-color: white;}#sk-container-id-7 pre{padding: 0;}#sk-container-id-7 div.sk-toggleable {background-color: white;}#sk-container-id-7 label.sk-toggleable__label {cursor: pointer;display: block;width: 100%;margin-bottom: 0;padding: 0.3em;box-sizing: border-box;text-align: center;}#sk-container-id-7 label.sk-toggleable__label-arrow:before {content: \"▸\";float: left;margin-right: 0.25em;color: #696969;}#sk-container-id-7 label.sk-toggleable__label-arrow:hover:before {color: black;}#sk-container-id-7 div.sk-estimator:hover label.sk-toggleable__label-arrow:before {color: black;}#sk-container-id-7 div.sk-toggleable__content {max-height: 0;max-width: 0;overflow: hidden;text-align: left;background-color: #f0f8ff;}#sk-container-id-7 div.sk-toggleable__content pre {margin: 0.2em;color: black;border-radius: 0.25em;background-color: #f0f8ff;}#sk-container-id-7 input.sk-toggleable__control:checked~div.sk-toggleable__content {max-height: 200px;max-width: 100%;overflow: auto;}#sk-container-id-7 input.sk-toggleable__control:checked~label.sk-toggleable__label-arrow:before {content: \"▾\";}#sk-container-id-7 div.sk-estimator input.sk-toggleable__control:checked~label.sk-toggleable__label {background-color: #d4ebff;}#sk-container-id-7 div.sk-label input.sk-toggleable__control:checked~label.sk-toggleable__label {background-color: #d4ebff;}#sk-container-id-7 input.sk-hidden--visually {border: 0;clip: rect(1px 1px 1px 1px);clip: rect(1px, 1px, 1px, 1px);height: 1px;margin: -1px;overflow: hidden;padding: 0;position: absolute;width: 1px;}#sk-container-id-7 div.sk-estimator {font-family: monospace;background-color: #f0f8ff;border: 1px dotted black;border-radius: 0.25em;box-sizing: border-box;margin-bottom: 0.5em;}#sk-container-id-7 div.sk-estimator:hover {background-color: #d4ebff;}#sk-container-id-7 div.sk-parallel-item::after {content: \"\";width: 100%;border-bottom: 1px solid gray;flex-grow: 1;}#sk-container-id-7 div.sk-label:hover label.sk-toggleable__label {background-color: #d4ebff;}#sk-container-id-7 div.sk-serial::before {content: \"\";position: absolute;border-left: 1px solid gray;box-sizing: border-box;top: 0;bottom: 0;left: 50%;z-index: 0;}#sk-container-id-7 div.sk-serial {display: flex;flex-direction: column;align-items: center;background-color: white;padding-right: 0.2em;padding-left: 0.2em;position: relative;}#sk-container-id-7 div.sk-item {position: relative;z-index: 1;}#sk-container-id-7 div.sk-parallel {display: flex;align-items: stretch;justify-content: center;background-color: white;position: relative;}#sk-container-id-7 div.sk-item::before, #sk-container-id-7 div.sk-parallel-item::before {content: \"\";position: absolute;border-left: 1px solid gray;box-sizing: border-box;top: 0;bottom: 0;left: 50%;z-index: -1;}#sk-container-id-7 div.sk-parallel-item {display: flex;flex-direction: column;z-index: 1;position: relative;background-color: white;}#sk-container-id-7 div.sk-parallel-item:first-child::after {align-self: flex-end;width: 50%;}#sk-container-id-7 div.sk-parallel-item:last-child::after {align-self: flex-start;width: 50%;}#sk-container-id-7 div.sk-parallel-item:only-child::after {width: 0;}#sk-container-id-7 div.sk-dashed-wrapped {border: 1px dashed gray;margin: 0 0.4em 0.5em 0.4em;box-sizing: border-box;padding-bottom: 0.4em;background-color: white;}#sk-container-id-7 div.sk-label label {font-family: monospace;font-weight: bold;display: inline-block;line-height: 1.2em;}#sk-container-id-7 div.sk-label-container {text-align: center;}#sk-container-id-7 div.sk-container {/* jupyter's `normalize.less` sets `[hidden] { display: none; }` but bootstrap.min.css set `[hidden] { display: none !important; }` so we also need the `!important` here to be able to override the default hidden behavior on the sphinx rendered scikit-learn.org. See: https://github.com/scikit-learn/scikit-learn/issues/21755 */display: inline-block !important;position: relative;}#sk-container-id-7 div.sk-text-repr-fallback {display: none;}</style><div id=\"sk-container-id-7\" class=\"sk-top-container\"><div class=\"sk-text-repr-fallback\"><pre>GridSearchCV(cv=5,\n",
       "             estimator=Pipeline(steps=[(&#x27;cvec&#x27;, CountVectorizer()),\n",
       "                                       (&#x27;logreg&#x27;, LogisticRegression())]),\n",
       "             param_grid={&#x27;cvec__max_df&#x27;: [0.4, 0.45, 0.5],\n",
       "                         &#x27;cvec__max_features&#x27;: [3500, 4000, 4500],\n",
       "                         &#x27;cvec__min_df&#x27;: [2, 3, 4],\n",
       "                         &#x27;cvec__ngram_range&#x27;: [(1, 2)],\n",
       "                         &#x27;cvec__stop_words&#x27;: [[&#x27;i&#x27;, &#x27;me&#x27;, &#x27;my&#x27;, &#x27;myself&#x27;, &#x27;we&#x27;,\n",
       "                                               &#x27;our&#x27;, &#x27;ours&#x27;, &#x27;ourselves&#x27;,\n",
       "                                               &#x27;you&#x27;, &#x27;you&#x27;, &#x27;re&#x27;, &#x27;you&#x27;, &#x27;ve&#x27;,\n",
       "                                               &#x27;you&#x27;, &#x27;ll&#x27;, &#x27;you&#x27;, &#x27;d&#x27;, &#x27;your&#x27;,\n",
       "                                               &#x27;yours&#x27;, &#x27;yourself&#x27;,\n",
       "                                               &#x27;yourselves&#x27;, &#x27;he&#x27;, &#x27;him&#x27;, &#x27;his&#x27;,\n",
       "                                               &#x27;himself&#x27;, &#x27;she&#x27;, &#x27;she&#x27;, &#x27;s&#x27;,\n",
       "                                               &#x27;her&#x27;, &#x27;hers&#x27;, ...]],\n",
       "                         &#x27;logreg__C&#x27;: [0.04, 0.05, 0.06],\n",
       "                         &#x27;logreg__n_jobs&#x27;: [4]})</pre><b>In a Jupyter environment, please rerun this cell to show the HTML representation or trust the notebook. <br />On GitHub, the HTML representation is unable to render, please try loading this page with nbviewer.org.</b></div><div class=\"sk-container\" hidden><div class=\"sk-item sk-dashed-wrapped\"><div class=\"sk-label-container\"><div class=\"sk-label sk-toggleable\"><input class=\"sk-toggleable__control sk-hidden--visually\" id=\"sk-estimator-id-25\" type=\"checkbox\" ><label for=\"sk-estimator-id-25\" class=\"sk-toggleable__label sk-toggleable__label-arrow\">GridSearchCV</label><div class=\"sk-toggleable__content\"><pre>GridSearchCV(cv=5,\n",
       "             estimator=Pipeline(steps=[(&#x27;cvec&#x27;, CountVectorizer()),\n",
       "                                       (&#x27;logreg&#x27;, LogisticRegression())]),\n",
       "             param_grid={&#x27;cvec__max_df&#x27;: [0.4, 0.45, 0.5],\n",
       "                         &#x27;cvec__max_features&#x27;: [3500, 4000, 4500],\n",
       "                         &#x27;cvec__min_df&#x27;: [2, 3, 4],\n",
       "                         &#x27;cvec__ngram_range&#x27;: [(1, 2)],\n",
       "                         &#x27;cvec__stop_words&#x27;: [[&#x27;i&#x27;, &#x27;me&#x27;, &#x27;my&#x27;, &#x27;myself&#x27;, &#x27;we&#x27;,\n",
       "                                               &#x27;our&#x27;, &#x27;ours&#x27;, &#x27;ourselves&#x27;,\n",
       "                                               &#x27;you&#x27;, &#x27;you&#x27;, &#x27;re&#x27;, &#x27;you&#x27;, &#x27;ve&#x27;,\n",
       "                                               &#x27;you&#x27;, &#x27;ll&#x27;, &#x27;you&#x27;, &#x27;d&#x27;, &#x27;your&#x27;,\n",
       "                                               &#x27;yours&#x27;, &#x27;yourself&#x27;,\n",
       "                                               &#x27;yourselves&#x27;, &#x27;he&#x27;, &#x27;him&#x27;, &#x27;his&#x27;,\n",
       "                                               &#x27;himself&#x27;, &#x27;she&#x27;, &#x27;she&#x27;, &#x27;s&#x27;,\n",
       "                                               &#x27;her&#x27;, &#x27;hers&#x27;, ...]],\n",
       "                         &#x27;logreg__C&#x27;: [0.04, 0.05, 0.06],\n",
       "                         &#x27;logreg__n_jobs&#x27;: [4]})</pre></div></div></div><div class=\"sk-parallel\"><div class=\"sk-parallel-item\"><div class=\"sk-item\"><div class=\"sk-label-container\"><div class=\"sk-label sk-toggleable\"><input class=\"sk-toggleable__control sk-hidden--visually\" id=\"sk-estimator-id-26\" type=\"checkbox\" ><label for=\"sk-estimator-id-26\" class=\"sk-toggleable__label sk-toggleable__label-arrow\">estimator: Pipeline</label><div class=\"sk-toggleable__content\"><pre>Pipeline(steps=[(&#x27;cvec&#x27;, CountVectorizer()), (&#x27;logreg&#x27;, LogisticRegression())])</pre></div></div></div><div class=\"sk-serial\"><div class=\"sk-item\"><div class=\"sk-serial\"><div class=\"sk-item\"><div class=\"sk-estimator sk-toggleable\"><input class=\"sk-toggleable__control sk-hidden--visually\" id=\"sk-estimator-id-27\" type=\"checkbox\" ><label for=\"sk-estimator-id-27\" class=\"sk-toggleable__label sk-toggleable__label-arrow\">CountVectorizer</label><div class=\"sk-toggleable__content\"><pre>CountVectorizer()</pre></div></div></div><div class=\"sk-item\"><div class=\"sk-estimator sk-toggleable\"><input class=\"sk-toggleable__control sk-hidden--visually\" id=\"sk-estimator-id-28\" type=\"checkbox\" ><label for=\"sk-estimator-id-28\" class=\"sk-toggleable__label sk-toggleable__label-arrow\">LogisticRegression</label><div class=\"sk-toggleable__content\"><pre>LogisticRegression()</pre></div></div></div></div></div></div></div></div></div></div></div></div>"
      ],
      "text/plain": [
       "GridSearchCV(cv=5,\n",
       "             estimator=Pipeline(steps=[('cvec', CountVectorizer()),\n",
       "                                       ('logreg', LogisticRegression())]),\n",
       "             param_grid={'cvec__max_df': [0.4, 0.45, 0.5],\n",
       "                         'cvec__max_features': [3500, 4000, 4500],\n",
       "                         'cvec__min_df': [2, 3, 4],\n",
       "                         'cvec__ngram_range': [(1, 2)],\n",
       "                         'cvec__stop_words': [['i', 'me', 'my', 'myself', 'we',\n",
       "                                               'our', 'ours', 'ourselves',\n",
       "                                               'you', 'you', 're', 'you', 've',\n",
       "                                               'you', 'll', 'you', 'd', 'your',\n",
       "                                               'yours', 'yourself',\n",
       "                                               'yourselves', 'he', 'him', 'his',\n",
       "                                               'himself', 'she', 'she', 's',\n",
       "                                               'her', 'hers', ...]],\n",
       "                         'logreg__C': [0.04, 0.05, 0.06],\n",
       "                         'logreg__n_jobs': [4]})"
      ]
     },
     "execution_count": 59,
     "metadata": {},
     "output_type": "execute_result"
    }
   ],
   "source": [
    "log_lc_gs.fit(X_train_l, y_train_l)"
   ]
  },
  {
   "cell_type": "markdown",
   "id": "3eec44b7-d83f-4ad3-8318-73ecc9f85904",
   "metadata": {},
   "source": [
    "##### Best Parameters #####"
   ]
  },
  {
   "cell_type": "code",
   "execution_count": 60,
   "id": "116fef77-f289-47f4-98dd-6576972463d5",
   "metadata": {},
   "outputs": [
    {
     "data": {
      "text/plain": [
       "{'cvec__max_df': 0.4,\n",
       " 'cvec__max_features': 4500,\n",
       " 'cvec__min_df': 4,\n",
       " 'cvec__ngram_range': (1, 2),\n",
       " 'logreg__C': 0.06,\n",
       " 'logreg__n_jobs': 4}"
      ]
     },
     "execution_count": 60,
     "metadata": {},
     "output_type": "execute_result"
    }
   ],
   "source": [
    "log_lc_gs.best_params_.pop('cvec__stop_words')\n",
    "log_lc_gs.best_params_"
   ]
  },
  {
   "cell_type": "markdown",
   "id": "8adee8bc-c90e-462e-bcfa-5c4e3961d94e",
   "metadata": {},
   "source": [
    "##### Model Performance Metrics #####"
   ]
  },
  {
   "cell_type": "code",
   "execution_count": 61,
   "id": "8f5d0c8e-3c7f-4173-b65a-5b2c299c48f2",
   "metadata": {},
   "outputs": [
    {
     "data": {
      "image/png": "[encoded data removed]",
      "text/plain": [
       "<Figure size 640x480 with 2 Axes>"
      ]
     },
     "metadata": {},
     "output_type": "display_data"
    }
   ],
   "source": [
    "ConfusionMatrixDisplay.from_estimator(log_lc_gs, X_test_l, y_test_l, cmap = 'Purples');"
   ]
  },
  {
   "cell_type": "code",
   "execution_count": 62,
   "id": "3c7ee6eb-6982-4ad1-8279-ceb32ed8f013",
   "metadata": {},
   "outputs": [
    {
     "data": {
      "text/html": [
       "<div>\n",
       "<style scoped>\n",
       "    .dataframe tbody tr th:only-of-type {\n",
       "        vertical-align: middle;\n",
       "    }\n",
       "\n",
       "    .dataframe tbody tr th {\n",
       "        vertical-align: top;\n",
       "    }\n",
       "\n",
       "    .dataframe thead th {\n",
       "        text-align: right;\n",
       "    }\n",
       "</style>\n",
       "<table border=\"1\" class=\"dataframe\">\n",
       "  <thead>\n",
       "    <tr style=\"text-align: right;\">\n",
       "      <th></th>\n",
       "      <th>train_accuracy</th>\n",
       "      <th>accuracy</th>\n",
       "      <th>sensitivity</th>\n",
       "    </tr>\n",
       "  </thead>\n",
       "  <tbody>\n",
       "    <tr>\n",
       "      <th>0</th>\n",
       "      <td>0.983835</td>\n",
       "      <td>0.914414</td>\n",
       "      <td>0.865815</td>\n",
       "    </tr>\n",
       "  </tbody>\n",
       "</table>\n",
       "</div>"
      ],
      "text/plain": [
       "   train_accuracy  accuracy  sensitivity\n",
       "0        0.983835  0.914414     0.865815"
      ]
     },
     "execution_count": 62,
     "metadata": {},
     "output_type": "execute_result"
    }
   ],
   "source": [
    "log_lc_metrics = model_stats(log_lc_gs, 'log', 'c', 'l', crutch_words=True)\n",
    "model_metrics.append(log_lc_metrics)\n",
    "pd.DataFrame(log_lc_metrics, index=[0])[['train_accuracy', 'accuracy','sensitivity']]"
   ]
  },
  {
   "cell_type": "markdown",
   "id": "f868ee9f-5761-4099-91ab-c2c6088a418b",
   "metadata": {
    "tags": []
   },
   "source": [
    "##### Model Performance Summary #####\n",
    "The model on the **lemmatized** corpus is the worst performer of the three **CountVectorizer** models with **crutch words** removed. It scores lower even than the model on the original corpus on both **accuracy** and **sensitivity**.\n",
    "\n",
    "As with the **crutch words allowed** set of **Logistic Regression** models, **stemming** the corpus appears to produce the best performing model"
   ]
  },
  {
   "cell_type": "markdown",
   "id": "9ce513bc-10e3-4827-907e-1f1f6acb3091",
   "metadata": {
    "tags": []
   },
   "source": [
    "#### 1.b.4. Crutch Words Removed - TfidfVectorizer - Stemmed Corpus ####"
   ]
  },
  {
   "cell_type": "markdown",
   "id": "deb52d6c-b3ba-42e5-b571-4ed102bb8bde",
   "metadata": {},
   "source": [
    "##### Model Instantiation and Fitting #####"
   ]
  },
  {
   "cell_type": "code",
   "execution_count": 63,
   "id": "de3bf2c8-05f5-4f89-ac3f-e864373bfbd5",
   "metadata": {},
   "outputs": [],
   "source": [
    "log_stc_pipe = Pipeline([\n",
    "    ('tvec', TfidfVectorizer()),\n",
    "    ('logreg', LogisticRegression())\n",
    "])"
   ]
  },
  {
   "cell_type": "code",
   "execution_count": 64,
   "id": "04b11094-028b-439f-817a-85fa7da2de88",
   "metadata": {},
   "outputs": [],
   "source": [
    "log_stc_pipe_params = {\n",
    "    'tvec__max_features': [4000, 4500, 5000],\n",
    "    'tvec__min_df': [3, 4, 5],\n",
    "    'tvec__max_df': [0.2, 0.25, 0.3],\n",
    "    'tvec__ngram_range': [(1,2)],\n",
    "    'tvec__stop_words': [crutch_words_stemmed],\n",
    "    'logreg__C': [0.6, 0.7],\n",
    "    'logreg__n_jobs': [4]\n",
    "}"
   ]
  },
  {
   "cell_type": "code",
   "execution_count": 65,
   "id": "0982b4c2-e8b9-413b-ab38-d124075dace1",
   "metadata": {},
   "outputs": [],
   "source": [
    "log_stc_gs = GridSearchCV(log_stc_pipe,\n",
    "                      param_grid = log_stc_pipe_params,\n",
    "                      cv = 5)"
   ]
  },
  {
   "cell_type": "code",
   "execution_count": 66,
   "id": "a28dcaa2-3acd-4b28-afa4-c4483aff1c5b",
   "metadata": {},
   "outputs": [
    {
     "data": {
      "text/html": [
       "<style>#sk-container-id-8 {color: black;background-color: white;}#sk-container-id-8 pre{padding: 0;}#sk-container-id-8 div.sk-toggleable {background-color: white;}#sk-container-id-8 label.sk-toggleable__label {cursor: pointer;display: block;width: 100%;margin-bottom: 0;padding: 0.3em;box-sizing: border-box;text-align: center;}#sk-container-id-8 label.sk-toggleable__label-arrow:before {content: \"▸\";float: left;margin-right: 0.25em;color: #696969;}#sk-container-id-8 label.sk-toggleable__label-arrow:hover:before {color: black;}#sk-container-id-8 div.sk-estimator:hover label.sk-toggleable__label-arrow:before {color: black;}#sk-container-id-8 div.sk-toggleable__content {max-height: 0;max-width: 0;overflow: hidden;text-align: left;background-color: #f0f8ff;}#sk-container-id-8 div.sk-toggleable__content pre {margin: 0.2em;color: black;border-radius: 0.25em;background-color: #f0f8ff;}#sk-container-id-8 input.sk-toggleable__control:checked~div.sk-toggleable__content {max-height: 200px;max-width: 100%;overflow: auto;}#sk-container-id-8 input.sk-toggleable__control:checked~label.sk-toggleable__label-arrow:before {content: \"▾\";}#sk-container-id-8 div.sk-estimator input.sk-toggleable__control:checked~label.sk-toggleable__label {background-color: #d4ebff;}#sk-container-id-8 div.sk-label input.sk-toggleable__control:checked~label.sk-toggleable__label {background-color: #d4ebff;}#sk-container-id-8 input.sk-hidden--visually {border: 0;clip: rect(1px 1px 1px 1px);clip: rect(1px, 1px, 1px, 1px);height: 1px;margin: -1px;overflow: hidden;padding: 0;position: absolute;width: 1px;}#sk-container-id-8 div.sk-estimator {font-family: monospace;background-color: #f0f8ff;border: 1px dotted black;border-radius: 0.25em;box-sizing: border-box;margin-bottom: 0.5em;}#sk-container-id-8 div.sk-estimator:hover {background-color: #d4ebff;}#sk-container-id-8 div.sk-parallel-item::after {content: \"\";width: 100%;border-bottom: 1px solid gray;flex-grow: 1;}#sk-container-id-8 div.sk-label:hover label.sk-toggleable__label {background-color: #d4ebff;}#sk-container-id-8 div.sk-serial::before {content: \"\";position: absolute;border-left: 1px solid gray;box-sizing: border-box;top: 0;bottom: 0;left: 50%;z-index: 0;}#sk-container-id-8 div.sk-serial {display: flex;flex-direction: column;align-items: center;background-color: white;padding-right: 0.2em;padding-left: 0.2em;position: relative;}#sk-container-id-8 div.sk-item {position: relative;z-index: 1;}#sk-container-id-8 div.sk-parallel {display: flex;align-items: stretch;justify-content: center;background-color: white;position: relative;}#sk-container-id-8 div.sk-item::before, #sk-container-id-8 div.sk-parallel-item::before {content: \"\";position: absolute;border-left: 1px solid gray;box-sizing: border-box;top: 0;bottom: 0;left: 50%;z-index: -1;}#sk-container-id-8 div.sk-parallel-item {display: flex;flex-direction: column;z-index: 1;position: relative;background-color: white;}#sk-container-id-8 div.sk-parallel-item:first-child::after {align-self: flex-end;width: 50%;}#sk-container-id-8 div.sk-parallel-item:last-child::after {align-self: flex-start;width: 50%;}#sk-container-id-8 div.sk-parallel-item:only-child::after {width: 0;}#sk-container-id-8 div.sk-dashed-wrapped {border: 1px dashed gray;margin: 0 0.4em 0.5em 0.4em;box-sizing: border-box;padding-bottom: 0.4em;background-color: white;}#sk-container-id-8 div.sk-label label {font-family: monospace;font-weight: bold;display: inline-block;line-height: 1.2em;}#sk-container-id-8 div.sk-label-container {text-align: center;}#sk-container-id-8 div.sk-container {/* jupyter's `normalize.less` sets `[hidden] { display: none; }` but bootstrap.min.css set `[hidden] { display: none !important; }` so we also need the `!important` here to be able to override the default hidden behavior on the sphinx rendered scikit-learn.org. See: https://github.com/scikit-learn/scikit-learn/issues/21755 */display: inline-block !important;position: relative;}#sk-container-id-8 div.sk-text-repr-fallback {display: none;}</style><div id=\"sk-container-id-8\" class=\"sk-top-container\"><div class=\"sk-text-repr-fallback\"><pre>GridSearchCV(cv=5,\n",
       "             estimator=Pipeline(steps=[(&#x27;tvec&#x27;, TfidfVectorizer()),\n",
       "                                       (&#x27;logreg&#x27;, LogisticRegression())]),\n",
       "             param_grid={&#x27;logreg__C&#x27;: [0.6, 0.7], &#x27;logreg__n_jobs&#x27;: [4],\n",
       "                         &#x27;tvec__max_df&#x27;: [0.2, 0.25, 0.3],\n",
       "                         &#x27;tvec__max_features&#x27;: [4000, 4500, 5000],\n",
       "                         &#x27;tvec__min_df&#x27;: [3, 4, 5],\n",
       "                         &#x27;tvec__ngram_range&#x27;: [(1, 2)],\n",
       "                         &#x27;tvec__stop_words&#x27;: [[&#x27;i&#x27;, &#x27;me&#x27;, &#x27;my&#x27;, &#x27;myself&#x27;, &#x27;we&#x27;,\n",
       "                                               &#x27;our&#x27;, &#x27;our&#x27;, &#x27;ourselv&#x27;, &#x27;you&#x27;,\n",
       "                                               &#x27;you&#x27;, &#x27;re&#x27;, &#x27;you&#x27;, &#x27;ve&#x27;, &#x27;you&#x27;,\n",
       "                                               &#x27;ll&#x27;, &#x27;you&#x27;, &#x27;d&#x27;, &#x27;your&#x27;, &#x27;your&#x27;,\n",
       "                                               &#x27;yourself&#x27;, &#x27;yourselv&#x27;, &#x27;he&#x27;,\n",
       "                                               &#x27;him&#x27;, &#x27;hi&#x27;, &#x27;himself&#x27;, &#x27;she&#x27;,\n",
       "                                               &#x27;she&#x27;, &#x27;s&#x27;, &#x27;her&#x27;, &#x27;her&#x27;, ...]]})</pre><b>In a Jupyter environment, please rerun this cell to show the HTML representation or trust the notebook. <br />On GitHub, the HTML representation is unable to render, please try loading this page with nbviewer.org.</b></div><div class=\"sk-container\" hidden><div class=\"sk-item sk-dashed-wrapped\"><div class=\"sk-label-container\"><div class=\"sk-label sk-toggleable\"><input class=\"sk-toggleable__control sk-hidden--visually\" id=\"sk-estimator-id-29\" type=\"checkbox\" ><label for=\"sk-estimator-id-29\" class=\"sk-toggleable__label sk-toggleable__label-arrow\">GridSearchCV</label><div class=\"sk-toggleable__content\"><pre>GridSearchCV(cv=5,\n",
       "             estimator=Pipeline(steps=[(&#x27;tvec&#x27;, TfidfVectorizer()),\n",
       "                                       (&#x27;logreg&#x27;, LogisticRegression())]),\n",
       "             param_grid={&#x27;logreg__C&#x27;: [0.6, 0.7], &#x27;logreg__n_jobs&#x27;: [4],\n",
       "                         &#x27;tvec__max_df&#x27;: [0.2, 0.25, 0.3],\n",
       "                         &#x27;tvec__max_features&#x27;: [4000, 4500, 5000],\n",
       "                         &#x27;tvec__min_df&#x27;: [3, 4, 5],\n",
       "                         &#x27;tvec__ngram_range&#x27;: [(1, 2)],\n",
       "                         &#x27;tvec__stop_words&#x27;: [[&#x27;i&#x27;, &#x27;me&#x27;, &#x27;my&#x27;, &#x27;myself&#x27;, &#x27;we&#x27;,\n",
       "                                               &#x27;our&#x27;, &#x27;our&#x27;, &#x27;ourselv&#x27;, &#x27;you&#x27;,\n",
       "                                               &#x27;you&#x27;, &#x27;re&#x27;, &#x27;you&#x27;, &#x27;ve&#x27;, &#x27;you&#x27;,\n",
       "                                               &#x27;ll&#x27;, &#x27;you&#x27;, &#x27;d&#x27;, &#x27;your&#x27;, &#x27;your&#x27;,\n",
       "                                               &#x27;yourself&#x27;, &#x27;yourselv&#x27;, &#x27;he&#x27;,\n",
       "                                               &#x27;him&#x27;, &#x27;hi&#x27;, &#x27;himself&#x27;, &#x27;she&#x27;,\n",
       "                                               &#x27;she&#x27;, &#x27;s&#x27;, &#x27;her&#x27;, &#x27;her&#x27;, ...]]})</pre></div></div></div><div class=\"sk-parallel\"><div class=\"sk-parallel-item\"><div class=\"sk-item\"><div class=\"sk-label-container\"><div class=\"sk-label sk-toggleable\"><input class=\"sk-toggleable__control sk-hidden--visually\" id=\"sk-estimator-id-30\" type=\"checkbox\" ><label for=\"sk-estimator-id-30\" class=\"sk-toggleable__label sk-toggleable__label-arrow\">estimator: Pipeline</label><div class=\"sk-toggleable__content\"><pre>Pipeline(steps=[(&#x27;tvec&#x27;, TfidfVectorizer()), (&#x27;logreg&#x27;, LogisticRegression())])</pre></div></div></div><div class=\"sk-serial\"><div class=\"sk-item\"><div class=\"sk-serial\"><div class=\"sk-item\"><div class=\"sk-estimator sk-toggleable\"><input class=\"sk-toggleable__control sk-hidden--visually\" id=\"sk-estimator-id-31\" type=\"checkbox\" ><label for=\"sk-estimator-id-31\" class=\"sk-toggleable__label sk-toggleable__label-arrow\">TfidfVectorizer</label><div class=\"sk-toggleable__content\"><pre>TfidfVectorizer()</pre></div></div></div><div class=\"sk-item\"><div class=\"sk-estimator sk-toggleable\"><input class=\"sk-toggleable__control sk-hidden--visually\" id=\"sk-estimator-id-32\" type=\"checkbox\" ><label for=\"sk-estimator-id-32\" class=\"sk-toggleable__label sk-toggleable__label-arrow\">LogisticRegression</label><div class=\"sk-toggleable__content\"><pre>LogisticRegression()</pre></div></div></div></div></div></div></div></div></div></div></div></div>"
      ],
      "text/plain": [
       "GridSearchCV(cv=5,\n",
       "             estimator=Pipeline(steps=[('tvec', TfidfVectorizer()),\n",
       "                                       ('logreg', LogisticRegression())]),\n",
       "             param_grid={'logreg__C': [0.6, 0.7], 'logreg__n_jobs': [4],\n",
       "                         'tvec__max_df': [0.2, 0.25, 0.3],\n",
       "                         'tvec__max_features': [4000, 4500, 5000],\n",
       "                         'tvec__min_df': [3, 4, 5],\n",
       "                         'tvec__ngram_range': [(1, 2)],\n",
       "                         'tvec__stop_words': [['i', 'me', 'my', 'myself', 'we',\n",
       "                                               'our', 'our', 'ourselv', 'you',\n",
       "                                               'you', 're', 'you', 've', 'you',\n",
       "                                               'll', 'you', 'd', 'your', 'your',\n",
       "                                               'yourself', 'yourselv', 'he',\n",
       "                                               'him', 'hi', 'himself', 'she',\n",
       "                                               'she', 's', 'her', 'her', ...]]})"
      ]
     },
     "execution_count": 66,
     "metadata": {},
     "output_type": "execute_result"
    }
   ],
   "source": [
    "log_stc_gs.fit(X_train_s, y_train_s)"
   ]
  },
  {
   "cell_type": "markdown",
   "id": "00595747-a10f-410d-b725-60f31bc315de",
   "metadata": {},
   "source": [
    "##### Best Parameters #####"
   ]
  },
  {
   "cell_type": "code",
   "execution_count": 67,
   "id": "4ae22d37-9a3b-430d-aca4-2fb3baa2b20c",
   "metadata": {},
   "outputs": [
    {
     "data": {
      "text/plain": [
       "{'logreg__C': 0.7,\n",
       " 'logreg__n_jobs': 4,\n",
       " 'tvec__max_df': 0.3,\n",
       " 'tvec__max_features': 5000,\n",
       " 'tvec__min_df': 4,\n",
       " 'tvec__ngram_range': (1, 2)}"
      ]
     },
     "execution_count": 67,
     "metadata": {},
     "output_type": "execute_result"
    }
   ],
   "source": [
    "log_stc_gs.best_params_.pop('tvec__stop_words')\n",
    "log_stc_gs.best_params_"
   ]
  },
  {
   "cell_type": "markdown",
   "id": "a9f2fda0-b772-4433-9c45-f59f21e9a548",
   "metadata": {},
   "source": [
    "##### Model Performance Metrics #####"
   ]
  },
  {
   "cell_type": "code",
   "execution_count": 68,
   "id": "3ef18d47-9686-464e-b397-64ef3f513743",
   "metadata": {},
   "outputs": [
    {
     "data": {
      "image/png": "[encoded data removed]",
      "text/plain": [
       "<Figure size 640x480 with 2 Axes>"
      ]
     },
     "metadata": {},
     "output_type": "display_data"
    }
   ],
   "source": [
    "ConfusionMatrixDisplay.from_estimator(log_stc_gs, X_test_s, y_test_s, cmap = 'Purples');"
   ]
  },
  {
   "cell_type": "code",
   "execution_count": 69,
   "id": "7769688b-e83b-4230-8536-99ddb073fee7",
   "metadata": {},
   "outputs": [
    {
     "data": {
      "text/html": [
       "<div>\n",
       "<style scoped>\n",
       "    .dataframe tbody tr th:only-of-type {\n",
       "        vertical-align: middle;\n",
       "    }\n",
       "\n",
       "    .dataframe tbody tr th {\n",
       "        vertical-align: top;\n",
       "    }\n",
       "\n",
       "    .dataframe thead th {\n",
       "        text-align: right;\n",
       "    }\n",
       "</style>\n",
       "<table border=\"1\" class=\"dataframe\">\n",
       "  <thead>\n",
       "    <tr style=\"text-align: right;\">\n",
       "      <th></th>\n",
       "      <th>train_accuracy</th>\n",
       "      <th>accuracy</th>\n",
       "      <th>sensitivity</th>\n",
       "    </tr>\n",
       "  </thead>\n",
       "  <tbody>\n",
       "    <tr>\n",
       "      <th>0</th>\n",
       "      <td>0.972556</td>\n",
       "      <td>0.936937</td>\n",
       "      <td>0.888179</td>\n",
       "    </tr>\n",
       "  </tbody>\n",
       "</table>\n",
       "</div>"
      ],
      "text/plain": [
       "   train_accuracy  accuracy  sensitivity\n",
       "0        0.972556  0.936937     0.888179"
      ]
     },
     "execution_count": 69,
     "metadata": {},
     "output_type": "execute_result"
    }
   ],
   "source": [
    "log_stc_metrics = model_stats(log_stc_gs, 'log', 't', 's', crutch_words=True)\n",
    "model_metrics.append(log_stc_metrics)\n",
    "pd.DataFrame(log_stc_metrics, index=[0])[['train_accuracy', 'accuracy','sensitivity']]"
   ]
  },
  {
   "cell_type": "markdown",
   "id": "ef94a64d-cfa7-4e7f-9681-69f2d6eeeb4e",
   "metadata": {
    "jp-MarkdownHeadingCollapsed": true,
    "tags": []
   },
   "source": [
    "##### Model Performance #####\n",
    "The **TfidfVectorizer** also gives a small performance boost over **CountVectorizer** to the models with **crutch words** removed, with a slightly better **accuracy** score on the test data, as well as a small improvement to **sensitivity**.\n",
    "\n",
    "Notably, the **variance** is significantly lower than the models with **CountVectorizer**."
   ]
  },
  {
   "cell_type": "markdown",
   "id": "87271628-e266-4f51-8643-4a041758a5bc",
   "metadata": {
    "tags": []
   },
   "source": [
    "### 2. Random Forest ###\n",
    "\n",
    "For my **Random Forest** models, and going forward, I will only run one model each with and without **crutch words**, using the transformation technique and vectorizer that produced the best results on my **Logistic Regression** models. \n",
    "\n",
    "As **stemming** and **TfidfVectorizer** produced the best results, those are what I will use going forward"
   ]
  },
  {
   "cell_type": "markdown",
   "id": "51d170dd-2f60-45b0-a693-4d56e6a6969f",
   "metadata": {
    "tags": []
   },
   "source": [
    "#### 2.a. Crutch Words Allowed ####"
   ]
  },
  {
   "cell_type": "markdown",
   "id": "56bbd9e5-a420-47d7-bf9c-fdee4f3764b1",
   "metadata": {},
   "source": [
    "##### Model Instantiation and Fitting #####"
   ]
  },
  {
   "cell_type": "code",
   "execution_count": 70,
   "id": "bad242b7-9713-4c4f-ae5e-f7a9de0da859",
   "metadata": {},
   "outputs": [],
   "source": [
    "rf_pipe = Pipeline([\n",
    "    ('tvec', TfidfVectorizer()),\n",
    "    ('rf', RandomForestClassifier())\n",
    "])"
   ]
  },
  {
   "cell_type": "code",
   "execution_count": 71,
   "id": "5004a09d-d2c0-4d0f-83cf-06412395acaa",
   "metadata": {},
   "outputs": [],
   "source": [
    "rf_pipe_params = {\n",
    "    'tvec__max_features': [2000, 2500],\n",
    "    'tvec__min_df': [2, 3, 4],\n",
    "    'tvec__max_df': [0.45, 0.5],\n",
    "    'tvec__ngram_range': [(1,2)],\n",
    "    'tvec__stop_words': [eng_stopwords_stemmed],\n",
    "    'rf__n_estimators': [100, 150],\n",
    "    'rf__max_depth': [None, 7],\n",
    "    'rf__n_jobs': [4]\n",
    "}"
   ]
  },
  {
   "cell_type": "code",
   "execution_count": 72,
   "id": "6196a448-9cc3-40ce-b499-08af9a37c22a",
   "metadata": {},
   "outputs": [],
   "source": [
    "rf_gs = GridSearchCV(rf_pipe,\n",
    "                      param_grid = rf_pipe_params,\n",
    "                      cv = 5)"
   ]
  },
  {
   "cell_type": "code",
   "execution_count": 73,
   "id": "f16ef61e-def3-4034-8e05-ba41a3cc1370",
   "metadata": {},
   "outputs": [
    {
     "data": {
      "text/html": [
       "<style>#sk-container-id-9 {color: black;background-color: white;}#sk-container-id-9 pre{padding: 0;}#sk-container-id-9 div.sk-toggleable {background-color: white;}#sk-container-id-9 label.sk-toggleable__label {cursor: pointer;display: block;width: 100%;margin-bottom: 0;padding: 0.3em;box-sizing: border-box;text-align: center;}#sk-container-id-9 label.sk-toggleable__label-arrow:before {content: \"▸\";float: left;margin-right: 0.25em;color: #696969;}#sk-container-id-9 label.sk-toggleable__label-arrow:hover:before {color: black;}#sk-container-id-9 div.sk-estimator:hover label.sk-toggleable__label-arrow:before {color: black;}#sk-container-id-9 div.sk-toggleable__content {max-height: 0;max-width: 0;overflow: hidden;text-align: left;background-color: #f0f8ff;}#sk-container-id-9 div.sk-toggleable__content pre {margin: 0.2em;color: black;border-radius: 0.25em;background-color: #f0f8ff;}#sk-container-id-9 input.sk-toggleable__control:checked~div.sk-toggleable__content {max-height: 200px;max-width: 100%;overflow: auto;}#sk-container-id-9 input.sk-toggleable__control:checked~label.sk-toggleable__label-arrow:before {content: \"▾\";}#sk-container-id-9 div.sk-estimator input.sk-toggleable__control:checked~label.sk-toggleable__label {background-color: #d4ebff;}#sk-container-id-9 div.sk-label input.sk-toggleable__control:checked~label.sk-toggleable__label {background-color: #d4ebff;}#sk-container-id-9 input.sk-hidden--visually {border: 0;clip: rect(1px 1px 1px 1px);clip: rect(1px, 1px, 1px, 1px);height: 1px;margin: -1px;overflow: hidden;padding: 0;position: absolute;width: 1px;}#sk-container-id-9 div.sk-estimator {font-family: monospace;background-color: #f0f8ff;border: 1px dotted black;border-radius: 0.25em;box-sizing: border-box;margin-bottom: 0.5em;}#sk-container-id-9 div.sk-estimator:hover {background-color: #d4ebff;}#sk-container-id-9 div.sk-parallel-item::after {content: \"\";width: 100%;border-bottom: 1px solid gray;flex-grow: 1;}#sk-container-id-9 div.sk-label:hover label.sk-toggleable__label {background-color: #d4ebff;}#sk-container-id-9 div.sk-serial::before {content: \"\";position: absolute;border-left: 1px solid gray;box-sizing: border-box;top: 0;bottom: 0;left: 50%;z-index: 0;}#sk-container-id-9 div.sk-serial {display: flex;flex-direction: column;align-items: center;background-color: white;padding-right: 0.2em;padding-left: 0.2em;position: relative;}#sk-container-id-9 div.sk-item {position: relative;z-index: 1;}#sk-container-id-9 div.sk-parallel {display: flex;align-items: stretch;justify-content: center;background-color: white;position: relative;}#sk-container-id-9 div.sk-item::before, #sk-container-id-9 div.sk-parallel-item::before {content: \"\";position: absolute;border-left: 1px solid gray;box-sizing: border-box;top: 0;bottom: 0;left: 50%;z-index: -1;}#sk-container-id-9 div.sk-parallel-item {display: flex;flex-direction: column;z-index: 1;position: relative;background-color: white;}#sk-container-id-9 div.sk-parallel-item:first-child::after {align-self: flex-end;width: 50%;}#sk-container-id-9 div.sk-parallel-item:last-child::after {align-self: flex-start;width: 50%;}#sk-container-id-9 div.sk-parallel-item:only-child::after {width: 0;}#sk-container-id-9 div.sk-dashed-wrapped {border: 1px dashed gray;margin: 0 0.4em 0.5em 0.4em;box-sizing: border-box;padding-bottom: 0.4em;background-color: white;}#sk-container-id-9 div.sk-label label {font-family: monospace;font-weight: bold;display: inline-block;line-height: 1.2em;}#sk-container-id-9 div.sk-label-container {text-align: center;}#sk-container-id-9 div.sk-container {/* jupyter's `normalize.less` sets `[hidden] { display: none; }` but bootstrap.min.css set `[hidden] { display: none !important; }` so we also need the `!important` here to be able to override the default hidden behavior on the sphinx rendered scikit-learn.org. See: https://github.com/scikit-learn/scikit-learn/issues/21755 */display: inline-block !important;position: relative;}#sk-container-id-9 div.sk-text-repr-fallback {display: none;}</style><div id=\"sk-container-id-9\" class=\"sk-top-container\"><div class=\"sk-text-repr-fallback\"><pre>GridSearchCV(cv=5,\n",
       "             estimator=Pipeline(steps=[(&#x27;tvec&#x27;, TfidfVectorizer()),\n",
       "                                       (&#x27;rf&#x27;, RandomForestClassifier())]),\n",
       "             param_grid={&#x27;rf__max_depth&#x27;: [None, 7],\n",
       "                         &#x27;rf__n_estimators&#x27;: [100, 150], &#x27;rf__n_jobs&#x27;: [4],\n",
       "                         &#x27;tvec__max_df&#x27;: [0.45, 0.5],\n",
       "                         &#x27;tvec__max_features&#x27;: [2000, 2500],\n",
       "                         &#x27;tvec__min_df&#x27;: [2, 3, 4],\n",
       "                         &#x27;tvec__ngram_range&#x27;: [(1, 2)],\n",
       "                         &#x27;tvec__stop_words&#x27;: [[&#x27;i&#x27;, &#x27;me&#x27;, &#x27;my&#x27;, &#x27;myself&#x27;, &#x27;we&#x27;,\n",
       "                                               &#x27;our&#x27;, &#x27;our&#x27;, &#x27;ourselv&#x27;, &#x27;you&#x27;,\n",
       "                                               &#x27;you&#x27;, &#x27;re&#x27;, &#x27;you&#x27;, &#x27;ve&#x27;, &#x27;you&#x27;,\n",
       "                                               &#x27;ll&#x27;, &#x27;you&#x27;, &#x27;d&#x27;, &#x27;your&#x27;, &#x27;your&#x27;,\n",
       "                                               &#x27;yourself&#x27;, &#x27;yourselv&#x27;, &#x27;he&#x27;,\n",
       "                                               &#x27;him&#x27;, &#x27;hi&#x27;, &#x27;himself&#x27;, &#x27;she&#x27;,\n",
       "                                               &#x27;she&#x27;, &#x27;s&#x27;, &#x27;her&#x27;, &#x27;her&#x27;, ...]]})</pre><b>In a Jupyter environment, please rerun this cell to show the HTML representation or trust the notebook. <br />On GitHub, the HTML representation is unable to render, please try loading this page with nbviewer.org.</b></div><div class=\"sk-container\" hidden><div class=\"sk-item sk-dashed-wrapped\"><div class=\"sk-label-container\"><div class=\"sk-label sk-toggleable\"><input class=\"sk-toggleable__control sk-hidden--visually\" id=\"sk-estimator-id-33\" type=\"checkbox\" ><label for=\"sk-estimator-id-33\" class=\"sk-toggleable__label sk-toggleable__label-arrow\">GridSearchCV</label><div class=\"sk-toggleable__content\"><pre>GridSearchCV(cv=5,\n",
       "             estimator=Pipeline(steps=[(&#x27;tvec&#x27;, TfidfVectorizer()),\n",
       "                                       (&#x27;rf&#x27;, RandomForestClassifier())]),\n",
       "             param_grid={&#x27;rf__max_depth&#x27;: [None, 7],\n",
       "                         &#x27;rf__n_estimators&#x27;: [100, 150], &#x27;rf__n_jobs&#x27;: [4],\n",
       "                         &#x27;tvec__max_df&#x27;: [0.45, 0.5],\n",
       "                         &#x27;tvec__max_features&#x27;: [2000, 2500],\n",
       "                         &#x27;tvec__min_df&#x27;: [2, 3, 4],\n",
       "                         &#x27;tvec__ngram_range&#x27;: [(1, 2)],\n",
       "                         &#x27;tvec__stop_words&#x27;: [[&#x27;i&#x27;, &#x27;me&#x27;, &#x27;my&#x27;, &#x27;myself&#x27;, &#x27;we&#x27;,\n",
       "                                               &#x27;our&#x27;, &#x27;our&#x27;, &#x27;ourselv&#x27;, &#x27;you&#x27;,\n",
       "                                               &#x27;you&#x27;, &#x27;re&#x27;, &#x27;you&#x27;, &#x27;ve&#x27;, &#x27;you&#x27;,\n",
       "                                               &#x27;ll&#x27;, &#x27;you&#x27;, &#x27;d&#x27;, &#x27;your&#x27;, &#x27;your&#x27;,\n",
       "                                               &#x27;yourself&#x27;, &#x27;yourselv&#x27;, &#x27;he&#x27;,\n",
       "                                               &#x27;him&#x27;, &#x27;hi&#x27;, &#x27;himself&#x27;, &#x27;she&#x27;,\n",
       "                                               &#x27;she&#x27;, &#x27;s&#x27;, &#x27;her&#x27;, &#x27;her&#x27;, ...]]})</pre></div></div></div><div class=\"sk-parallel\"><div class=\"sk-parallel-item\"><div class=\"sk-item\"><div class=\"sk-label-container\"><div class=\"sk-label sk-toggleable\"><input class=\"sk-toggleable__control sk-hidden--visually\" id=\"sk-estimator-id-34\" type=\"checkbox\" ><label for=\"sk-estimator-id-34\" class=\"sk-toggleable__label sk-toggleable__label-arrow\">estimator: Pipeline</label><div class=\"sk-toggleable__content\"><pre>Pipeline(steps=[(&#x27;tvec&#x27;, TfidfVectorizer()), (&#x27;rf&#x27;, RandomForestClassifier())])</pre></div></div></div><div class=\"sk-serial\"><div class=\"sk-item\"><div class=\"sk-serial\"><div class=\"sk-item\"><div class=\"sk-estimator sk-toggleable\"><input class=\"sk-toggleable__control sk-hidden--visually\" id=\"sk-estimator-id-35\" type=\"checkbox\" ><label for=\"sk-estimator-id-35\" class=\"sk-toggleable__label sk-toggleable__label-arrow\">TfidfVectorizer</label><div class=\"sk-toggleable__content\"><pre>TfidfVectorizer()</pre></div></div></div><div class=\"sk-item\"><div class=\"sk-estimator sk-toggleable\"><input class=\"sk-toggleable__control sk-hidden--visually\" id=\"sk-estimator-id-36\" type=\"checkbox\" ><label for=\"sk-estimator-id-36\" class=\"sk-toggleable__label sk-toggleable__label-arrow\">RandomForestClassifier</label><div class=\"sk-toggleable__content\"><pre>RandomForestClassifier()</pre></div></div></div></div></div></div></div></div></div></div></div></div>"
      ],
      "text/plain": [
       "GridSearchCV(cv=5,\n",
       "             estimator=Pipeline(steps=[('tvec', TfidfVectorizer()),\n",
       "                                       ('rf', RandomForestClassifier())]),\n",
       "             param_grid={'rf__max_depth': [None, 7],\n",
       "                         'rf__n_estimators': [100, 150], 'rf__n_jobs': [4],\n",
       "                         'tvec__max_df': [0.45, 0.5],\n",
       "                         'tvec__max_features': [2000, 2500],\n",
       "                         'tvec__min_df': [2, 3, 4],\n",
       "                         'tvec__ngram_range': [(1, 2)],\n",
       "                         'tvec__stop_words': [['i', 'me', 'my', 'myself', 'we',\n",
       "                                               'our', 'our', 'ourselv', 'you',\n",
       "                                               'you', 're', 'you', 've', 'you',\n",
       "                                               'll', 'you', 'd', 'your', 'your',\n",
       "                                               'yourself', 'yourselv', 'he',\n",
       "                                               'him', 'hi', 'himself', 'she',\n",
       "                                               'she', 's', 'her', 'her', ...]]})"
      ]
     },
     "execution_count": 73,
     "metadata": {},
     "output_type": "execute_result"
    }
   ],
   "source": [
    "rf_gs.fit(X_train_s, y_train_s)"
   ]
  },
  {
   "cell_type": "markdown",
   "id": "0e576875-5e4a-45ed-9c2b-a3c032987491",
   "metadata": {},
   "source": [
    "##### Best Parameters #####"
   ]
  },
  {
   "cell_type": "code",
   "execution_count": 74,
   "id": "f1720fe4-549c-4bba-85b6-dc055d5de15c",
   "metadata": {},
   "outputs": [
    {
     "data": {
      "text/plain": [
       "{'rf__max_depth': None,\n",
       " 'rf__n_estimators': 100,\n",
       " 'rf__n_jobs': 4,\n",
       " 'tvec__max_df': 0.5,\n",
       " 'tvec__max_features': 2000,\n",
       " 'tvec__min_df': 3,\n",
       " 'tvec__ngram_range': (1, 2)}"
      ]
     },
     "execution_count": 74,
     "metadata": {},
     "output_type": "execute_result"
    }
   ],
   "source": [
    "rf_gs.best_params_.pop('tvec__stop_words')\n",
    "rf_gs.best_params_"
   ]
  },
  {
   "cell_type": "markdown",
   "id": "c715a8c5-063d-4b2f-b604-d8f58fcdcb4f",
   "metadata": {},
   "source": [
    "##### Model Performance Metrics #####"
   ]
  },
  {
   "cell_type": "code",
   "execution_count": 75,
   "id": "204abed6-eeb5-45fd-88cb-5c59c75ff93a",
   "metadata": {},
   "outputs": [
    {
     "data": {
      "image/png": "[encoded data removed]",
      "text/plain": [
       "<Figure size 640x480 with 2 Axes>"
      ]
     },
     "metadata": {},
     "output_type": "display_data"
    }
   ],
   "source": [
    "ConfusionMatrixDisplay.from_estimator(rf_gs, X_test_s, y_test_s, cmap = 'Reds');"
   ]
  },
  {
   "cell_type": "code",
   "execution_count": 76,
   "id": "e67e8c97-b495-43ec-8418-686676d5cd55",
   "metadata": {},
   "outputs": [
    {
     "data": {
      "text/html": [
       "<div>\n",
       "<style scoped>\n",
       "    .dataframe tbody tr th:only-of-type {\n",
       "        vertical-align: middle;\n",
       "    }\n",
       "\n",
       "    .dataframe tbody tr th {\n",
       "        vertical-align: top;\n",
       "    }\n",
       "\n",
       "    .dataframe thead th {\n",
       "        text-align: right;\n",
       "    }\n",
       "</style>\n",
       "<table border=\"1\" class=\"dataframe\">\n",
       "  <thead>\n",
       "    <tr style=\"text-align: right;\">\n",
       "      <th></th>\n",
       "      <th>train_accuracy</th>\n",
       "      <th>accuracy</th>\n",
       "      <th>sensitivity</th>\n",
       "    </tr>\n",
       "  </thead>\n",
       "  <tbody>\n",
       "    <tr>\n",
       "      <th>0</th>\n",
       "      <td>1.0</td>\n",
       "      <td>0.972973</td>\n",
       "      <td>0.961661</td>\n",
       "    </tr>\n",
       "  </tbody>\n",
       "</table>\n",
       "</div>"
      ],
      "text/plain": [
       "   train_accuracy  accuracy  sensitivity\n",
       "0             1.0  0.972973     0.961661"
      ]
     },
     "execution_count": 76,
     "metadata": {},
     "output_type": "execute_result"
    }
   ],
   "source": [
    "rf_metrics = model_stats(rf_gs, 'rf', 't', 's')\n",
    "model_metrics.append(rf_metrics)\n",
    "pd.DataFrame(rf_metrics, index=[0])[['train_accuracy', 'accuracy','sensitivity']]"
   ]
  },
  {
   "cell_type": "markdown",
   "id": "81f91ea7-986c-4d02-9f8c-cd8ef27cd359",
   "metadata": {},
   "source": [
    "##### Model Performance Summary #####\n",
    "The **Random Forest** model slightly underperformed compared to the best **Logistic Regression** model, with an **accuracy** score of .973, compared to .979 for **Logistic Regression**.\n",
    "\n",
    "**Random Forest** also does not appear to be quite as well optimized for **sensitivity**, with a lower score of .962 (vs .981 for **Logistic Regression**)"
   ]
  },
  {
   "cell_type": "markdown",
   "id": "6915d532-3d41-43f4-8a81-7bd1c5a986af",
   "metadata": {
    "tags": []
   },
   "source": [
    "#### 2.b. Crutch Words Removed ####"
   ]
  },
  {
   "cell_type": "markdown",
   "id": "255b54d0-e15a-4b07-8510-e7c4d4f7be4d",
   "metadata": {},
   "source": [
    "##### Model Instantiation and Fitting #####"
   ]
  },
  {
   "cell_type": "code",
   "execution_count": 77,
   "id": "230b800f-5784-47c3-a3f5-2bb39f74d335",
   "metadata": {},
   "outputs": [],
   "source": [
    "rf_c_pipe = Pipeline([\n",
    "    ('tvec', TfidfVectorizer()),\n",
    "    ('rf', RandomForestClassifier())\n",
    "])"
   ]
  },
  {
   "cell_type": "code",
   "execution_count": 78,
   "id": "f92111ec-0277-44a6-bcbc-bdd3bcbaccd5",
   "metadata": {},
   "outputs": [],
   "source": [
    "rf_c_pipe_params = {\n",
    "    'tvec__max_features': [4000, 5000, 6000],\n",
    "    'tvec__min_df': [1, 2],\n",
    "    'tvec__max_df': [0.25, 0.3, 0.35],\n",
    "    'tvec__ngram_range': [(1,2)],\n",
    "    'tvec__stop_words': [crutch_words_stemmed],\n",
    "    'rf__n_estimators': [150, 200, 250],\n",
    "    'rf__min_samples_leaf': [1],\n",
    "    'rf__n_jobs': [4]\n",
    "}"
   ]
  },
  {
   "cell_type": "code",
   "execution_count": 79,
   "id": "9699e4e2-403f-4ce6-ac32-87b4dcfb71c8",
   "metadata": {},
   "outputs": [],
   "source": [
    "rf_c_gs = GridSearchCV(rf_c_pipe,\n",
    "                      param_grid = rf_c_pipe_params,\n",
    "                      cv = 5)"
   ]
  },
  {
   "cell_type": "code",
   "execution_count": 80,
   "id": "8a57fcc9-7888-43a8-9373-58e7d6d30a17",
   "metadata": {},
   "outputs": [
    {
     "data": {
      "text/html": [
       "<style>#sk-container-id-10 {color: black;background-color: white;}#sk-container-id-10 pre{padding: 0;}#sk-container-id-10 div.sk-toggleable {background-color: white;}#sk-container-id-10 label.sk-toggleable__label {cursor: pointer;display: block;width: 100%;margin-bottom: 0;padding: 0.3em;box-sizing: border-box;text-align: center;}#sk-container-id-10 label.sk-toggleable__label-arrow:before {content: \"▸\";float: left;margin-right: 0.25em;color: #696969;}#sk-container-id-10 label.sk-toggleable__label-arrow:hover:before {color: black;}#sk-container-id-10 div.sk-estimator:hover label.sk-toggleable__label-arrow:before {color: black;}#sk-container-id-10 div.sk-toggleable__content {max-height: 0;max-width: 0;overflow: hidden;text-align: left;background-color: #f0f8ff;}#sk-container-id-10 div.sk-toggleable__content pre {margin: 0.2em;color: black;border-radius: 0.25em;background-color: #f0f8ff;}#sk-container-id-10 input.sk-toggleable__control:checked~div.sk-toggleable__content {max-height: 200px;max-width: 100%;overflow: auto;}#sk-container-id-10 input.sk-toggleable__control:checked~label.sk-toggleable__label-arrow:before {content: \"▾\";}#sk-container-id-10 div.sk-estimator input.sk-toggleable__control:checked~label.sk-toggleable__label {background-color: #d4ebff;}#sk-container-id-10 div.sk-label input.sk-toggleable__control:checked~label.sk-toggleable__label {background-color: #d4ebff;}#sk-container-id-10 input.sk-hidden--visually {border: 0;clip: rect(1px 1px 1px 1px);clip: rect(1px, 1px, 1px, 1px);height: 1px;margin: -1px;overflow: hidden;padding: 0;position: absolute;width: 1px;}#sk-container-id-10 div.sk-estimator {font-family: monospace;background-color: #f0f8ff;border: 1px dotted black;border-radius: 0.25em;box-sizing: border-box;margin-bottom: 0.5em;}#sk-container-id-10 div.sk-estimator:hover {background-color: #d4ebff;}#sk-container-id-10 div.sk-parallel-item::after {content: \"\";width: 100%;border-bottom: 1px solid gray;flex-grow: 1;}#sk-container-id-10 div.sk-label:hover label.sk-toggleable__label {background-color: #d4ebff;}#sk-container-id-10 div.sk-serial::before {content: \"\";position: absolute;border-left: 1px solid gray;box-sizing: border-box;top: 0;bottom: 0;left: 50%;z-index: 0;}#sk-container-id-10 div.sk-serial {display: flex;flex-direction: column;align-items: center;background-color: white;padding-right: 0.2em;padding-left: 0.2em;position: relative;}#sk-container-id-10 div.sk-item {position: relative;z-index: 1;}#sk-container-id-10 div.sk-parallel {display: flex;align-items: stretch;justify-content: center;background-color: white;position: relative;}#sk-container-id-10 div.sk-item::before, #sk-container-id-10 div.sk-parallel-item::before {content: \"\";position: absolute;border-left: 1px solid gray;box-sizing: border-box;top: 0;bottom: 0;left: 50%;z-index: -1;}#sk-container-id-10 div.sk-parallel-item {display: flex;flex-direction: column;z-index: 1;position: relative;background-color: white;}#sk-container-id-10 div.sk-parallel-item:first-child::after {align-self: flex-end;width: 50%;}#sk-container-id-10 div.sk-parallel-item:last-child::after {align-self: flex-start;width: 50%;}#sk-container-id-10 div.sk-parallel-item:only-child::after {width: 0;}#sk-container-id-10 div.sk-dashed-wrapped {border: 1px dashed gray;margin: 0 0.4em 0.5em 0.4em;box-sizing: border-box;padding-bottom: 0.4em;background-color: white;}#sk-container-id-10 div.sk-label label {font-family: monospace;font-weight: bold;display: inline-block;line-height: 1.2em;}#sk-container-id-10 div.sk-label-container {text-align: center;}#sk-container-id-10 div.sk-container {/* jupyter's `normalize.less` sets `[hidden] { display: none; }` but bootstrap.min.css set `[hidden] { display: none !important; }` so we also need the `!important` here to be able to override the default hidden behavior on the sphinx rendered scikit-learn.org. See: https://github.com/scikit-learn/scikit-learn/issues/21755 */display: inline-block !important;position: relative;}#sk-container-id-10 div.sk-text-repr-fallback {display: none;}</style><div id=\"sk-container-id-10\" class=\"sk-top-container\"><div class=\"sk-text-repr-fallback\"><pre>GridSearchCV(cv=5,\n",
       "             estimator=Pipeline(steps=[(&#x27;tvec&#x27;, TfidfVectorizer()),\n",
       "                                       (&#x27;rf&#x27;, RandomForestClassifier())]),\n",
       "             param_grid={&#x27;rf__min_samples_leaf&#x27;: [1],\n",
       "                         &#x27;rf__n_estimators&#x27;: [150, 200, 250], &#x27;rf__n_jobs&#x27;: [4],\n",
       "                         &#x27;tvec__max_df&#x27;: [0.25, 0.3, 0.35],\n",
       "                         &#x27;tvec__max_features&#x27;: [4000, 5000, 6000],\n",
       "                         &#x27;tvec__min_df&#x27;: [1, 2], &#x27;tvec__ngram_range&#x27;: [(1, 2)],\n",
       "                         &#x27;tvec__stop_words&#x27;: [[&#x27;i&#x27;, &#x27;me&#x27;, &#x27;my&#x27;, &#x27;myself&#x27;, &#x27;we&#x27;,\n",
       "                                               &#x27;our&#x27;, &#x27;our&#x27;, &#x27;ourselv&#x27;, &#x27;you&#x27;,\n",
       "                                               &#x27;you&#x27;, &#x27;re&#x27;, &#x27;you&#x27;, &#x27;ve&#x27;, &#x27;you&#x27;,\n",
       "                                               &#x27;ll&#x27;, &#x27;you&#x27;, &#x27;d&#x27;, &#x27;your&#x27;, &#x27;your&#x27;,\n",
       "                                               &#x27;yourself&#x27;, &#x27;yourselv&#x27;, &#x27;he&#x27;,\n",
       "                                               &#x27;him&#x27;, &#x27;hi&#x27;, &#x27;himself&#x27;, &#x27;she&#x27;,\n",
       "                                               &#x27;she&#x27;, &#x27;s&#x27;, &#x27;her&#x27;, &#x27;her&#x27;, ...]]})</pre><b>In a Jupyter environment, please rerun this cell to show the HTML representation or trust the notebook. <br />On GitHub, the HTML representation is unable to render, please try loading this page with nbviewer.org.</b></div><div class=\"sk-container\" hidden><div class=\"sk-item sk-dashed-wrapped\"><div class=\"sk-label-container\"><div class=\"sk-label sk-toggleable\"><input class=\"sk-toggleable__control sk-hidden--visually\" id=\"sk-estimator-id-37\" type=\"checkbox\" ><label for=\"sk-estimator-id-37\" class=\"sk-toggleable__label sk-toggleable__label-arrow\">GridSearchCV</label><div class=\"sk-toggleable__content\"><pre>GridSearchCV(cv=5,\n",
       "             estimator=Pipeline(steps=[(&#x27;tvec&#x27;, TfidfVectorizer()),\n",
       "                                       (&#x27;rf&#x27;, RandomForestClassifier())]),\n",
       "             param_grid={&#x27;rf__min_samples_leaf&#x27;: [1],\n",
       "                         &#x27;rf__n_estimators&#x27;: [150, 200, 250], &#x27;rf__n_jobs&#x27;: [4],\n",
       "                         &#x27;tvec__max_df&#x27;: [0.25, 0.3, 0.35],\n",
       "                         &#x27;tvec__max_features&#x27;: [4000, 5000, 6000],\n",
       "                         &#x27;tvec__min_df&#x27;: [1, 2], &#x27;tvec__ngram_range&#x27;: [(1, 2)],\n",
       "                         &#x27;tvec__stop_words&#x27;: [[&#x27;i&#x27;, &#x27;me&#x27;, &#x27;my&#x27;, &#x27;myself&#x27;, &#x27;we&#x27;,\n",
       "                                               &#x27;our&#x27;, &#x27;our&#x27;, &#x27;ourselv&#x27;, &#x27;you&#x27;,\n",
       "                                               &#x27;you&#x27;, &#x27;re&#x27;, &#x27;you&#x27;, &#x27;ve&#x27;, &#x27;you&#x27;,\n",
       "                                               &#x27;ll&#x27;, &#x27;you&#x27;, &#x27;d&#x27;, &#x27;your&#x27;, &#x27;your&#x27;,\n",
       "                                               &#x27;yourself&#x27;, &#x27;yourselv&#x27;, &#x27;he&#x27;,\n",
       "                                               &#x27;him&#x27;, &#x27;hi&#x27;, &#x27;himself&#x27;, &#x27;she&#x27;,\n",
       "                                               &#x27;she&#x27;, &#x27;s&#x27;, &#x27;her&#x27;, &#x27;her&#x27;, ...]]})</pre></div></div></div><div class=\"sk-parallel\"><div class=\"sk-parallel-item\"><div class=\"sk-item\"><div class=\"sk-label-container\"><div class=\"sk-label sk-toggleable\"><input class=\"sk-toggleable__control sk-hidden--visually\" id=\"sk-estimator-id-38\" type=\"checkbox\" ><label for=\"sk-estimator-id-38\" class=\"sk-toggleable__label sk-toggleable__label-arrow\">estimator: Pipeline</label><div class=\"sk-toggleable__content\"><pre>Pipeline(steps=[(&#x27;tvec&#x27;, TfidfVectorizer()), (&#x27;rf&#x27;, RandomForestClassifier())])</pre></div></div></div><div class=\"sk-serial\"><div class=\"sk-item\"><div class=\"sk-serial\"><div class=\"sk-item\"><div class=\"sk-estimator sk-toggleable\"><input class=\"sk-toggleable__control sk-hidden--visually\" id=\"sk-estimator-id-39\" type=\"checkbox\" ><label for=\"sk-estimator-id-39\" class=\"sk-toggleable__label sk-toggleable__label-arrow\">TfidfVectorizer</label><div class=\"sk-toggleable__content\"><pre>TfidfVectorizer()</pre></div></div></div><div class=\"sk-item\"><div class=\"sk-estimator sk-toggleable\"><input class=\"sk-toggleable__control sk-hidden--visually\" id=\"sk-estimator-id-40\" type=\"checkbox\" ><label for=\"sk-estimator-id-40\" class=\"sk-toggleable__label sk-toggleable__label-arrow\">RandomForestClassifier</label><div class=\"sk-toggleable__content\"><pre>RandomForestClassifier()</pre></div></div></div></div></div></div></div></div></div></div></div></div>"
      ],
      "text/plain": [
       "GridSearchCV(cv=5,\n",
       "             estimator=Pipeline(steps=[('tvec', TfidfVectorizer()),\n",
       "                                       ('rf', RandomForestClassifier())]),\n",
       "             param_grid={'rf__min_samples_leaf': [1],\n",
       "                         'rf__n_estimators': [150, 200, 250], 'rf__n_jobs': [4],\n",
       "                         'tvec__max_df': [0.25, 0.3, 0.35],\n",
       "                         'tvec__max_features': [4000, 5000, 6000],\n",
       "                         'tvec__min_df': [1, 2], 'tvec__ngram_range': [(1, 2)],\n",
       "                         'tvec__stop_words': [['i', 'me', 'my', 'myself', 'we',\n",
       "                                               'our', 'our', 'ourselv', 'you',\n",
       "                                               'you', 're', 'you', 've', 'you',\n",
       "                                               'll', 'you', 'd', 'your', 'your',\n",
       "                                               'yourself', 'yourselv', 'he',\n",
       "                                               'him', 'hi', 'himself', 'she',\n",
       "                                               'she', 's', 'her', 'her', ...]]})"
      ]
     },
     "execution_count": 80,
     "metadata": {},
     "output_type": "execute_result"
    }
   ],
   "source": [
    "rf_c_gs.fit(X_train_s, y_train_s)"
   ]
  },
  {
   "cell_type": "markdown",
   "id": "42f5fe29-099e-4315-9034-2bbf846c37bb",
   "metadata": {},
   "source": [
    "##### Best Parameters #####"
   ]
  },
  {
   "cell_type": "code",
   "execution_count": 81,
   "id": "59c7c4b2-2599-4f79-8d11-9e8146d5084c",
   "metadata": {},
   "outputs": [
    {
     "data": {
      "text/plain": [
       "{'rf__min_samples_leaf': 1,\n",
       " 'rf__n_estimators': 250,\n",
       " 'rf__n_jobs': 4,\n",
       " 'tvec__max_df': 0.3,\n",
       " 'tvec__max_features': 6000,\n",
       " 'tvec__min_df': 1,\n",
       " 'tvec__ngram_range': (1, 2)}"
      ]
     },
     "execution_count": 81,
     "metadata": {},
     "output_type": "execute_result"
    }
   ],
   "source": [
    "rf_c_gs.best_params_.pop('tvec__stop_words')\n",
    "rf_c_gs.best_params_"
   ]
  },
  {
   "cell_type": "markdown",
   "id": "a76813aa-3de7-4262-8a79-a3fd1a6f2be9",
   "metadata": {},
   "source": [
    "##### Model Performance Metrics #####"
   ]
  },
  {
   "cell_type": "code",
   "execution_count": 82,
   "id": "7fc583c8-50ba-4864-bd39-8578e999da51",
   "metadata": {},
   "outputs": [
    {
     "data": {
      "image/png": "[encoded data removed]",
      "text/plain": [
       "<Figure size 640x480 with 2 Axes>"
      ]
     },
     "metadata": {},
     "output_type": "display_data"
    }
   ],
   "source": [
    "ConfusionMatrixDisplay.from_estimator(rf_c_gs, X_test_s, y_test_s, cmap = 'Reds');"
   ]
  },
  {
   "cell_type": "code",
   "execution_count": 83,
   "id": "6663a19e-995e-4bc9-ae33-8a83488e3e6a",
   "metadata": {},
   "outputs": [
    {
     "data": {
      "text/html": [
       "<div>\n",
       "<style scoped>\n",
       "    .dataframe tbody tr th:only-of-type {\n",
       "        vertical-align: middle;\n",
       "    }\n",
       "\n",
       "    .dataframe tbody tr th {\n",
       "        vertical-align: top;\n",
       "    }\n",
       "\n",
       "    .dataframe thead th {\n",
       "        text-align: right;\n",
       "    }\n",
       "</style>\n",
       "<table border=\"1\" class=\"dataframe\">\n",
       "  <thead>\n",
       "    <tr style=\"text-align: right;\">\n",
       "      <th></th>\n",
       "      <th>train_accuracy</th>\n",
       "      <th>accuracy</th>\n",
       "      <th>sensitivity</th>\n",
       "    </tr>\n",
       "  </thead>\n",
       "  <tbody>\n",
       "    <tr>\n",
       "      <th>0</th>\n",
       "      <td>1.0</td>\n",
       "      <td>0.90991</td>\n",
       "      <td>0.875399</td>\n",
       "    </tr>\n",
       "  </tbody>\n",
       "</table>\n",
       "</div>"
      ],
      "text/plain": [
       "   train_accuracy  accuracy  sensitivity\n",
       "0             1.0   0.90991     0.875399"
      ]
     },
     "execution_count": 83,
     "metadata": {},
     "output_type": "execute_result"
    }
   ],
   "source": [
    "rf_c_metrics = model_stats(rf_c_gs, 'rf', 't', 's', crutch_words=True)\n",
    "model_metrics.append(rf_c_metrics)\n",
    "pd.DataFrame(rf_c_metrics, index=[0])[['train_accuracy', 'accuracy','sensitivity']]"
   ]
  },
  {
   "cell_type": "markdown",
   "id": "c70fdb81-588c-4625-90a7-96ec4a961fe8",
   "metadata": {},
   "source": [
    "##### Model Performance #####\n",
    "It's interesting to see some pretty different results between the two **Random Forest** models. The model on the **crutch words allowed** data, when compared to **Logistic Regression**, saw similar performance on **accuracy**, but saw decreased performance along the **sensitivity** metric.\n",
    "\n",
    "The **Random Forest** model with **crutch words** removed, by contrast, had decreased performance on **accuracy** compared to **Logistic Regression**, but performed similarly on the **sensitivity** metric."
   ]
  },
  {
   "cell_type": "markdown",
   "id": "9a247908-12c5-4025-81d0-f6d21253d873",
   "metadata": {
    "tags": []
   },
   "source": [
    "### 3. Gradient Boost ###"
   ]
  },
  {
   "cell_type": "markdown",
   "id": "9a2230e4-4b71-4b6a-8b1a-e25a8bb9b9fd",
   "metadata": {
    "tags": []
   },
   "source": [
    "#### 3.a. Crutch Words Allowed ####"
   ]
  },
  {
   "cell_type": "markdown",
   "id": "d0f03d89-bba1-4628-b77b-aa81c69a9c6c",
   "metadata": {},
   "source": [
    "##### Model Instantiation and Fitting #####"
   ]
  },
  {
   "cell_type": "code",
   "execution_count": 84,
   "id": "e9e00d8c-f661-482c-8562-af3028a1ddf7",
   "metadata": {},
   "outputs": [],
   "source": [
    "gb_pipe = Pipeline([\n",
    "    ('tvec', TfidfVectorizer()),\n",
    "    ('gb', GradientBoostingClassifier())\n",
    "])"
   ]
  },
  {
   "cell_type": "code",
   "execution_count": 85,
   "id": "2d38c5cd-037e-4068-889e-c908cdfc7ee2",
   "metadata": {},
   "outputs": [],
   "source": [
    "gb_pipe_params = {\n",
    "    'tvec__max_features': [1500, 2000, 2500],\n",
    "    'tvec__min_df': [2, 3, 4],\n",
    "    'tvec__max_df': [0.5, 0.6, 0.7],\n",
    "    'tvec__ngram_range': [(1,2)],\n",
    "    'tvec__stop_words': [eng_stopwords_stemmed],\n",
    "    'gb__n_estimators': [150, 200],\n",
    "    'gb__max_depth': [1, 2],\n",
    "    'gb__learning_rate': [0.1, 1]\n",
    "}"
   ]
  },
  {
   "cell_type": "code",
   "execution_count": 86,
   "id": "46c85fcc-246d-4f77-b688-89ff8a308dd5",
   "metadata": {},
   "outputs": [],
   "source": [
    "gb_gs = GridSearchCV(gb_pipe,\n",
    "                      param_grid = gb_pipe_params,\n",
    "                      cv = 5)"
   ]
  },
  {
   "cell_type": "code",
   "execution_count": 87,
   "id": "3f8c7ae5-ca07-4f50-b600-7f7e26572b81",
   "metadata": {},
   "outputs": [
    {
     "data": {
      "text/html": [
       "<style>#sk-container-id-11 {color: black;background-color: white;}#sk-container-id-11 pre{padding: 0;}#sk-container-id-11 div.sk-toggleable {background-color: white;}#sk-container-id-11 label.sk-toggleable__label {cursor: pointer;display: block;width: 100%;margin-bottom: 0;padding: 0.3em;box-sizing: border-box;text-align: center;}#sk-container-id-11 label.sk-toggleable__label-arrow:before {content: \"▸\";float: left;margin-right: 0.25em;color: #696969;}#sk-container-id-11 label.sk-toggleable__label-arrow:hover:before {color: black;}#sk-container-id-11 div.sk-estimator:hover label.sk-toggleable__label-arrow:before {color: black;}#sk-container-id-11 div.sk-toggleable__content {max-height: 0;max-width: 0;overflow: hidden;text-align: left;background-color: #f0f8ff;}#sk-container-id-11 div.sk-toggleable__content pre {margin: 0.2em;color: black;border-radius: 0.25em;background-color: #f0f8ff;}#sk-container-id-11 input.sk-toggleable__control:checked~div.sk-toggleable__content {max-height: 200px;max-width: 100%;overflow: auto;}#sk-container-id-11 input.sk-toggleable__control:checked~label.sk-toggleable__label-arrow:before {content: \"▾\";}#sk-container-id-11 div.sk-estimator input.sk-toggleable__control:checked~label.sk-toggleable__label {background-color: #d4ebff;}#sk-container-id-11 div.sk-label input.sk-toggleable__control:checked~label.sk-toggleable__label {background-color: #d4ebff;}#sk-container-id-11 input.sk-hidden--visually {border: 0;clip: rect(1px 1px 1px 1px);clip: rect(1px, 1px, 1px, 1px);height: 1px;margin: -1px;overflow: hidden;padding: 0;position: absolute;width: 1px;}#sk-container-id-11 div.sk-estimator {font-family: monospace;background-color: #f0f8ff;border: 1px dotted black;border-radius: 0.25em;box-sizing: border-box;margin-bottom: 0.5em;}#sk-container-id-11 div.sk-estimator:hover {background-color: #d4ebff;}#sk-container-id-11 div.sk-parallel-item::after {content: \"\";width: 100%;border-bottom: 1px solid gray;flex-grow: 1;}#sk-container-id-11 div.sk-label:hover label.sk-toggleable__label {background-color: #d4ebff;}#sk-container-id-11 div.sk-serial::before {content: \"\";position: absolute;border-left: 1px solid gray;box-sizing: border-box;top: 0;bottom: 0;left: 50%;z-index: 0;}#sk-container-id-11 div.sk-serial {display: flex;flex-direction: column;align-items: center;background-color: white;padding-right: 0.2em;padding-left: 0.2em;position: relative;}#sk-container-id-11 div.sk-item {position: relative;z-index: 1;}#sk-container-id-11 div.sk-parallel {display: flex;align-items: stretch;justify-content: center;background-color: white;position: relative;}#sk-container-id-11 div.sk-item::before, #sk-container-id-11 div.sk-parallel-item::before {content: \"\";position: absolute;border-left: 1px solid gray;box-sizing: border-box;top: 0;bottom: 0;left: 50%;z-index: -1;}#sk-container-id-11 div.sk-parallel-item {display: flex;flex-direction: column;z-index: 1;position: relative;background-color: white;}#sk-container-id-11 div.sk-parallel-item:first-child::after {align-self: flex-end;width: 50%;}#sk-container-id-11 div.sk-parallel-item:last-child::after {align-self: flex-start;width: 50%;}#sk-container-id-11 div.sk-parallel-item:only-child::after {width: 0;}#sk-container-id-11 div.sk-dashed-wrapped {border: 1px dashed gray;margin: 0 0.4em 0.5em 0.4em;box-sizing: border-box;padding-bottom: 0.4em;background-color: white;}#sk-container-id-11 div.sk-label label {font-family: monospace;font-weight: bold;display: inline-block;line-height: 1.2em;}#sk-container-id-11 div.sk-label-container {text-align: center;}#sk-container-id-11 div.sk-container {/* jupyter's `normalize.less` sets `[hidden] { display: none; }` but bootstrap.min.css set `[hidden] { display: none !important; }` so we also need the `!important` here to be able to override the default hidden behavior on the sphinx rendered scikit-learn.org. See: https://github.com/scikit-learn/scikit-learn/issues/21755 */display: inline-block !important;position: relative;}#sk-container-id-11 div.sk-text-repr-fallback {display: none;}</style><div id=\"sk-container-id-11\" class=\"sk-top-container\"><div class=\"sk-text-repr-fallback\"><pre>GridSearchCV(cv=5,\n",
       "             estimator=Pipeline(steps=[(&#x27;tvec&#x27;, TfidfVectorizer()),\n",
       "                                       (&#x27;gb&#x27;, GradientBoostingClassifier())]),\n",
       "             param_grid={&#x27;gb__learning_rate&#x27;: [0.1, 1], &#x27;gb__max_depth&#x27;: [1, 2],\n",
       "                         &#x27;gb__n_estimators&#x27;: [150, 200],\n",
       "                         &#x27;tvec__max_df&#x27;: [0.5, 0.6, 0.7],\n",
       "                         &#x27;tvec__max_features&#x27;: [1500, 2000, 2500],\n",
       "                         &#x27;tvec__min_df&#x27;: [2, 3, 4],\n",
       "                         &#x27;tvec__ngram_range&#x27;: [(1, 2)],\n",
       "                         &#x27;tvec__stop_words&#x27;: [[&#x27;i&#x27;, &#x27;me&#x27;, &#x27;my&#x27;, &#x27;myself&#x27;, &#x27;we&#x27;,\n",
       "                                               &#x27;our&#x27;, &#x27;our&#x27;, &#x27;ourselv&#x27;, &#x27;you&#x27;,\n",
       "                                               &#x27;you&#x27;, &#x27;re&#x27;, &#x27;you&#x27;, &#x27;ve&#x27;, &#x27;you&#x27;,\n",
       "                                               &#x27;ll&#x27;, &#x27;you&#x27;, &#x27;d&#x27;, &#x27;your&#x27;, &#x27;your&#x27;,\n",
       "                                               &#x27;yourself&#x27;, &#x27;yourselv&#x27;, &#x27;he&#x27;,\n",
       "                                               &#x27;him&#x27;, &#x27;hi&#x27;, &#x27;himself&#x27;, &#x27;she&#x27;,\n",
       "                                               &#x27;she&#x27;, &#x27;s&#x27;, &#x27;her&#x27;, &#x27;her&#x27;, ...]]})</pre><b>In a Jupyter environment, please rerun this cell to show the HTML representation or trust the notebook. <br />On GitHub, the HTML representation is unable to render, please try loading this page with nbviewer.org.</b></div><div class=\"sk-container\" hidden><div class=\"sk-item sk-dashed-wrapped\"><div class=\"sk-label-container\"><div class=\"sk-label sk-toggleable\"><input class=\"sk-toggleable__control sk-hidden--visually\" id=\"sk-estimator-id-41\" type=\"checkbox\" ><label for=\"sk-estimator-id-41\" class=\"sk-toggleable__label sk-toggleable__label-arrow\">GridSearchCV</label><div class=\"sk-toggleable__content\"><pre>GridSearchCV(cv=5,\n",
       "             estimator=Pipeline(steps=[(&#x27;tvec&#x27;, TfidfVectorizer()),\n",
       "                                       (&#x27;gb&#x27;, GradientBoostingClassifier())]),\n",
       "             param_grid={&#x27;gb__learning_rate&#x27;: [0.1, 1], &#x27;gb__max_depth&#x27;: [1, 2],\n",
       "                         &#x27;gb__n_estimators&#x27;: [150, 200],\n",
       "                         &#x27;tvec__max_df&#x27;: [0.5, 0.6, 0.7],\n",
       "                         &#x27;tvec__max_features&#x27;: [1500, 2000, 2500],\n",
       "                         &#x27;tvec__min_df&#x27;: [2, 3, 4],\n",
       "                         &#x27;tvec__ngram_range&#x27;: [(1, 2)],\n",
       "                         &#x27;tvec__stop_words&#x27;: [[&#x27;i&#x27;, &#x27;me&#x27;, &#x27;my&#x27;, &#x27;myself&#x27;, &#x27;we&#x27;,\n",
       "                                               &#x27;our&#x27;, &#x27;our&#x27;, &#x27;ourselv&#x27;, &#x27;you&#x27;,\n",
       "                                               &#x27;you&#x27;, &#x27;re&#x27;, &#x27;you&#x27;, &#x27;ve&#x27;, &#x27;you&#x27;,\n",
       "                                               &#x27;ll&#x27;, &#x27;you&#x27;, &#x27;d&#x27;, &#x27;your&#x27;, &#x27;your&#x27;,\n",
       "                                               &#x27;yourself&#x27;, &#x27;yourselv&#x27;, &#x27;he&#x27;,\n",
       "                                               &#x27;him&#x27;, &#x27;hi&#x27;, &#x27;himself&#x27;, &#x27;she&#x27;,\n",
       "                                               &#x27;she&#x27;, &#x27;s&#x27;, &#x27;her&#x27;, &#x27;her&#x27;, ...]]})</pre></div></div></div><div class=\"sk-parallel\"><div class=\"sk-parallel-item\"><div class=\"sk-item\"><div class=\"sk-label-container\"><div class=\"sk-label sk-toggleable\"><input class=\"sk-toggleable__control sk-hidden--visually\" id=\"sk-estimator-id-42\" type=\"checkbox\" ><label for=\"sk-estimator-id-42\" class=\"sk-toggleable__label sk-toggleable__label-arrow\">estimator: Pipeline</label><div class=\"sk-toggleable__content\"><pre>Pipeline(steps=[(&#x27;tvec&#x27;, TfidfVectorizer()),\n",
       "                (&#x27;gb&#x27;, GradientBoostingClassifier())])</pre></div></div></div><div class=\"sk-serial\"><div class=\"sk-item\"><div class=\"sk-serial\"><div class=\"sk-item\"><div class=\"sk-estimator sk-toggleable\"><input class=\"sk-toggleable__control sk-hidden--visually\" id=\"sk-estimator-id-43\" type=\"checkbox\" ><label for=\"sk-estimator-id-43\" class=\"sk-toggleable__label sk-toggleable__label-arrow\">TfidfVectorizer</label><div class=\"sk-toggleable__content\"><pre>TfidfVectorizer()</pre></div></div></div><div class=\"sk-item\"><div class=\"sk-estimator sk-toggleable\"><input class=\"sk-toggleable__control sk-hidden--visually\" id=\"sk-estimator-id-44\" type=\"checkbox\" ><label for=\"sk-estimator-id-44\" class=\"sk-toggleable__label sk-toggleable__label-arrow\">GradientBoostingClassifier</label><div class=\"sk-toggleable__content\"><pre>GradientBoostingClassifier()</pre></div></div></div></div></div></div></div></div></div></div></div></div>"
      ],
      "text/plain": [
       "GridSearchCV(cv=5,\n",
       "             estimator=Pipeline(steps=[('tvec', TfidfVectorizer()),\n",
       "                                       ('gb', GradientBoostingClassifier())]),\n",
       "             param_grid={'gb__learning_rate': [0.1, 1], 'gb__max_depth': [1, 2],\n",
       "                         'gb__n_estimators': [150, 200],\n",
       "                         'tvec__max_df': [0.5, 0.6, 0.7],\n",
       "                         'tvec__max_features': [1500, 2000, 2500],\n",
       "                         'tvec__min_df': [2, 3, 4],\n",
       "                         'tvec__ngram_range': [(1, 2)],\n",
       "                         'tvec__stop_words': [['i', 'me', 'my', 'myself', 'we',\n",
       "                                               'our', 'our', 'ourselv', 'you',\n",
       "                                               'you', 're', 'you', 've', 'you',\n",
       "                                               'll', 'you', 'd', 'your', 'your',\n",
       "                                               'yourself', 'yourselv', 'he',\n",
       "                                               'him', 'hi', 'himself', 'she',\n",
       "                                               'she', 's', 'her', 'her', ...]]})"
      ]
     },
     "execution_count": 87,
     "metadata": {},
     "output_type": "execute_result"
    }
   ],
   "source": [
    "gb_gs.fit(X_train_s, y_train_s)"
   ]
  },
  {
   "cell_type": "markdown",
   "id": "0ab3e38d-9b26-4820-9be0-55aa54c12a15",
   "metadata": {},
   "source": [
    "##### Best Parameters #####"
   ]
  },
  {
   "cell_type": "code",
   "execution_count": 88,
   "id": "e09bbd79-34bc-410b-b9dc-e537d55f8bbc",
   "metadata": {},
   "outputs": [
    {
     "data": {
      "text/plain": [
       "{'gb__learning_rate': 0.1,\n",
       " 'gb__max_depth': 2,\n",
       " 'gb__n_estimators': 150,\n",
       " 'tvec__max_df': 0.7,\n",
       " 'tvec__max_features': 2500,\n",
       " 'tvec__min_df': 4,\n",
       " 'tvec__ngram_range': (1, 2)}"
      ]
     },
     "execution_count": 88,
     "metadata": {},
     "output_type": "execute_result"
    }
   ],
   "source": [
    "gb_gs.best_params_.pop('tvec__stop_words')\n",
    "gb_gs.best_params_"
   ]
  },
  {
   "cell_type": "markdown",
   "id": "7b972e31-9ebd-4864-9ba1-ed921e89a0a8",
   "metadata": {},
   "source": [
    "##### Model Performance Metrics #####"
   ]
  },
  {
   "cell_type": "code",
   "execution_count": 89,
   "id": "e5df6417-59bd-4e02-becb-b6744d50a572",
   "metadata": {},
   "outputs": [
    {
     "data": {
      "image/png": "[encoded data removed]",
      "text/plain": [
       "<Figure size 640x480 with 2 Axes>"
      ]
     },
     "metadata": {},
     "output_type": "display_data"
    }
   ],
   "source": [
    "ConfusionMatrixDisplay.from_estimator(gb_gs, X_test_s, y_test_s, cmap = 'Greens');"
   ]
  },
  {
   "cell_type": "code",
   "execution_count": 90,
   "id": "0dc5eede-063d-4df2-a4f9-8af9b955e49c",
   "metadata": {},
   "outputs": [
    {
     "data": {
      "text/html": [
       "<div>\n",
       "<style scoped>\n",
       "    .dataframe tbody tr th:only-of-type {\n",
       "        vertical-align: middle;\n",
       "    }\n",
       "\n",
       "    .dataframe tbody tr th {\n",
       "        vertical-align: top;\n",
       "    }\n",
       "\n",
       "    .dataframe thead th {\n",
       "        text-align: right;\n",
       "    }\n",
       "</style>\n",
       "<table border=\"1\" class=\"dataframe\">\n",
       "  <thead>\n",
       "    <tr style=\"text-align: right;\">\n",
       "      <th></th>\n",
       "      <th>train_accuracy</th>\n",
       "      <th>accuracy</th>\n",
       "      <th>sensitivity</th>\n",
       "    </tr>\n",
       "  </thead>\n",
       "  <tbody>\n",
       "    <tr>\n",
       "      <th>0</th>\n",
       "      <td>0.980827</td>\n",
       "      <td>0.951952</td>\n",
       "      <td>0.980831</td>\n",
       "    </tr>\n",
       "  </tbody>\n",
       "</table>\n",
       "</div>"
      ],
      "text/plain": [
       "   train_accuracy  accuracy  sensitivity\n",
       "0        0.980827  0.951952     0.980831"
      ]
     },
     "execution_count": 90,
     "metadata": {},
     "output_type": "execute_result"
    }
   ],
   "source": [
    "gb_metrics = model_stats(gb_gs, 'gb', 't', 's')\n",
    "model_metrics.append(gb_metrics)\n",
    "pd.DataFrame(gb_metrics, index=[0])[['train_accuracy', 'accuracy','sensitivity']]"
   ]
  },
  {
   "cell_type": "markdown",
   "id": "d9321486-7f0d-40b1-a27a-ef1c8b02513d",
   "metadata": {},
   "source": [
    "##### Model Performance Summary #####\n",
    "The  **Gradient Boost** model had a lower test **accuracy** score than other models. It's score of .952 does not place it among the stronger performers. The top **Logistic Regression** model, still leading in this metric, came in at .979.\n",
    "\n",
    "However, basically all of that lost performance is in the direction of false positives. In fact, with a **sensitivity** of .981, **Gradient Boost** is thus far the model best optimized for that metric."
   ]
  },
  {
   "cell_type": "markdown",
   "id": "67f18118-b245-4d72-af59-5c8bbbc92be3",
   "metadata": {
    "tags": []
   },
   "source": [
    "#### 3.b. Crutch Words Removed ####"
   ]
  },
  {
   "cell_type": "markdown",
   "id": "9dcae0cc-ebdc-4ff8-ace6-08ed885133aa",
   "metadata": {},
   "source": [
    "##### Model Instantiation and Fitting #####"
   ]
  },
  {
   "cell_type": "code",
   "execution_count": 91,
   "id": "35260e52-3812-4352-8abe-c57e179e85e1",
   "metadata": {},
   "outputs": [],
   "source": [
    "gb_c_pipe = Pipeline([\n",
    "    ('tvec', TfidfVectorizer()),\n",
    "    ('gb', GradientBoostingClassifier())\n",
    "])"
   ]
  },
  {
   "cell_type": "code",
   "execution_count": 92,
   "id": "9431303d-8385-438a-85db-ff42c532a216",
   "metadata": {},
   "outputs": [],
   "source": [
    "gb_c_pipe_params = {\n",
    "    'tvec__max_features': [2000],\n",
    "    'tvec__min_df': [1],\n",
    "    'tvec__max_df': [0.3],\n",
    "    'tvec__ngram_range': [(1,2)],\n",
    "    'tvec__stop_words': [crutch_words_stemmed],\n",
    "    'gb__n_estimators': [300, 350, 400, 500],\n",
    "    'gb__max_depth': [3, 4, 5],\n",
    "    'gb__learning_rate': [0.1]\n",
    "}"
   ]
  },
  {
   "cell_type": "code",
   "execution_count": 93,
   "id": "f7bd0cbc-3dc5-4039-893f-5571ddbd5a56",
   "metadata": {},
   "outputs": [],
   "source": [
    "gb_c_gs = GridSearchCV(gb_c_pipe,\n",
    "                      param_grid = gb_c_pipe_params,\n",
    "                      cv = 5)"
   ]
  },
  {
   "cell_type": "code",
   "execution_count": 94,
   "id": "3ab2ed10-c084-4632-aa41-4e36bed3da88",
   "metadata": {},
   "outputs": [
    {
     "data": {
      "text/html": [
       "<style>#sk-container-id-12 {color: black;background-color: white;}#sk-container-id-12 pre{padding: 0;}#sk-container-id-12 div.sk-toggleable {background-color: white;}#sk-container-id-12 label.sk-toggleable__label {cursor: pointer;display: block;width: 100%;margin-bottom: 0;padding: 0.3em;box-sizing: border-box;text-align: center;}#sk-container-id-12 label.sk-toggleable__label-arrow:before {content: \"▸\";float: left;margin-right: 0.25em;color: #696969;}#sk-container-id-12 label.sk-toggleable__label-arrow:hover:before {color: black;}#sk-container-id-12 div.sk-estimator:hover label.sk-toggleable__label-arrow:before {color: black;}#sk-container-id-12 div.sk-toggleable__content {max-height: 0;max-width: 0;overflow: hidden;text-align: left;background-color: #f0f8ff;}#sk-container-id-12 div.sk-toggleable__content pre {margin: 0.2em;color: black;border-radius: 0.25em;background-color: #f0f8ff;}#sk-container-id-12 input.sk-toggleable__control:checked~div.sk-toggleable__content {max-height: 200px;max-width: 100%;overflow: auto;}#sk-container-id-12 input.sk-toggleable__control:checked~label.sk-toggleable__label-arrow:before {content: \"▾\";}#sk-container-id-12 div.sk-estimator input.sk-toggleable__control:checked~label.sk-toggleable__label {background-color: #d4ebff;}#sk-container-id-12 div.sk-label input.sk-toggleable__control:checked~label.sk-toggleable__label {background-color: #d4ebff;}#sk-container-id-12 input.sk-hidden--visually {border: 0;clip: rect(1px 1px 1px 1px);clip: rect(1px, 1px, 1px, 1px);height: 1px;margin: -1px;overflow: hidden;padding: 0;position: absolute;width: 1px;}#sk-container-id-12 div.sk-estimator {font-family: monospace;background-color: #f0f8ff;border: 1px dotted black;border-radius: 0.25em;box-sizing: border-box;margin-bottom: 0.5em;}#sk-container-id-12 div.sk-estimator:hover {background-color: #d4ebff;}#sk-container-id-12 div.sk-parallel-item::after {content: \"\";width: 100%;border-bottom: 1px solid gray;flex-grow: 1;}#sk-container-id-12 div.sk-label:hover label.sk-toggleable__label {background-color: #d4ebff;}#sk-container-id-12 div.sk-serial::before {content: \"\";position: absolute;border-left: 1px solid gray;box-sizing: border-box;top: 0;bottom: 0;left: 50%;z-index: 0;}#sk-container-id-12 div.sk-serial {display: flex;flex-direction: column;align-items: center;background-color: white;padding-right: 0.2em;padding-left: 0.2em;position: relative;}#sk-container-id-12 div.sk-item {position: relative;z-index: 1;}#sk-container-id-12 div.sk-parallel {display: flex;align-items: stretch;justify-content: center;background-color: white;position: relative;}#sk-container-id-12 div.sk-item::before, #sk-container-id-12 div.sk-parallel-item::before {content: \"\";position: absolute;border-left: 1px solid gray;box-sizing: border-box;top: 0;bottom: 0;left: 50%;z-index: -1;}#sk-container-id-12 div.sk-parallel-item {display: flex;flex-direction: column;z-index: 1;position: relative;background-color: white;}#sk-container-id-12 div.sk-parallel-item:first-child::after {align-self: flex-end;width: 50%;}#sk-container-id-12 div.sk-parallel-item:last-child::after {align-self: flex-start;width: 50%;}#sk-container-id-12 div.sk-parallel-item:only-child::after {width: 0;}#sk-container-id-12 div.sk-dashed-wrapped {border: 1px dashed gray;margin: 0 0.4em 0.5em 0.4em;box-sizing: border-box;padding-bottom: 0.4em;background-color: white;}#sk-container-id-12 div.sk-label label {font-family: monospace;font-weight: bold;display: inline-block;line-height: 1.2em;}#sk-container-id-12 div.sk-label-container {text-align: center;}#sk-container-id-12 div.sk-container {/* jupyter's `normalize.less` sets `[hidden] { display: none; }` but bootstrap.min.css set `[hidden] { display: none !important; }` so we also need the `!important` here to be able to override the default hidden behavior on the sphinx rendered scikit-learn.org. See: https://github.com/scikit-learn/scikit-learn/issues/21755 */display: inline-block !important;position: relative;}#sk-container-id-12 div.sk-text-repr-fallback {display: none;}</style><div id=\"sk-container-id-12\" class=\"sk-top-container\"><div class=\"sk-text-repr-fallback\"><pre>GridSearchCV(cv=5,\n",
       "             estimator=Pipeline(steps=[(&#x27;tvec&#x27;, TfidfVectorizer()),\n",
       "                                       (&#x27;gb&#x27;, GradientBoostingClassifier())]),\n",
       "             param_grid={&#x27;gb__learning_rate&#x27;: [0.1], &#x27;gb__max_depth&#x27;: [3, 4, 5],\n",
       "                         &#x27;gb__n_estimators&#x27;: [300, 350, 400, 500],\n",
       "                         &#x27;tvec__max_df&#x27;: [0.3], &#x27;tvec__max_features&#x27;: [2000],\n",
       "                         &#x27;tvec__min_df&#x27;: [1], &#x27;tvec__ngram_range&#x27;: [(1, 2)],\n",
       "                         &#x27;tvec__stop_words&#x27;: [[&#x27;i&#x27;, &#x27;me&#x27;, &#x27;my&#x27;, &#x27;myself&#x27;, &#x27;we&#x27;,\n",
       "                                               &#x27;our&#x27;, &#x27;our&#x27;, &#x27;ourselv&#x27;, &#x27;you&#x27;,\n",
       "                                               &#x27;you&#x27;, &#x27;re&#x27;, &#x27;you&#x27;, &#x27;ve&#x27;, &#x27;you&#x27;,\n",
       "                                               &#x27;ll&#x27;, &#x27;you&#x27;, &#x27;d&#x27;, &#x27;your&#x27;, &#x27;your&#x27;,\n",
       "                                               &#x27;yourself&#x27;, &#x27;yourselv&#x27;, &#x27;he&#x27;,\n",
       "                                               &#x27;him&#x27;, &#x27;hi&#x27;, &#x27;himself&#x27;, &#x27;she&#x27;,\n",
       "                                               &#x27;she&#x27;, &#x27;s&#x27;, &#x27;her&#x27;, &#x27;her&#x27;, ...]]})</pre><b>In a Jupyter environment, please rerun this cell to show the HTML representation or trust the notebook. <br />On GitHub, the HTML representation is unable to render, please try loading this page with nbviewer.org.</b></div><div class=\"sk-container\" hidden><div class=\"sk-item sk-dashed-wrapped\"><div class=\"sk-label-container\"><div class=\"sk-label sk-toggleable\"><input class=\"sk-toggleable__control sk-hidden--visually\" id=\"sk-estimator-id-45\" type=\"checkbox\" ><label for=\"sk-estimator-id-45\" class=\"sk-toggleable__label sk-toggleable__label-arrow\">GridSearchCV</label><div class=\"sk-toggleable__content\"><pre>GridSearchCV(cv=5,\n",
       "             estimator=Pipeline(steps=[(&#x27;tvec&#x27;, TfidfVectorizer()),\n",
       "                                       (&#x27;gb&#x27;, GradientBoostingClassifier())]),\n",
       "             param_grid={&#x27;gb__learning_rate&#x27;: [0.1], &#x27;gb__max_depth&#x27;: [3, 4, 5],\n",
       "                         &#x27;gb__n_estimators&#x27;: [300, 350, 400, 500],\n",
       "                         &#x27;tvec__max_df&#x27;: [0.3], &#x27;tvec__max_features&#x27;: [2000],\n",
       "                         &#x27;tvec__min_df&#x27;: [1], &#x27;tvec__ngram_range&#x27;: [(1, 2)],\n",
       "                         &#x27;tvec__stop_words&#x27;: [[&#x27;i&#x27;, &#x27;me&#x27;, &#x27;my&#x27;, &#x27;myself&#x27;, &#x27;we&#x27;,\n",
       "                                               &#x27;our&#x27;, &#x27;our&#x27;, &#x27;ourselv&#x27;, &#x27;you&#x27;,\n",
       "                                               &#x27;you&#x27;, &#x27;re&#x27;, &#x27;you&#x27;, &#x27;ve&#x27;, &#x27;you&#x27;,\n",
       "                                               &#x27;ll&#x27;, &#x27;you&#x27;, &#x27;d&#x27;, &#x27;your&#x27;, &#x27;your&#x27;,\n",
       "                                               &#x27;yourself&#x27;, &#x27;yourselv&#x27;, &#x27;he&#x27;,\n",
       "                                               &#x27;him&#x27;, &#x27;hi&#x27;, &#x27;himself&#x27;, &#x27;she&#x27;,\n",
       "                                               &#x27;she&#x27;, &#x27;s&#x27;, &#x27;her&#x27;, &#x27;her&#x27;, ...]]})</pre></div></div></div><div class=\"sk-parallel\"><div class=\"sk-parallel-item\"><div class=\"sk-item\"><div class=\"sk-label-container\"><div class=\"sk-label sk-toggleable\"><input class=\"sk-toggleable__control sk-hidden--visually\" id=\"sk-estimator-id-46\" type=\"checkbox\" ><label for=\"sk-estimator-id-46\" class=\"sk-toggleable__label sk-toggleable__label-arrow\">estimator: Pipeline</label><div class=\"sk-toggleable__content\"><pre>Pipeline(steps=[(&#x27;tvec&#x27;, TfidfVectorizer()),\n",
       "                (&#x27;gb&#x27;, GradientBoostingClassifier())])</pre></div></div></div><div class=\"sk-serial\"><div class=\"sk-item\"><div class=\"sk-serial\"><div class=\"sk-item\"><div class=\"sk-estimator sk-toggleable\"><input class=\"sk-toggleable__control sk-hidden--visually\" id=\"sk-estimator-id-47\" type=\"checkbox\" ><label for=\"sk-estimator-id-47\" class=\"sk-toggleable__label sk-toggleable__label-arrow\">TfidfVectorizer</label><div class=\"sk-toggleable__content\"><pre>TfidfVectorizer()</pre></div></div></div><div class=\"sk-item\"><div class=\"sk-estimator sk-toggleable\"><input class=\"sk-toggleable__control sk-hidden--visually\" id=\"sk-estimator-id-48\" type=\"checkbox\" ><label for=\"sk-estimator-id-48\" class=\"sk-toggleable__label sk-toggleable__label-arrow\">GradientBoostingClassifier</label><div class=\"sk-toggleable__content\"><pre>GradientBoostingClassifier()</pre></div></div></div></div></div></div></div></div></div></div></div></div>"
      ],
      "text/plain": [
       "GridSearchCV(cv=5,\n",
       "             estimator=Pipeline(steps=[('tvec', TfidfVectorizer()),\n",
       "                                       ('gb', GradientBoostingClassifier())]),\n",
       "             param_grid={'gb__learning_rate': [0.1], 'gb__max_depth': [3, 4, 5],\n",
       "                         'gb__n_estimators': [300, 350, 400, 500],\n",
       "                         'tvec__max_df': [0.3], 'tvec__max_features': [2000],\n",
       "                         'tvec__min_df': [1], 'tvec__ngram_range': [(1, 2)],\n",
       "                         'tvec__stop_words': [['i', 'me', 'my', 'myself', 'we',\n",
       "                                               'our', 'our', 'ourselv', 'you',\n",
       "                                               'you', 're', 'you', 've', 'you',\n",
       "                                               'll', 'you', 'd', 'your', 'your',\n",
       "                                               'yourself', 'yourselv', 'he',\n",
       "                                               'him', 'hi', 'himself', 'she',\n",
       "                                               'she', 's', 'her', 'her', ...]]})"
      ]
     },
     "execution_count": 94,
     "metadata": {},
     "output_type": "execute_result"
    }
   ],
   "source": [
    "gb_c_gs.fit(X_train_s, y_train_s)"
   ]
  },
  {
   "cell_type": "markdown",
   "id": "2ec0558c-c2f7-4d59-899e-2cb3057bd894",
   "metadata": {},
   "source": [
    "##### Best Parameters #####"
   ]
  },
  {
   "cell_type": "code",
   "execution_count": 95,
   "id": "3692bdbe-6f4f-4300-abe2-faccb17049ff",
   "metadata": {},
   "outputs": [
    {
     "data": {
      "text/plain": [
       "{'gb__learning_rate': 0.1,\n",
       " 'gb__max_depth': 3,\n",
       " 'gb__n_estimators': 500,\n",
       " 'tvec__max_df': 0.3,\n",
       " 'tvec__max_features': 2000,\n",
       " 'tvec__min_df': 1,\n",
       " 'tvec__ngram_range': (1, 2)}"
      ]
     },
     "execution_count": 95,
     "metadata": {},
     "output_type": "execute_result"
    }
   ],
   "source": [
    "gb_c_gs.best_params_.pop('tvec__stop_words')\n",
    "gb_c_gs.best_params_"
   ]
  },
  {
   "cell_type": "markdown",
   "id": "92c5af97-3e88-4865-b99b-7b69c60276ca",
   "metadata": {},
   "source": [
    "##### Model Performance Metrics #####"
   ]
  },
  {
   "cell_type": "code",
   "execution_count": 96,
   "id": "9ae1c0c0-a4f0-42b2-9858-9c323c614202",
   "metadata": {},
   "outputs": [
    {
     "data": {
      "image/png": "[encoded data removed]",
      "text/plain": [
       "<Figure size 640x480 with 2 Axes>"
      ]
     },
     "metadata": {},
     "output_type": "display_data"
    }
   ],
   "source": [
    "ConfusionMatrixDisplay.from_estimator(gb_c_gs, X_test_s, y_test_s, cmap = 'Greens');"
   ]
  },
  {
   "cell_type": "code",
   "execution_count": 97,
   "id": "9d31698b-054e-475e-bc44-5e8f2076b294",
   "metadata": {},
   "outputs": [
    {
     "data": {
      "text/html": [
       "<div>\n",
       "<style scoped>\n",
       "    .dataframe tbody tr th:only-of-type {\n",
       "        vertical-align: middle;\n",
       "    }\n",
       "\n",
       "    .dataframe tbody tr th {\n",
       "        vertical-align: top;\n",
       "    }\n",
       "\n",
       "    .dataframe thead th {\n",
       "        text-align: right;\n",
       "    }\n",
       "</style>\n",
       "<table border=\"1\" class=\"dataframe\">\n",
       "  <thead>\n",
       "    <tr style=\"text-align: right;\">\n",
       "      <th></th>\n",
       "      <th>train_accuracy</th>\n",
       "      <th>accuracy</th>\n",
       "      <th>sensitivity</th>\n",
       "    </tr>\n",
       "  </thead>\n",
       "  <tbody>\n",
       "    <tr>\n",
       "      <th>0</th>\n",
       "      <td>1.0</td>\n",
       "      <td>0.888889</td>\n",
       "      <td>0.830671</td>\n",
       "    </tr>\n",
       "  </tbody>\n",
       "</table>\n",
       "</div>"
      ],
      "text/plain": [
       "   train_accuracy  accuracy  sensitivity\n",
       "0             1.0  0.888889     0.830671"
      ]
     },
     "execution_count": 97,
     "metadata": {},
     "output_type": "execute_result"
    }
   ],
   "source": [
    "gb_c_metrics = model_stats(gb_c_gs, 'gb', 't', 's', crutch_words=True)\n",
    "model_metrics.append(gb_c_metrics)\n",
    "pd.DataFrame(gb_c_metrics, index=[0])[['train_accuracy', 'accuracy','sensitivity']]"
   ]
  },
  {
   "cell_type": "markdown",
   "id": "95d23cc9-f261-4a4b-846d-bea10c1a09b9",
   "metadata": {},
   "source": [
    "##### Model Performance Summary #####\n",
    "**Gradient Boost** turns out to be the worst performing model with **crutch words** removed. **Accuracy** scores are bottom of the barrel. Worse, that loss in performance manifests disproportionately as increased false negatives, leading to **sensitivity** of .837, by far the lowest of all models attempted"
   ]
  },
  {
   "cell_type": "markdown",
   "id": "186ea968-d1bc-4f2a-8472-3cf0d65b967a",
   "metadata": {
    "tags": []
   },
   "source": [
    "### Support Vector Machine ###"
   ]
  },
  {
   "cell_type": "markdown",
   "id": "846de3be-bf9a-4df5-bccd-370467fa6446",
   "metadata": {
    "tags": []
   },
   "source": [
    "#### 4.a. Crutch Words Allowed ####"
   ]
  },
  {
   "cell_type": "markdown",
   "id": "7f4a454c-2ee8-4bdd-a182-b9164d372034",
   "metadata": {},
   "source": [
    "##### Model Instantiation and Fitting #####"
   ]
  },
  {
   "cell_type": "code",
   "execution_count": 98,
   "id": "38775e57-d410-4d1b-81c6-6a8ddb8683d0",
   "metadata": {},
   "outputs": [],
   "source": [
    "svc_pipe = Pipeline([\n",
    "    ('tvec', TfidfVectorizer()),\n",
    "    ('svc', SVC())\n",
    "])"
   ]
  },
  {
   "cell_type": "code",
   "execution_count": 99,
   "id": "7cfe7298-928f-4ae1-a0d2-d19c2ffb76b9",
   "metadata": {},
   "outputs": [],
   "source": [
    "svc_pipe_params ={\n",
    "    'tvec__max_features': [3500, 4000, 4500],\n",
    "    'tvec__min_df': [7, 8],\n",
    "    'tvec__max_df': [0.5, 0.6, 0.7],\n",
    "    'tvec__ngram_range': [(1,2)],\n",
    "    'tvec__stop_words': [eng_stopwords_stemmed],\n",
    "    'svc__C': [1.448793103448276],\n",
    "    'svc__kernel': ['rbf']\n",
    "}"
   ]
  },
  {
   "cell_type": "code",
   "execution_count": 100,
   "id": "020b9233-fed3-4dec-a175-9266b4635210",
   "metadata": {},
   "outputs": [],
   "source": [
    "svc_gs = GridSearchCV(svc_pipe,\n",
    "                      param_grid = svc_pipe_params,\n",
    "                      cv = 5)"
   ]
  },
  {
   "cell_type": "code",
   "execution_count": 101,
   "id": "840a3818-69ee-4e76-9828-3a115a3c7dc4",
   "metadata": {},
   "outputs": [
    {
     "data": {
      "text/html": [
       "<style>#sk-container-id-13 {color: black;background-color: white;}#sk-container-id-13 pre{padding: 0;}#sk-container-id-13 div.sk-toggleable {background-color: white;}#sk-container-id-13 label.sk-toggleable__label {cursor: pointer;display: block;width: 100%;margin-bottom: 0;padding: 0.3em;box-sizing: border-box;text-align: center;}#sk-container-id-13 label.sk-toggleable__label-arrow:before {content: \"▸\";float: left;margin-right: 0.25em;color: #696969;}#sk-container-id-13 label.sk-toggleable__label-arrow:hover:before {color: black;}#sk-container-id-13 div.sk-estimator:hover label.sk-toggleable__label-arrow:before {color: black;}#sk-container-id-13 div.sk-toggleable__content {max-height: 0;max-width: 0;overflow: hidden;text-align: left;background-color: #f0f8ff;}#sk-container-id-13 div.sk-toggleable__content pre {margin: 0.2em;color: black;border-radius: 0.25em;background-color: #f0f8ff;}#sk-container-id-13 input.sk-toggleable__control:checked~div.sk-toggleable__content {max-height: 200px;max-width: 100%;overflow: auto;}#sk-container-id-13 input.sk-toggleable__control:checked~label.sk-toggleable__label-arrow:before {content: \"▾\";}#sk-container-id-13 div.sk-estimator input.sk-toggleable__control:checked~label.sk-toggleable__label {background-color: #d4ebff;}#sk-container-id-13 div.sk-label input.sk-toggleable__control:checked~label.sk-toggleable__label {background-color: #d4ebff;}#sk-container-id-13 input.sk-hidden--visually {border: 0;clip: rect(1px 1px 1px 1px);clip: rect(1px, 1px, 1px, 1px);height: 1px;margin: -1px;overflow: hidden;padding: 0;position: absolute;width: 1px;}#sk-container-id-13 div.sk-estimator {font-family: monospace;background-color: #f0f8ff;border: 1px dotted black;border-radius: 0.25em;box-sizing: border-box;margin-bottom: 0.5em;}#sk-container-id-13 div.sk-estimator:hover {background-color: #d4ebff;}#sk-container-id-13 div.sk-parallel-item::after {content: \"\";width: 100%;border-bottom: 1px solid gray;flex-grow: 1;}#sk-container-id-13 div.sk-label:hover label.sk-toggleable__label {background-color: #d4ebff;}#sk-container-id-13 div.sk-serial::before {content: \"\";position: absolute;border-left: 1px solid gray;box-sizing: border-box;top: 0;bottom: 0;left: 50%;z-index: 0;}#sk-container-id-13 div.sk-serial {display: flex;flex-direction: column;align-items: center;background-color: white;padding-right: 0.2em;padding-left: 0.2em;position: relative;}#sk-container-id-13 div.sk-item {position: relative;z-index: 1;}#sk-container-id-13 div.sk-parallel {display: flex;align-items: stretch;justify-content: center;background-color: white;position: relative;}#sk-container-id-13 div.sk-item::before, #sk-container-id-13 div.sk-parallel-item::before {content: \"\";position: absolute;border-left: 1px solid gray;box-sizing: border-box;top: 0;bottom: 0;left: 50%;z-index: -1;}#sk-container-id-13 div.sk-parallel-item {display: flex;flex-direction: column;z-index: 1;position: relative;background-color: white;}#sk-container-id-13 div.sk-parallel-item:first-child::after {align-self: flex-end;width: 50%;}#sk-container-id-13 div.sk-parallel-item:last-child::after {align-self: flex-start;width: 50%;}#sk-container-id-13 div.sk-parallel-item:only-child::after {width: 0;}#sk-container-id-13 div.sk-dashed-wrapped {border: 1px dashed gray;margin: 0 0.4em 0.5em 0.4em;box-sizing: border-box;padding-bottom: 0.4em;background-color: white;}#sk-container-id-13 div.sk-label label {font-family: monospace;font-weight: bold;display: inline-block;line-height: 1.2em;}#sk-container-id-13 div.sk-label-container {text-align: center;}#sk-container-id-13 div.sk-container {/* jupyter's `normalize.less` sets `[hidden] { display: none; }` but bootstrap.min.css set `[hidden] { display: none !important; }` so we also need the `!important` here to be able to override the default hidden behavior on the sphinx rendered scikit-learn.org. See: https://github.com/scikit-learn/scikit-learn/issues/21755 */display: inline-block !important;position: relative;}#sk-container-id-13 div.sk-text-repr-fallback {display: none;}</style><div id=\"sk-container-id-13\" class=\"sk-top-container\"><div class=\"sk-text-repr-fallback\"><pre>GridSearchCV(cv=5,\n",
       "             estimator=Pipeline(steps=[(&#x27;tvec&#x27;, TfidfVectorizer()),\n",
       "                                       (&#x27;svc&#x27;, SVC())]),\n",
       "             param_grid={&#x27;svc__C&#x27;: [1.448793103448276], &#x27;svc__kernel&#x27;: [&#x27;rbf&#x27;],\n",
       "                         &#x27;tvec__max_df&#x27;: [0.5, 0.6, 0.7],\n",
       "                         &#x27;tvec__max_features&#x27;: [3500, 4000, 4500],\n",
       "                         &#x27;tvec__min_df&#x27;: [7, 8], &#x27;tvec__ngram_range&#x27;: [(1, 2)],\n",
       "                         &#x27;tvec__stop_words&#x27;: [[&#x27;i&#x27;, &#x27;me&#x27;, &#x27;my&#x27;, &#x27;myself&#x27;, &#x27;we&#x27;,\n",
       "                                               &#x27;our&#x27;, &#x27;our&#x27;, &#x27;ourselv&#x27;, &#x27;you&#x27;,\n",
       "                                               &#x27;you&#x27;, &#x27;re&#x27;, &#x27;you&#x27;, &#x27;ve&#x27;, &#x27;you&#x27;,\n",
       "                                               &#x27;ll&#x27;, &#x27;you&#x27;, &#x27;d&#x27;, &#x27;your&#x27;, &#x27;your&#x27;,\n",
       "                                               &#x27;yourself&#x27;, &#x27;yourselv&#x27;, &#x27;he&#x27;,\n",
       "                                               &#x27;him&#x27;, &#x27;hi&#x27;, &#x27;himself&#x27;, &#x27;she&#x27;,\n",
       "                                               &#x27;she&#x27;, &#x27;s&#x27;, &#x27;her&#x27;, &#x27;her&#x27;, ...]]})</pre><b>In a Jupyter environment, please rerun this cell to show the HTML representation or trust the notebook. <br />On GitHub, the HTML representation is unable to render, please try loading this page with nbviewer.org.</b></div><div class=\"sk-container\" hidden><div class=\"sk-item sk-dashed-wrapped\"><div class=\"sk-label-container\"><div class=\"sk-label sk-toggleable\"><input class=\"sk-toggleable__control sk-hidden--visually\" id=\"sk-estimator-id-49\" type=\"checkbox\" ><label for=\"sk-estimator-id-49\" class=\"sk-toggleable__label sk-toggleable__label-arrow\">GridSearchCV</label><div class=\"sk-toggleable__content\"><pre>GridSearchCV(cv=5,\n",
       "             estimator=Pipeline(steps=[(&#x27;tvec&#x27;, TfidfVectorizer()),\n",
       "                                       (&#x27;svc&#x27;, SVC())]),\n",
       "             param_grid={&#x27;svc__C&#x27;: [1.448793103448276], &#x27;svc__kernel&#x27;: [&#x27;rbf&#x27;],\n",
       "                         &#x27;tvec__max_df&#x27;: [0.5, 0.6, 0.7],\n",
       "                         &#x27;tvec__max_features&#x27;: [3500, 4000, 4500],\n",
       "                         &#x27;tvec__min_df&#x27;: [7, 8], &#x27;tvec__ngram_range&#x27;: [(1, 2)],\n",
       "                         &#x27;tvec__stop_words&#x27;: [[&#x27;i&#x27;, &#x27;me&#x27;, &#x27;my&#x27;, &#x27;myself&#x27;, &#x27;we&#x27;,\n",
       "                                               &#x27;our&#x27;, &#x27;our&#x27;, &#x27;ourselv&#x27;, &#x27;you&#x27;,\n",
       "                                               &#x27;you&#x27;, &#x27;re&#x27;, &#x27;you&#x27;, &#x27;ve&#x27;, &#x27;you&#x27;,\n",
       "                                               &#x27;ll&#x27;, &#x27;you&#x27;, &#x27;d&#x27;, &#x27;your&#x27;, &#x27;your&#x27;,\n",
       "                                               &#x27;yourself&#x27;, &#x27;yourselv&#x27;, &#x27;he&#x27;,\n",
       "                                               &#x27;him&#x27;, &#x27;hi&#x27;, &#x27;himself&#x27;, &#x27;she&#x27;,\n",
       "                                               &#x27;she&#x27;, &#x27;s&#x27;, &#x27;her&#x27;, &#x27;her&#x27;, ...]]})</pre></div></div></div><div class=\"sk-parallel\"><div class=\"sk-parallel-item\"><div class=\"sk-item\"><div class=\"sk-label-container\"><div class=\"sk-label sk-toggleable\"><input class=\"sk-toggleable__control sk-hidden--visually\" id=\"sk-estimator-id-50\" type=\"checkbox\" ><label for=\"sk-estimator-id-50\" class=\"sk-toggleable__label sk-toggleable__label-arrow\">estimator: Pipeline</label><div class=\"sk-toggleable__content\"><pre>Pipeline(steps=[(&#x27;tvec&#x27;, TfidfVectorizer()), (&#x27;svc&#x27;, SVC())])</pre></div></div></div><div class=\"sk-serial\"><div class=\"sk-item\"><div class=\"sk-serial\"><div class=\"sk-item\"><div class=\"sk-estimator sk-toggleable\"><input class=\"sk-toggleable__control sk-hidden--visually\" id=\"sk-estimator-id-51\" type=\"checkbox\" ><label for=\"sk-estimator-id-51\" class=\"sk-toggleable__label sk-toggleable__label-arrow\">TfidfVectorizer</label><div class=\"sk-toggleable__content\"><pre>TfidfVectorizer()</pre></div></div></div><div class=\"sk-item\"><div class=\"sk-estimator sk-toggleable\"><input class=\"sk-toggleable__control sk-hidden--visually\" id=\"sk-estimator-id-52\" type=\"checkbox\" ><label for=\"sk-estimator-id-52\" class=\"sk-toggleable__label sk-toggleable__label-arrow\">SVC</label><div class=\"sk-toggleable__content\"><pre>SVC()</pre></div></div></div></div></div></div></div></div></div></div></div></div>"
      ],
      "text/plain": [
       "GridSearchCV(cv=5,\n",
       "             estimator=Pipeline(steps=[('tvec', TfidfVectorizer()),\n",
       "                                       ('svc', SVC())]),\n",
       "             param_grid={'svc__C': [1.448793103448276], 'svc__kernel': ['rbf'],\n",
       "                         'tvec__max_df': [0.5, 0.6, 0.7],\n",
       "                         'tvec__max_features': [3500, 4000, 4500],\n",
       "                         'tvec__min_df': [7, 8], 'tvec__ngram_range': [(1, 2)],\n",
       "                         'tvec__stop_words': [['i', 'me', 'my', 'myself', 'we',\n",
       "                                               'our', 'our', 'ourselv', 'you',\n",
       "                                               'you', 're', 'you', 've', 'you',\n",
       "                                               'll', 'you', 'd', 'your', 'your',\n",
       "                                               'yourself', 'yourselv', 'he',\n",
       "                                               'him', 'hi', 'himself', 'she',\n",
       "                                               'she', 's', 'her', 'her', ...]]})"
      ]
     },
     "execution_count": 101,
     "metadata": {},
     "output_type": "execute_result"
    }
   ],
   "source": [
    "svc_gs.fit(X_train_s, y_train_s)"
   ]
  },
  {
   "cell_type": "markdown",
   "id": "f69ca35d-c9e5-49c1-a2ca-edebfac1c333",
   "metadata": {},
   "source": [
    "##### Best Parameters #####"
   ]
  },
  {
   "cell_type": "code",
   "execution_count": 102,
   "id": "2dc9a22e-1ec1-4d98-a52c-3c640787bb5d",
   "metadata": {},
   "outputs": [
    {
     "data": {
      "text/plain": [
       "{'svc__C': 1.448793103448276,\n",
       " 'svc__kernel': 'rbf',\n",
       " 'tvec__max_df': 0.5,\n",
       " 'tvec__max_features': 4000,\n",
       " 'tvec__min_df': 7,\n",
       " 'tvec__ngram_range': (1, 2)}"
      ]
     },
     "execution_count": 102,
     "metadata": {},
     "output_type": "execute_result"
    }
   ],
   "source": [
    "svc_gs.best_params_.pop('tvec__stop_words')\n",
    "svc_gs.best_params_"
   ]
  },
  {
   "cell_type": "markdown",
   "id": "c26cb649-d40b-41d3-ba41-aba339d2c9b0",
   "metadata": {},
   "source": [
    "##### Model Performance Metrics #####"
   ]
  },
  {
   "cell_type": "code",
   "execution_count": 103,
   "id": "a14dc71e-dadc-4967-8ccb-348fc0f2d85d",
   "metadata": {},
   "outputs": [
    {
     "data": {
      "image/png": "[encoded data removed]",
      "text/plain": [
       "<Figure size 640x480 with 2 Axes>"
      ]
     },
     "metadata": {},
     "output_type": "display_data"
    }
   ],
   "source": [
    "ConfusionMatrixDisplay.from_estimator(svc_gs, X_test_s, y_test_s, cmap = 'Blues');"
   ]
  },
  {
   "cell_type": "code",
   "execution_count": 104,
   "id": "353635de-bef8-4254-a96f-869ea59371d9",
   "metadata": {},
   "outputs": [
    {
     "data": {
      "text/html": [
       "<div>\n",
       "<style scoped>\n",
       "    .dataframe tbody tr th:only-of-type {\n",
       "        vertical-align: middle;\n",
       "    }\n",
       "\n",
       "    .dataframe tbody tr th {\n",
       "        vertical-align: top;\n",
       "    }\n",
       "\n",
       "    .dataframe thead th {\n",
       "        text-align: right;\n",
       "    }\n",
       "</style>\n",
       "<table border=\"1\" class=\"dataframe\">\n",
       "  <thead>\n",
       "    <tr style=\"text-align: right;\">\n",
       "      <th></th>\n",
       "      <th>train_accuracy</th>\n",
       "      <th>accuracy</th>\n",
       "      <th>sensitivity</th>\n",
       "    </tr>\n",
       "  </thead>\n",
       "  <tbody>\n",
       "    <tr>\n",
       "      <th>0</th>\n",
       "      <td>0.999624</td>\n",
       "      <td>0.974474</td>\n",
       "      <td>0.974441</td>\n",
       "    </tr>\n",
       "  </tbody>\n",
       "</table>\n",
       "</div>"
      ],
      "text/plain": [
       "   train_accuracy  accuracy  sensitivity\n",
       "0        0.999624  0.974474     0.974441"
      ]
     },
     "execution_count": 104,
     "metadata": {},
     "output_type": "execute_result"
    }
   ],
   "source": [
    "svc_metrics = model_stats(svc_gs, 'svm', 't', 's')\n",
    "model_metrics.append(svc_metrics)\n",
    "pd.DataFrame(svc_metrics, index=[0])[['train_accuracy', 'accuracy','sensitivity']]"
   ]
  },
  {
   "cell_type": "markdown",
   "id": "899607e7-653c-48bd-82bb-da9db3da2823",
   "metadata": {},
   "source": [
    "##### Model Performance Summary #####\n",
    "The  **Support Vector Machine** model is a strong performer, but not the best:\n",
    "\n",
    "**Accuracy** score is very solid at .974, but **Logistic Regression's accuracy**  score is still tops at .979.\n",
    "\n",
    "The **sensitivity** of .974 is, again, pretty good, but is bested by **Gradiant Boost** at .981"
   ]
  },
  {
   "cell_type": "markdown",
   "id": "c272a3d2-bf85-4ac6-ac02-510b71ea3182",
   "metadata": {
    "tags": []
   },
   "source": [
    "#### 4.b. Crutch Words Removed ####"
   ]
  },
  {
   "cell_type": "markdown",
   "id": "c1315922-03ac-4361-8ea7-316f38c6839c",
   "metadata": {},
   "source": [
    "##### Model Instantiation and Fitting #####"
   ]
  },
  {
   "cell_type": "code",
   "execution_count": 105,
   "id": "e42f2ae0-bfea-4aae-89fd-3e5bbb1ae0a4",
   "metadata": {},
   "outputs": [],
   "source": [
    "svc_c_pipe = Pipeline([\n",
    "    ('tvec', TfidfVectorizer()),\n",
    "    ('svc', SVC())\n",
    "])"
   ]
  },
  {
   "cell_type": "code",
   "execution_count": 106,
   "id": "966f76f6-cc7a-472e-9e7d-c410d1d71037",
   "metadata": {},
   "outputs": [],
   "source": [
    "svc_c_pipe_params = {\n",
    "    'tvec__max_features': [4000, 4500, 5000, 6000],\n",
    "    'tvec__min_df': [4, 5, 6],\n",
    "    'tvec__max_df': [0.2, 0.25, 0.3],\n",
    "    'tvec__ngram_range': [(1,2)],\n",
    "    'tvec__stop_words': [crutch_words_stemmed],\n",
    "    'svc__C': [1.9658620689655173],\n",
    "    'svc__kernel': ['rbf']\n",
    "}"
   ]
  },
  {
   "cell_type": "code",
   "execution_count": 107,
   "id": "2a484081-ab98-42d0-b3c4-a752b76a0fc1",
   "metadata": {},
   "outputs": [],
   "source": [
    "svc_c_gs = GridSearchCV(svc_c_pipe,\n",
    "                      param_grid = svc_c_pipe_params,\n",
    "                      cv = 5)"
   ]
  },
  {
   "cell_type": "code",
   "execution_count": 108,
   "id": "801cb1d0-d498-4182-9f39-245abca3174e",
   "metadata": {},
   "outputs": [
    {
     "data": {
      "text/html": [
       "<style>#sk-container-id-14 {color: black;background-color: white;}#sk-container-id-14 pre{padding: 0;}#sk-container-id-14 div.sk-toggleable {background-color: white;}#sk-container-id-14 label.sk-toggleable__label {cursor: pointer;display: block;width: 100%;margin-bottom: 0;padding: 0.3em;box-sizing: border-box;text-align: center;}#sk-container-id-14 label.sk-toggleable__label-arrow:before {content: \"▸\";float: left;margin-right: 0.25em;color: #696969;}#sk-container-id-14 label.sk-toggleable__label-arrow:hover:before {color: black;}#sk-container-id-14 div.sk-estimator:hover label.sk-toggleable__label-arrow:before {color: black;}#sk-container-id-14 div.sk-toggleable__content {max-height: 0;max-width: 0;overflow: hidden;text-align: left;background-color: #f0f8ff;}#sk-container-id-14 div.sk-toggleable__content pre {margin: 0.2em;color: black;border-radius: 0.25em;background-color: #f0f8ff;}#sk-container-id-14 input.sk-toggleable__control:checked~div.sk-toggleable__content {max-height: 200px;max-width: 100%;overflow: auto;}#sk-container-id-14 input.sk-toggleable__control:checked~label.sk-toggleable__label-arrow:before {content: \"▾\";}#sk-container-id-14 div.sk-estimator input.sk-toggleable__control:checked~label.sk-toggleable__label {background-color: #d4ebff;}#sk-container-id-14 div.sk-label input.sk-toggleable__control:checked~label.sk-toggleable__label {background-color: #d4ebff;}#sk-container-id-14 input.sk-hidden--visually {border: 0;clip: rect(1px 1px 1px 1px);clip: rect(1px, 1px, 1px, 1px);height: 1px;margin: -1px;overflow: hidden;padding: 0;position: absolute;width: 1px;}#sk-container-id-14 div.sk-estimator {font-family: monospace;background-color: #f0f8ff;border: 1px dotted black;border-radius: 0.25em;box-sizing: border-box;margin-bottom: 0.5em;}#sk-container-id-14 div.sk-estimator:hover {background-color: #d4ebff;}#sk-container-id-14 div.sk-parallel-item::after {content: \"\";width: 100%;border-bottom: 1px solid gray;flex-grow: 1;}#sk-container-id-14 div.sk-label:hover label.sk-toggleable__label {background-color: #d4ebff;}#sk-container-id-14 div.sk-serial::before {content: \"\";position: absolute;border-left: 1px solid gray;box-sizing: border-box;top: 0;bottom: 0;left: 50%;z-index: 0;}#sk-container-id-14 div.sk-serial {display: flex;flex-direction: column;align-items: center;background-color: white;padding-right: 0.2em;padding-left: 0.2em;position: relative;}#sk-container-id-14 div.sk-item {position: relative;z-index: 1;}#sk-container-id-14 div.sk-parallel {display: flex;align-items: stretch;justify-content: center;background-color: white;position: relative;}#sk-container-id-14 div.sk-item::before, #sk-container-id-14 div.sk-parallel-item::before {content: \"\";position: absolute;border-left: 1px solid gray;box-sizing: border-box;top: 0;bottom: 0;left: 50%;z-index: -1;}#sk-container-id-14 div.sk-parallel-item {display: flex;flex-direction: column;z-index: 1;position: relative;background-color: white;}#sk-container-id-14 div.sk-parallel-item:first-child::after {align-self: flex-end;width: 50%;}#sk-container-id-14 div.sk-parallel-item:last-child::after {align-self: flex-start;width: 50%;}#sk-container-id-14 div.sk-parallel-item:only-child::after {width: 0;}#sk-container-id-14 div.sk-dashed-wrapped {border: 1px dashed gray;margin: 0 0.4em 0.5em 0.4em;box-sizing: border-box;padding-bottom: 0.4em;background-color: white;}#sk-container-id-14 div.sk-label label {font-family: monospace;font-weight: bold;display: inline-block;line-height: 1.2em;}#sk-container-id-14 div.sk-label-container {text-align: center;}#sk-container-id-14 div.sk-container {/* jupyter's `normalize.less` sets `[hidden] { display: none; }` but bootstrap.min.css set `[hidden] { display: none !important; }` so we also need the `!important` here to be able to override the default hidden behavior on the sphinx rendered scikit-learn.org. See: https://github.com/scikit-learn/scikit-learn/issues/21755 */display: inline-block !important;position: relative;}#sk-container-id-14 div.sk-text-repr-fallback {display: none;}</style><div id=\"sk-container-id-14\" class=\"sk-top-container\"><div class=\"sk-text-repr-fallback\"><pre>GridSearchCV(cv=5,\n",
       "             estimator=Pipeline(steps=[(&#x27;tvec&#x27;, TfidfVectorizer()),\n",
       "                                       (&#x27;svc&#x27;, SVC())]),\n",
       "             param_grid={&#x27;svc__C&#x27;: [1.9658620689655173], &#x27;svc__kernel&#x27;: [&#x27;rbf&#x27;],\n",
       "                         &#x27;tvec__max_df&#x27;: [0.2, 0.25, 0.3],\n",
       "                         &#x27;tvec__max_features&#x27;: [4000, 4500, 5000, 6000],\n",
       "                         &#x27;tvec__min_df&#x27;: [4, 5, 6],\n",
       "                         &#x27;tvec__ngram_range&#x27;: [(1, 2)],\n",
       "                         &#x27;tvec__stop_words&#x27;: [[&#x27;i&#x27;, &#x27;me&#x27;, &#x27;my&#x27;, &#x27;myself&#x27;, &#x27;we&#x27;,\n",
       "                                               &#x27;our&#x27;, &#x27;our&#x27;, &#x27;ourselv&#x27;, &#x27;you&#x27;,\n",
       "                                               &#x27;you&#x27;, &#x27;re&#x27;, &#x27;you&#x27;, &#x27;ve&#x27;, &#x27;you&#x27;,\n",
       "                                               &#x27;ll&#x27;, &#x27;you&#x27;, &#x27;d&#x27;, &#x27;your&#x27;, &#x27;your&#x27;,\n",
       "                                               &#x27;yourself&#x27;, &#x27;yourselv&#x27;, &#x27;he&#x27;,\n",
       "                                               &#x27;him&#x27;, &#x27;hi&#x27;, &#x27;himself&#x27;, &#x27;she&#x27;,\n",
       "                                               &#x27;she&#x27;, &#x27;s&#x27;, &#x27;her&#x27;, &#x27;her&#x27;, ...]]})</pre><b>In a Jupyter environment, please rerun this cell to show the HTML representation or trust the notebook. <br />On GitHub, the HTML representation is unable to render, please try loading this page with nbviewer.org.</b></div><div class=\"sk-container\" hidden><div class=\"sk-item sk-dashed-wrapped\"><div class=\"sk-label-container\"><div class=\"sk-label sk-toggleable\"><input class=\"sk-toggleable__control sk-hidden--visually\" id=\"sk-estimator-id-53\" type=\"checkbox\" ><label for=\"sk-estimator-id-53\" class=\"sk-toggleable__label sk-toggleable__label-arrow\">GridSearchCV</label><div class=\"sk-toggleable__content\"><pre>GridSearchCV(cv=5,\n",
       "             estimator=Pipeline(steps=[(&#x27;tvec&#x27;, TfidfVectorizer()),\n",
       "                                       (&#x27;svc&#x27;, SVC())]),\n",
       "             param_grid={&#x27;svc__C&#x27;: [1.9658620689655173], &#x27;svc__kernel&#x27;: [&#x27;rbf&#x27;],\n",
       "                         &#x27;tvec__max_df&#x27;: [0.2, 0.25, 0.3],\n",
       "                         &#x27;tvec__max_features&#x27;: [4000, 4500, 5000, 6000],\n",
       "                         &#x27;tvec__min_df&#x27;: [4, 5, 6],\n",
       "                         &#x27;tvec__ngram_range&#x27;: [(1, 2)],\n",
       "                         &#x27;tvec__stop_words&#x27;: [[&#x27;i&#x27;, &#x27;me&#x27;, &#x27;my&#x27;, &#x27;myself&#x27;, &#x27;we&#x27;,\n",
       "                                               &#x27;our&#x27;, &#x27;our&#x27;, &#x27;ourselv&#x27;, &#x27;you&#x27;,\n",
       "                                               &#x27;you&#x27;, &#x27;re&#x27;, &#x27;you&#x27;, &#x27;ve&#x27;, &#x27;you&#x27;,\n",
       "                                               &#x27;ll&#x27;, &#x27;you&#x27;, &#x27;d&#x27;, &#x27;your&#x27;, &#x27;your&#x27;,\n",
       "                                               &#x27;yourself&#x27;, &#x27;yourselv&#x27;, &#x27;he&#x27;,\n",
       "                                               &#x27;him&#x27;, &#x27;hi&#x27;, &#x27;himself&#x27;, &#x27;she&#x27;,\n",
       "                                               &#x27;she&#x27;, &#x27;s&#x27;, &#x27;her&#x27;, &#x27;her&#x27;, ...]]})</pre></div></div></div><div class=\"sk-parallel\"><div class=\"sk-parallel-item\"><div class=\"sk-item\"><div class=\"sk-label-container\"><div class=\"sk-label sk-toggleable\"><input class=\"sk-toggleable__control sk-hidden--visually\" id=\"sk-estimator-id-54\" type=\"checkbox\" ><label for=\"sk-estimator-id-54\" class=\"sk-toggleable__label sk-toggleable__label-arrow\">estimator: Pipeline</label><div class=\"sk-toggleable__content\"><pre>Pipeline(steps=[(&#x27;tvec&#x27;, TfidfVectorizer()), (&#x27;svc&#x27;, SVC())])</pre></div></div></div><div class=\"sk-serial\"><div class=\"sk-item\"><div class=\"sk-serial\"><div class=\"sk-item\"><div class=\"sk-estimator sk-toggleable\"><input class=\"sk-toggleable__control sk-hidden--visually\" id=\"sk-estimator-id-55\" type=\"checkbox\" ><label for=\"sk-estimator-id-55\" class=\"sk-toggleable__label sk-toggleable__label-arrow\">TfidfVectorizer</label><div class=\"sk-toggleable__content\"><pre>TfidfVectorizer()</pre></div></div></div><div class=\"sk-item\"><div class=\"sk-estimator sk-toggleable\"><input class=\"sk-toggleable__control sk-hidden--visually\" id=\"sk-estimator-id-56\" type=\"checkbox\" ><label for=\"sk-estimator-id-56\" class=\"sk-toggleable__label sk-toggleable__label-arrow\">SVC</label><div class=\"sk-toggleable__content\"><pre>SVC()</pre></div></div></div></div></div></div></div></div></div></div></div></div>"
      ],
      "text/plain": [
       "GridSearchCV(cv=5,\n",
       "             estimator=Pipeline(steps=[('tvec', TfidfVectorizer()),\n",
       "                                       ('svc', SVC())]),\n",
       "             param_grid={'svc__C': [1.9658620689655173], 'svc__kernel': ['rbf'],\n",
       "                         'tvec__max_df': [0.2, 0.25, 0.3],\n",
       "                         'tvec__max_features': [4000, 4500, 5000, 6000],\n",
       "                         'tvec__min_df': [4, 5, 6],\n",
       "                         'tvec__ngram_range': [(1, 2)],\n",
       "                         'tvec__stop_words': [['i', 'me', 'my', 'myself', 'we',\n",
       "                                               'our', 'our', 'ourselv', 'you',\n",
       "                                               'you', 're', 'you', 've', 'you',\n",
       "                                               'll', 'you', 'd', 'your', 'your',\n",
       "                                               'yourself', 'yourselv', 'he',\n",
       "                                               'him', 'hi', 'himself', 'she',\n",
       "                                               'she', 's', 'her', 'her', ...]]})"
      ]
     },
     "execution_count": 108,
     "metadata": {},
     "output_type": "execute_result"
    }
   ],
   "source": [
    "svc_c_gs.fit(X_train_s, y_train_s)"
   ]
  },
  {
   "cell_type": "markdown",
   "id": "fe9a8665-5dbc-46be-9654-7ae9503bf985",
   "metadata": {},
   "source": [
    "##### Best Parameters #####"
   ]
  },
  {
   "cell_type": "code",
   "execution_count": 109,
   "id": "efbeea71-fd27-4374-ac27-37c691b2db42",
   "metadata": {},
   "outputs": [
    {
     "data": {
      "text/plain": [
       "{'svc__C': 1.9658620689655173,\n",
       " 'svc__kernel': 'rbf',\n",
       " 'tvec__max_df': 0.3,\n",
       " 'tvec__max_features': 4500,\n",
       " 'tvec__min_df': 4,\n",
       " 'tvec__ngram_range': (1, 2)}"
      ]
     },
     "execution_count": 109,
     "metadata": {},
     "output_type": "execute_result"
    }
   ],
   "source": [
    "svc_c_gs.best_params_.pop('tvec__stop_words')\n",
    "svc_c_gs.best_params_"
   ]
  },
  {
   "cell_type": "markdown",
   "id": "2ef04a00-5c41-416e-9c86-a3b045744366",
   "metadata": {},
   "source": [
    "##### Model Performance Metrics #####"
   ]
  },
  {
   "cell_type": "code",
   "execution_count": 110,
   "id": "ca8bc108-5c21-426a-95f6-3fa69dc41155",
   "metadata": {},
   "outputs": [
    {
     "data": {
      "image/png": "[encoded data removed]",
      "text/plain": [
       "<Figure size 640x480 with 2 Axes>"
      ]
     },
     "metadata": {},
     "output_type": "display_data"
    }
   ],
   "source": [
    "ConfusionMatrixDisplay.from_estimator(svc_c_gs, X_test_s, y_test_s, cmap = 'Blues');"
   ]
  },
  {
   "cell_type": "code",
   "execution_count": 111,
   "id": "1aea9521-ae89-4a84-9fa9-2329251c7dd4",
   "metadata": {},
   "outputs": [
    {
     "data": {
      "text/html": [
       "<div>\n",
       "<style scoped>\n",
       "    .dataframe tbody tr th:only-of-type {\n",
       "        vertical-align: middle;\n",
       "    }\n",
       "\n",
       "    .dataframe tbody tr th {\n",
       "        vertical-align: top;\n",
       "    }\n",
       "\n",
       "    .dataframe thead th {\n",
       "        text-align: right;\n",
       "    }\n",
       "</style>\n",
       "<table border=\"1\" class=\"dataframe\">\n",
       "  <thead>\n",
       "    <tr style=\"text-align: right;\">\n",
       "      <th></th>\n",
       "      <th>train_accuracy</th>\n",
       "      <th>accuracy</th>\n",
       "      <th>sensitivity</th>\n",
       "    </tr>\n",
       "  </thead>\n",
       "  <tbody>\n",
       "    <tr>\n",
       "      <th>0</th>\n",
       "      <td>1.0</td>\n",
       "      <td>0.944444</td>\n",
       "      <td>0.913738</td>\n",
       "    </tr>\n",
       "  </tbody>\n",
       "</table>\n",
       "</div>"
      ],
      "text/plain": [
       "   train_accuracy  accuracy  sensitivity\n",
       "0             1.0  0.944444     0.913738"
      ]
     },
     "execution_count": 111,
     "metadata": {},
     "output_type": "execute_result"
    }
   ],
   "source": [
    "svc_c_metrics = model_stats(svc_c_gs, 'svm', 't', 's', crutch_words=True)\n",
    "model_metrics.append(svc_c_metrics)\n",
    "pd.DataFrame(svc_c_metrics, index=[0])[['train_accuracy', 'accuracy','sensitivity']]"
   ]
  },
  {
   "cell_type": "markdown",
   "id": "fbbbcc85-5206-4918-89b4-7f093b7c5b18",
   "metadata": {},
   "source": [
    "##### Model Performance Summary #####\n",
    "**Support Vector Machine** turns out to be by far the most performative model with **crutch words** removed. The **accuracy** score of .944 on the test data, and **sensitivity** of .914 both best all other **crutch words** removed models by significant margins."
   ]
  },
  {
   "cell_type": "code",
   "execution_count": 112,
   "id": "5d7bda69-c2e0-4e40-9082-681f5b7ca987",
   "metadata": {},
   "outputs": [
    {
     "data": {
      "text/html": [
       "<div>\n",
       "<style scoped>\n",
       "    .dataframe tbody tr th:only-of-type {\n",
       "        vertical-align: middle;\n",
       "    }\n",
       "\n",
       "    .dataframe tbody tr th {\n",
       "        vertical-align: top;\n",
       "    }\n",
       "\n",
       "    .dataframe thead th {\n",
       "        text-align: right;\n",
       "    }\n",
       "</style>\n",
       "<table border=\"1\" class=\"dataframe\">\n",
       "  <thead>\n",
       "    <tr style=\"text-align: right;\">\n",
       "      <th></th>\n",
       "      <th>model_type</th>\n",
       "      <th>vectorizer</th>\n",
       "      <th>transform_type</th>\n",
       "      <th>crutch_words_removed</th>\n",
       "      <th>true_positives</th>\n",
       "      <th>true_negatives</th>\n",
       "      <th>false_positives</th>\n",
       "      <th>false_negatives</th>\n",
       "      <th>train_accuracy</th>\n",
       "      <th>accuracy</th>\n",
       "      <th>sensitivity</th>\n",
       "      <th>specificity</th>\n",
       "      <th>precision</th>\n",
       "    </tr>\n",
       "  </thead>\n",
       "  <tbody>\n",
       "    <tr>\n",
       "      <th>0</th>\n",
       "      <td>log</td>\n",
       "      <td>c</td>\n",
       "      <td>o</td>\n",
       "      <td>0</td>\n",
       "      <td>301</td>\n",
       "      <td>344</td>\n",
       "      <td>9</td>\n",
       "      <td>12</td>\n",
       "      <td>0.992857</td>\n",
       "      <td>0.968468</td>\n",
       "      <td>0.961661</td>\n",
       "      <td>0.974504</td>\n",
       "      <td>0.970968</td>\n",
       "    </tr>\n",
       "    <tr>\n",
       "      <th>1</th>\n",
       "      <td>log</td>\n",
       "      <td>c</td>\n",
       "      <td>s</td>\n",
       "      <td>0</td>\n",
       "      <td>305</td>\n",
       "      <td>344</td>\n",
       "      <td>9</td>\n",
       "      <td>8</td>\n",
       "      <td>0.993233</td>\n",
       "      <td>0.974474</td>\n",
       "      <td>0.974441</td>\n",
       "      <td>0.974504</td>\n",
       "      <td>0.971338</td>\n",
       "    </tr>\n",
       "    <tr>\n",
       "      <th>2</th>\n",
       "      <td>log</td>\n",
       "      <td>c</td>\n",
       "      <td>l</td>\n",
       "      <td>0</td>\n",
       "      <td>303</td>\n",
       "      <td>342</td>\n",
       "      <td>11</td>\n",
       "      <td>10</td>\n",
       "      <td>0.993233</td>\n",
       "      <td>0.968468</td>\n",
       "      <td>0.968051</td>\n",
       "      <td>0.968839</td>\n",
       "      <td>0.964968</td>\n",
       "    </tr>\n",
       "    <tr>\n",
       "      <th>3</th>\n",
       "      <td>log</td>\n",
       "      <td>t</td>\n",
       "      <td>s</td>\n",
       "      <td>0</td>\n",
       "      <td>307</td>\n",
       "      <td>345</td>\n",
       "      <td>8</td>\n",
       "      <td>6</td>\n",
       "      <td>0.989474</td>\n",
       "      <td>0.978979</td>\n",
       "      <td>0.980831</td>\n",
       "      <td>0.977337</td>\n",
       "      <td>0.974603</td>\n",
       "    </tr>\n",
       "    <tr>\n",
       "      <th>4</th>\n",
       "      <td>log</td>\n",
       "      <td>c</td>\n",
       "      <td>o</td>\n",
       "      <td>1</td>\n",
       "      <td>273</td>\n",
       "      <td>344</td>\n",
       "      <td>9</td>\n",
       "      <td>40</td>\n",
       "      <td>0.991729</td>\n",
       "      <td>0.926426</td>\n",
       "      <td>0.872204</td>\n",
       "      <td>0.974504</td>\n",
       "      <td>0.968085</td>\n",
       "    </tr>\n",
       "    <tr>\n",
       "      <th>5</th>\n",
       "      <td>log</td>\n",
       "      <td>c</td>\n",
       "      <td>s</td>\n",
       "      <td>1</td>\n",
       "      <td>276</td>\n",
       "      <td>339</td>\n",
       "      <td>14</td>\n",
       "      <td>37</td>\n",
       "      <td>1.000000</td>\n",
       "      <td>0.923423</td>\n",
       "      <td>0.881789</td>\n",
       "      <td>0.960340</td>\n",
       "      <td>0.951724</td>\n",
       "    </tr>\n",
       "    <tr>\n",
       "      <th>6</th>\n",
       "      <td>log</td>\n",
       "      <td>c</td>\n",
       "      <td>l</td>\n",
       "      <td>1</td>\n",
       "      <td>271</td>\n",
       "      <td>338</td>\n",
       "      <td>15</td>\n",
       "      <td>42</td>\n",
       "      <td>0.983835</td>\n",
       "      <td>0.914414</td>\n",
       "      <td>0.865815</td>\n",
       "      <td>0.957507</td>\n",
       "      <td>0.947552</td>\n",
       "    </tr>\n",
       "    <tr>\n",
       "      <th>7</th>\n",
       "      <td>log</td>\n",
       "      <td>t</td>\n",
       "      <td>s</td>\n",
       "      <td>1</td>\n",
       "      <td>278</td>\n",
       "      <td>346</td>\n",
       "      <td>7</td>\n",
       "      <td>35</td>\n",
       "      <td>0.972556</td>\n",
       "      <td>0.936937</td>\n",
       "      <td>0.888179</td>\n",
       "      <td>0.980170</td>\n",
       "      <td>0.975439</td>\n",
       "    </tr>\n",
       "    <tr>\n",
       "      <th>8</th>\n",
       "      <td>rf</td>\n",
       "      <td>t</td>\n",
       "      <td>s</td>\n",
       "      <td>0</td>\n",
       "      <td>301</td>\n",
       "      <td>347</td>\n",
       "      <td>6</td>\n",
       "      <td>12</td>\n",
       "      <td>1.000000</td>\n",
       "      <td>0.972973</td>\n",
       "      <td>0.961661</td>\n",
       "      <td>0.983003</td>\n",
       "      <td>0.980456</td>\n",
       "    </tr>\n",
       "    <tr>\n",
       "      <th>9</th>\n",
       "      <td>rf</td>\n",
       "      <td>t</td>\n",
       "      <td>s</td>\n",
       "      <td>1</td>\n",
       "      <td>274</td>\n",
       "      <td>332</td>\n",
       "      <td>21</td>\n",
       "      <td>39</td>\n",
       "      <td>1.000000</td>\n",
       "      <td>0.909910</td>\n",
       "      <td>0.875399</td>\n",
       "      <td>0.940510</td>\n",
       "      <td>0.928814</td>\n",
       "    </tr>\n",
       "    <tr>\n",
       "      <th>10</th>\n",
       "      <td>gb</td>\n",
       "      <td>t</td>\n",
       "      <td>s</td>\n",
       "      <td>0</td>\n",
       "      <td>307</td>\n",
       "      <td>327</td>\n",
       "      <td>26</td>\n",
       "      <td>6</td>\n",
       "      <td>0.980827</td>\n",
       "      <td>0.951952</td>\n",
       "      <td>0.980831</td>\n",
       "      <td>0.926346</td>\n",
       "      <td>0.921922</td>\n",
       "    </tr>\n",
       "    <tr>\n",
       "      <th>11</th>\n",
       "      <td>gb</td>\n",
       "      <td>t</td>\n",
       "      <td>s</td>\n",
       "      <td>1</td>\n",
       "      <td>260</td>\n",
       "      <td>332</td>\n",
       "      <td>21</td>\n",
       "      <td>53</td>\n",
       "      <td>1.000000</td>\n",
       "      <td>0.888889</td>\n",
       "      <td>0.830671</td>\n",
       "      <td>0.940510</td>\n",
       "      <td>0.925267</td>\n",
       "    </tr>\n",
       "    <tr>\n",
       "      <th>12</th>\n",
       "      <td>svm</td>\n",
       "      <td>t</td>\n",
       "      <td>s</td>\n",
       "      <td>0</td>\n",
       "      <td>305</td>\n",
       "      <td>344</td>\n",
       "      <td>9</td>\n",
       "      <td>8</td>\n",
       "      <td>0.999624</td>\n",
       "      <td>0.974474</td>\n",
       "      <td>0.974441</td>\n",
       "      <td>0.974504</td>\n",
       "      <td>0.971338</td>\n",
       "    </tr>\n",
       "    <tr>\n",
       "      <th>13</th>\n",
       "      <td>svm</td>\n",
       "      <td>t</td>\n",
       "      <td>s</td>\n",
       "      <td>1</td>\n",
       "      <td>286</td>\n",
       "      <td>343</td>\n",
       "      <td>10</td>\n",
       "      <td>27</td>\n",
       "      <td>1.000000</td>\n",
       "      <td>0.944444</td>\n",
       "      <td>0.913738</td>\n",
       "      <td>0.971671</td>\n",
       "      <td>0.966216</td>\n",
       "    </tr>\n",
       "  </tbody>\n",
       "</table>\n",
       "</div>"
      ],
      "text/plain": [
       "   model_type vectorizer transform_type  crutch_words_removed  true_positives  \\\n",
       "0         log          c              o                     0             301   \n",
       "1         log          c              s                     0             305   \n",
       "2         log          c              l                     0             303   \n",
       "3         log          t              s                     0             307   \n",
       "4         log          c              o                     1             273   \n",
       "5         log          c              s                     1             276   \n",
       "6         log          c              l                     1             271   \n",
       "7         log          t              s                     1             278   \n",
       "8          rf          t              s                     0             301   \n",
       "9          rf          t              s                     1             274   \n",
       "10         gb          t              s                     0             307   \n",
       "11         gb          t              s                     1             260   \n",
       "12        svm          t              s                     0             305   \n",
       "13        svm          t              s                     1             286   \n",
       "\n",
       "    true_negatives  false_positives  false_negatives  train_accuracy  \\\n",
       "0              344                9               12        0.992857   \n",
       "1              344                9                8        0.993233   \n",
       "2              342               11               10        0.993233   \n",
       "3              345                8                6        0.989474   \n",
       "4              344                9               40        0.991729   \n",
       "5              339               14               37        1.000000   \n",
       "6              338               15               42        0.983835   \n",
       "7              346                7               35        0.972556   \n",
       "8              347                6               12        1.000000   \n",
       "9              332               21               39        1.000000   \n",
       "10             327               26                6        0.980827   \n",
       "11             332               21               53        1.000000   \n",
       "12             344                9                8        0.999624   \n",
       "13             343               10               27        1.000000   \n",
       "\n",
       "    accuracy  sensitivity  specificity  precision  \n",
       "0   0.968468     0.961661     0.974504   0.970968  \n",
       "1   0.974474     0.974441     0.974504   0.971338  \n",
       "2   0.968468     0.968051     0.968839   0.964968  \n",
       "3   0.978979     0.980831     0.977337   0.974603  \n",
       "4   0.926426     0.872204     0.974504   0.968085  \n",
       "5   0.923423     0.881789     0.960340   0.951724  \n",
       "6   0.914414     0.865815     0.957507   0.947552  \n",
       "7   0.936937     0.888179     0.980170   0.975439  \n",
       "8   0.972973     0.961661     0.983003   0.980456  \n",
       "9   0.909910     0.875399     0.940510   0.928814  \n",
       "10  0.951952     0.980831     0.926346   0.921922  \n",
       "11  0.888889     0.830671     0.940510   0.925267  \n",
       "12  0.974474     0.974441     0.974504   0.971338  \n",
       "13  0.944444     0.913738     0.971671   0.966216  "
      ]
     },
     "execution_count": 112,
     "metadata": {},
     "output_type": "execute_result"
    }
   ],
   "source": [
    "model_metrics_df = pd.DataFrame(model_metrics)\n",
    "model_metrics_df.to_csv('../data/model_performance_metrics.csv', index=False)\n",
    "model_metrics_df"
   ]
  }
 ],
 "metadata": {
  "kernelspec": {
   "display_name": "Python 3 (ipykernel)",
   "language": "python",
   "name": "python3"
  },
  "language_info": {
   "codemirror_mode": {
    "name": "ipython",
    "version": 3
   },
   "file_extension": ".py",
   "mimetype": "text/x-python",
   "name": "python",
   "nbconvert_exporter": "python",
   "pygments_lexer": "ipython3",
   "version": "3.9.13"
  }
 },
 "nbformat": 4,
 "nbformat_minor": 5
}
