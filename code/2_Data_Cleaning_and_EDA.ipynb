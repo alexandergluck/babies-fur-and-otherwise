{
 "cells": [
  {
   "cell_type": "markdown",
   "id": "a9830f31-3966-473f-b5d5-5d7830f7d44e",
   "metadata": {},
   "source": [
    "# Data Cleaning, Feature Engineering, and Exploratory Data Analysis #"
   ]
  },
  {
   "cell_type": "markdown",
   "id": "f37e7342-d6dd-4112-a2ab-1826cef0278e",
   "metadata": {},
   "source": [
    "#### Imports ####"
   ]
  },
  {
   "cell_type": "code",
   "execution_count": 1,
   "id": "4d6d4070-f415-45a7-b9b5-fbef7e437213",
   "metadata": {},
   "outputs": [],
   "source": [
    "import numpy as np\n",
    "import pandas as pd\n",
    "import matplotlib.pyplot as plt\n",
    "import seaborn as sns\n",
    "\n",
    "from sklearn.feature_extraction.text import CountVectorizer"
   ]
  },
  {
   "cell_type": "code",
   "execution_count": 2,
   "id": "8516111a-a1f1-4543-855b-4a6b481a75cd",
   "metadata": {},
   "outputs": [],
   "source": [
    "dogs_v_kids = pd.read_csv('../data/dogs_v_children.csv')"
   ]
  },
  {
   "cell_type": "markdown",
   "id": "dad01433-3dc1-41db-81e6-fd9e2c7f44c9",
   "metadata": {
    "tags": []
   },
   "source": [
    "## Data Cleaning ##"
   ]
  },
  {
   "cell_type": "code",
   "execution_count": 3,
   "id": "7cda4092-75f1-43f3-911f-940b1ece166e",
   "metadata": {},
   "outputs": [
    {
     "data": {
      "text/plain": [
       "Index(['subreddit', 'selftext', 'author_fullname', 'gilded', 'title',\n",
       "       'link_flair_richtext', 'subreddit_name_prefixed', 'hidden', 'pwls',\n",
       "       'link_flair_css_class', 'thumbnail_height', 'top_awarded_type',\n",
       "       'hide_score', 'quarantine', 'link_flair_text_color', 'upvote_ratio',\n",
       "       'author_flair_background_color', 'subreddit_type',\n",
       "       'total_awards_received', 'media_embed', 'thumbnail_width',\n",
       "       'author_flair_template_id', 'is_original_content', 'secure_media',\n",
       "       'is_reddit_media_domain', 'is_meta', 'category', 'secure_media_embed',\n",
       "       'link_flair_text', 'score', 'is_created_from_ads_ui', 'author_premium',\n",
       "       'thumbnail', 'edited', 'author_flair_css_class',\n",
       "       'author_flair_richtext', 'gildings', 'content_categories', 'is_self',\n",
       "       'link_flair_type', 'wls', 'removed_by_category', 'author_flair_type',\n",
       "       'domain', 'allow_live_comments', 'suggested_sort', 'view_count',\n",
       "       'archived', 'no_follow', 'is_crosspostable', 'pinned', 'over_18',\n",
       "       'all_awardings', 'awarders', 'media_only', 'link_flair_template_id',\n",
       "       'can_gild', 'spoiler', 'locked', 'author_flair_text', 'treatment_tags',\n",
       "       'removed_by', 'distinguished', 'subreddit_id',\n",
       "       'link_flair_background_color', 'id', 'is_robot_indexable', 'author',\n",
       "       'discussion_type', 'num_comments', 'send_replies', 'whitelist_status',\n",
       "       'contest_mode', 'author_patreon_flair', 'author_flair_text_color',\n",
       "       'permalink', 'parent_whitelist_status', 'stickied', 'url',\n",
       "       'subreddit_subscribers', 'created_utc', 'num_crossposts', 'media',\n",
       "       'is_video', 'retrieved_utc', 'updated_utc', 'utc_datetime_str',\n",
       "       'post_hint', 'preview', 'crosspost_parent_list',\n",
       "       'url_overridden_by_dest', 'crosspost_parent', 'edited_on',\n",
       "       'author_cakeday'],\n",
       "      dtype='object')"
      ]
     },
     "execution_count": 3,
     "metadata": {},
     "output_type": "execute_result"
    }
   ],
   "source": [
    "dogs_v_kids.columns"
   ]
  },
  {
   "cell_type": "markdown",
   "id": "2d48cc55-06a7-4a31-bf12-64b8cd46eddb",
   "metadata": {},
   "source": [
    "There are quite a number of columns in this dataset that I have little interest in for this project. I'll reassign my dataframe to only include the columns I want:"
   ]
  },
  {
   "cell_type": "code",
   "execution_count": 4,
   "id": "d228e92c-0c6b-4948-9abd-9802b87e2458",
   "metadata": {},
   "outputs": [
    {
     "data": {
      "text/html": [
       "<div>\n",
       "<style scoped>\n",
       "    .dataframe tbody tr th:only-of-type {\n",
       "        vertical-align: middle;\n",
       "    }\n",
       "\n",
       "    .dataframe tbody tr th {\n",
       "        vertical-align: top;\n",
       "    }\n",
       "\n",
       "    .dataframe thead th {\n",
       "        text-align: right;\n",
       "    }\n",
       "</style>\n",
       "<table border=\"1\" class=\"dataframe\">\n",
       "  <thead>\n",
       "    <tr style=\"text-align: right;\">\n",
       "      <th></th>\n",
       "      <th>subreddit</th>\n",
       "      <th>selftext</th>\n",
       "      <th>title</th>\n",
       "      <th>author</th>\n",
       "      <th>utc_datetime_str</th>\n",
       "    </tr>\n",
       "  </thead>\n",
       "  <tbody>\n",
       "    <tr>\n",
       "      <th>0</th>\n",
       "      <td>dogs</td>\n",
       "      <td>We have a 1 year old maltese shihtzu, we have ...</td>\n",
       "      <td>On lead greetings</td>\n",
       "      <td>M3409</td>\n",
       "      <td>2023-03-02 00:16:11</td>\n",
       "    </tr>\n",
       "    <tr>\n",
       "      <th>1</th>\n",
       "      <td>dogs</td>\n",
       "      <td>Color, pile thickness, pattern?\\n\\nI have a mi...</td>\n",
       "      <td>Home carpet recommendations?</td>\n",
       "      <td>GoodMoGo</td>\n",
       "      <td>2023-03-02 00:15:20</td>\n",
       "    </tr>\n",
       "    <tr>\n",
       "      <th>2</th>\n",
       "      <td>dogs</td>\n",
       "      <td>Hello, Noah is a white german shepherd, he has...</td>\n",
       "      <td>Dog epilepsy</td>\n",
       "      <td>kekalam</td>\n",
       "      <td>2023-03-02 00:14:14</td>\n",
       "    </tr>\n",
       "    <tr>\n",
       "      <th>3</th>\n",
       "      <td>dogs</td>\n",
       "      <td>So I’ve moved in to my aunts house and she own...</td>\n",
       "      <td>Advice needed</td>\n",
       "      <td>mfgoodguy</td>\n",
       "      <td>2023-03-02 00:12:16</td>\n",
       "    </tr>\n",
       "    <tr>\n",
       "      <th>4</th>\n",
       "      <td>dogs</td>\n",
       "      <td>This is an app that could be useful to find a...</td>\n",
       "      <td>Mappet is an app for dogs lovers</td>\n",
       "      <td>SalvatoreScalia</td>\n",
       "      <td>2023-03-02 00:05:20</td>\n",
       "    </tr>\n",
       "  </tbody>\n",
       "</table>\n",
       "</div>"
      ],
      "text/plain": [
       "  subreddit                                           selftext  \\\n",
       "0      dogs  We have a 1 year old maltese shihtzu, we have ...   \n",
       "1      dogs  Color, pile thickness, pattern?\\n\\nI have a mi...   \n",
       "2      dogs  Hello, Noah is a white german shepherd, he has...   \n",
       "3      dogs  So I’ve moved in to my aunts house and she own...   \n",
       "4      dogs   This is an app that could be useful to find a...   \n",
       "\n",
       "                              title           author     utc_datetime_str  \n",
       "0                 On lead greetings            M3409  2023-03-02 00:16:11  \n",
       "1      Home carpet recommendations?         GoodMoGo  2023-03-02 00:15:20  \n",
       "2                      Dog epilepsy          kekalam  2023-03-02 00:14:14  \n",
       "3                     Advice needed        mfgoodguy  2023-03-02 00:12:16  \n",
       "4  Mappet is an app for dogs lovers  SalvatoreScalia  2023-03-02 00:05:20  "
      ]
     },
     "execution_count": 4,
     "metadata": {},
     "output_type": "execute_result"
    }
   ],
   "source": [
    "dogs_v_kids = dogs_v_kids[['subreddit', 'selftext', 'title', 'author', 'utc_datetime_str']]\n",
    "dogs_v_kids.head()        "
   ]
  },
  {
   "cell_type": "markdown",
   "id": "c5c2c41b-522e-42a5-843b-8062df684849",
   "metadata": {},
   "source": [
    "I don't feel like **'selftext'** is a particularly descriptive or intuitive name, so I'm going to change that:"
   ]
  },
  {
   "cell_type": "code",
   "execution_count": 5,
   "id": "1dae3070-1a62-441e-951c-ada744c2dcec",
   "metadata": {},
   "outputs": [],
   "source": [
    "dogs_v_kids.rename(columns = {'selftext': 'post'}, inplace=True)"
   ]
  },
  {
   "cell_type": "markdown",
   "id": "32c3cf05-5b63-4c81-85cb-ff4b08a51290",
   "metadata": {},
   "source": [
    "I'll also change **'utc_datetime_str'** to a datetime dtype"
   ]
  },
  {
   "cell_type": "code",
   "execution_count": 6,
   "id": "9e3decf0-8c19-41cf-9a0a-bb465efd3e52",
   "metadata": {},
   "outputs": [
    {
     "data": {
      "text/plain": [
       "subreddit                   object\n",
       "post                        object\n",
       "title                       object\n",
       "author                      object\n",
       "utc_datetime_str    datetime64[ns]\n",
       "dtype: object"
      ]
     },
     "execution_count": 6,
     "metadata": {},
     "output_type": "execute_result"
    }
   ],
   "source": [
    "dogs_v_kids['utc_datetime_str'] = pd.to_datetime(dogs_v_kids['utc_datetime_str'])\n",
    "dogs_v_kids.dtypes"
   ]
  },
  {
   "cell_type": "markdown",
   "id": "295995b3-d5d6-41e9-b4aa-3ad427391e6c",
   "metadata": {},
   "source": [
    "Let's check for nulls:"
   ]
  },
  {
   "cell_type": "code",
   "execution_count": 7,
   "id": "a90516f7-3ef8-4e6f-bfae-b7585b692f3b",
   "metadata": {},
   "outputs": [
    {
     "data": {
      "text/plain": [
       "subreddit           0\n",
       "post                1\n",
       "title               0\n",
       "author              0\n",
       "utc_datetime_str    0\n",
       "dtype: int64"
      ]
     },
     "execution_count": 7,
     "metadata": {},
     "output_type": "execute_result"
    }
   ],
   "source": [
    "dogs_v_kids.isna().sum()"
   ]
  },
  {
   "cell_type": "markdown",
   "id": "26854f4d-6ed4-4b41-91c0-95dc4867a40e",
   "metadata": {},
   "source": [
    "Looks like there is just the one in **'post'**. Let's take a look:"
   ]
  },
  {
   "cell_type": "code",
   "execution_count": 8,
   "id": "d11d1e66-03ad-4d48-a5ea-40b2565ba056",
   "metadata": {},
   "outputs": [
    {
     "data": {
      "text/html": [
       "<div>\n",
       "<style scoped>\n",
       "    .dataframe tbody tr th:only-of-type {\n",
       "        vertical-align: middle;\n",
       "    }\n",
       "\n",
       "    .dataframe tbody tr th {\n",
       "        vertical-align: top;\n",
       "    }\n",
       "\n",
       "    .dataframe thead th {\n",
       "        text-align: right;\n",
       "    }\n",
       "</style>\n",
       "<table border=\"1\" class=\"dataframe\">\n",
       "  <thead>\n",
       "    <tr style=\"text-align: right;\">\n",
       "      <th></th>\n",
       "      <th>subreddit</th>\n",
       "      <th>post</th>\n",
       "      <th>title</th>\n",
       "      <th>author</th>\n",
       "      <th>utc_datetime_str</th>\n",
       "    </tr>\n",
       "  </thead>\n",
       "  <tbody>\n",
       "    <tr>\n",
       "      <th>56</th>\n",
       "      <td>dogs</td>\n",
       "      <td>NaN</td>\n",
       "      <td>LPT: Make sure your pets travel in the human s...</td>\n",
       "      <td>wattatam</td>\n",
       "      <td>2023-03-01 15:46:53</td>\n",
       "    </tr>\n",
       "  </tbody>\n",
       "</table>\n",
       "</div>"
      ],
      "text/plain": [
       "   subreddit post                                              title  \\\n",
       "56      dogs  NaN  LPT: Make sure your pets travel in the human s...   \n",
       "\n",
       "      author    utc_datetime_str  \n",
       "56  wattatam 2023-03-01 15:46:53  "
      ]
     },
     "execution_count": 8,
     "metadata": {},
     "output_type": "execute_result"
    }
   ],
   "source": [
    "dogs_v_kids[dogs_v_kids['post'].isna()]"
   ]
  },
  {
   "cell_type": "markdown",
   "id": "1ecde082-e515-4ce9-963b-f18e86b2193b",
   "metadata": {},
   "source": [
    "It looks like this post just has all of the text in the title. I'll fill 'post' with an empty string"
   ]
  },
  {
   "cell_type": "code",
   "execution_count": 9,
   "id": "7c5e14c5-6675-40c8-8380-ec84deba1348",
   "metadata": {},
   "outputs": [
    {
     "data": {
      "text/plain": [
       "subreddit           0\n",
       "post                0\n",
       "title               0\n",
       "author              0\n",
       "utc_datetime_str    0\n",
       "dtype: int64"
      ]
     },
     "execution_count": 9,
     "metadata": {},
     "output_type": "execute_result"
    }
   ],
   "source": [
    "dogs_v_kids.fillna('', inplace=True)\n",
    "dogs_v_kids.isna().sum()"
   ]
  },
  {
   "cell_type": "markdown",
   "id": "677dd716-085f-46ad-8f14-a4057e8d7d84",
   "metadata": {},
   "source": [
    "Finally, I'll binarize my y variable, which is **'subreddit'**. Since the ultimate goal is to reach parents, I'll set **'Parenting'** to 1 (true) and **'dogs'** to 0 (false)"
   ]
  },
  {
   "cell_type": "code",
   "execution_count": 10,
   "id": "25bc6109-0bed-4082-bedc-1dff170bf31c",
   "metadata": {},
   "outputs": [],
   "source": [
    "dogs_v_kids['subreddit'] = dogs_v_kids['subreddit'].map({'Parenting': 1, 'dogs': 0})"
   ]
  },
  {
   "cell_type": "markdown",
   "id": "93c2f36a-ccbd-4c86-abfa-a5ca09914df4",
   "metadata": {},
   "source": [
    "## Feature Engineering ##"
   ]
  },
  {
   "cell_type": "markdown",
   "id": "27fcb559-9573-4265-a907-b50a28b9574f",
   "metadata": {},
   "source": [
    "I'm going to create some variables that measure the lengths of posts and titles, as I am interested in seeing if there is a notable difference in post length between the two subreddits:"
   ]
  },
  {
   "cell_type": "code",
   "execution_count": 11,
   "id": "546901c5-ba4a-4341-af93-36dd9d77add5",
   "metadata": {},
   "outputs": [
    {
     "data": {
      "text/html": [
       "<div>\n",
       "<style scoped>\n",
       "    .dataframe tbody tr th:only-of-type {\n",
       "        vertical-align: middle;\n",
       "    }\n",
       "\n",
       "    .dataframe tbody tr th {\n",
       "        vertical-align: top;\n",
       "    }\n",
       "\n",
       "    .dataframe thead th {\n",
       "        text-align: right;\n",
       "    }\n",
       "</style>\n",
       "<table border=\"1\" class=\"dataframe\">\n",
       "  <thead>\n",
       "    <tr style=\"text-align: right;\">\n",
       "      <th></th>\n",
       "      <th>subreddit</th>\n",
       "      <th>post</th>\n",
       "      <th>title</th>\n",
       "      <th>author</th>\n",
       "      <th>utc_datetime_str</th>\n",
       "      <th>post_length</th>\n",
       "      <th>post_word_count</th>\n",
       "      <th>title_length</th>\n",
       "      <th>title_word_count</th>\n",
       "    </tr>\n",
       "  </thead>\n",
       "  <tbody>\n",
       "    <tr>\n",
       "      <th>0</th>\n",
       "      <td>0</td>\n",
       "      <td>We have a 1 year old maltese shihtzu, we have ...</td>\n",
       "      <td>On lead greetings</td>\n",
       "      <td>M3409</td>\n",
       "      <td>2023-03-02 00:16:11</td>\n",
       "      <td>661</td>\n",
       "      <td>129</td>\n",
       "      <td>17</td>\n",
       "      <td>3</td>\n",
       "    </tr>\n",
       "    <tr>\n",
       "      <th>1</th>\n",
       "      <td>0</td>\n",
       "      <td>Color, pile thickness, pattern?\\n\\nI have a mi...</td>\n",
       "      <td>Home carpet recommendations?</td>\n",
       "      <td>GoodMoGo</td>\n",
       "      <td>2023-03-02 00:15:20</td>\n",
       "      <td>326</td>\n",
       "      <td>55</td>\n",
       "      <td>28</td>\n",
       "      <td>3</td>\n",
       "    </tr>\n",
       "    <tr>\n",
       "      <th>2</th>\n",
       "      <td>0</td>\n",
       "      <td>Hello, Noah is a white german shepherd, he has...</td>\n",
       "      <td>Dog epilepsy</td>\n",
       "      <td>kekalam</td>\n",
       "      <td>2023-03-02 00:14:14</td>\n",
       "      <td>376</td>\n",
       "      <td>75</td>\n",
       "      <td>12</td>\n",
       "      <td>2</td>\n",
       "    </tr>\n",
       "    <tr>\n",
       "      <th>3</th>\n",
       "      <td>0</td>\n",
       "      <td>So I’ve moved in to my aunts house and she own...</td>\n",
       "      <td>Advice needed</td>\n",
       "      <td>mfgoodguy</td>\n",
       "      <td>2023-03-02 00:12:16</td>\n",
       "      <td>1037</td>\n",
       "      <td>207</td>\n",
       "      <td>13</td>\n",
       "      <td>2</td>\n",
       "    </tr>\n",
       "    <tr>\n",
       "      <th>4</th>\n",
       "      <td>0</td>\n",
       "      <td>This is an app that could be useful to find a...</td>\n",
       "      <td>Mappet is an app for dogs lovers</td>\n",
       "      <td>SalvatoreScalia</td>\n",
       "      <td>2023-03-02 00:05:20</td>\n",
       "      <td>308</td>\n",
       "      <td>28</td>\n",
       "      <td>32</td>\n",
       "      <td>7</td>\n",
       "    </tr>\n",
       "  </tbody>\n",
       "</table>\n",
       "</div>"
      ],
      "text/plain": [
       "   subreddit                                               post  \\\n",
       "0          0  We have a 1 year old maltese shihtzu, we have ...   \n",
       "1          0  Color, pile thickness, pattern?\\n\\nI have a mi...   \n",
       "2          0  Hello, Noah is a white german shepherd, he has...   \n",
       "3          0  So I’ve moved in to my aunts house and she own...   \n",
       "4          0   This is an app that could be useful to find a...   \n",
       "\n",
       "                              title           author    utc_datetime_str  \\\n",
       "0                 On lead greetings            M3409 2023-03-02 00:16:11   \n",
       "1      Home carpet recommendations?         GoodMoGo 2023-03-02 00:15:20   \n",
       "2                      Dog epilepsy          kekalam 2023-03-02 00:14:14   \n",
       "3                     Advice needed        mfgoodguy 2023-03-02 00:12:16   \n",
       "4  Mappet is an app for dogs lovers  SalvatoreScalia 2023-03-02 00:05:20   \n",
       "\n",
       "   post_length  post_word_count  title_length  title_word_count  \n",
       "0          661              129            17                 3  \n",
       "1          326               55            28                 3  \n",
       "2          376               75            12                 2  \n",
       "3         1037              207            13                 2  \n",
       "4          308               28            32                 7  "
      ]
     },
     "execution_count": 11,
     "metadata": {},
     "output_type": "execute_result"
    }
   ],
   "source": [
    "dogs_v_kids['post_length'] = [len(post) for post in dogs_v_kids['post']]\n",
    "dogs_v_kids['post_word_count'] = [len(post.split()) for post in dogs_v_kids['post']]\n",
    "dogs_v_kids['title_length'] = [len(title) for title in dogs_v_kids['title']]\n",
    "dogs_v_kids['title_word_count'] = [len(title.split()) for title in dogs_v_kids['title']]\n",
    "dogs_v_kids.head()"
   ]
  },
  {
   "cell_type": "markdown",
   "id": "2be0e856-b445-48ec-9faf-d6ab02c0ef7c",
   "metadata": {},
   "source": [
    "I'll also create a column that combines my two text columns, in order to simplify later steps:"
   ]
  },
  {
   "cell_type": "code",
   "execution_count": 12,
   "id": "945d7f4b-e475-48d0-90b3-98d98e8cee43",
   "metadata": {},
   "outputs": [],
   "source": [
    "dogs_v_kids['title_post'] = dogs_v_kids['title'] + ' ' + dogs_v_kids['post']"
   ]
  },
  {
   "cell_type": "markdown",
   "id": "2b94c584-42a2-48bd-a1ad-0741aa8f4559",
   "metadata": {},
   "source": [
    "Now I'll save my dataframe:"
   ]
  },
  {
   "cell_type": "code",
   "execution_count": 13,
   "id": "57c74464-7f0c-4022-9606-3187406b8388",
   "metadata": {},
   "outputs": [],
   "source": [
    "dogs_v_kids.to_csv('../data/dogs_v_kids_cleaned.csv', index=False)"
   ]
  },
  {
   "cell_type": "markdown",
   "id": "0235ee37-f59d-40a8-ae60-8e5386c0a754",
   "metadata": {},
   "source": [
    "## EDA ##"
   ]
  },
  {
   "cell_type": "markdown",
   "id": "4063d4a8-eac6-406b-97ed-65910f0c6323",
   "metadata": {},
   "source": [
    "Longest and shortest Posts by word count:"
   ]
  },
  {
   "cell_type": "code",
   "execution_count": 14,
   "id": "94d2521d-2ee1-4587-8c7f-4d90e3095102",
   "metadata": {},
   "outputs": [
    {
     "data": {
      "text/html": [
       "<div>\n",
       "<style scoped>\n",
       "    .dataframe tbody tr th:only-of-type {\n",
       "        vertical-align: middle;\n",
       "    }\n",
       "\n",
       "    .dataframe tbody tr th {\n",
       "        vertical-align: top;\n",
       "    }\n",
       "\n",
       "    .dataframe thead th {\n",
       "        text-align: right;\n",
       "    }\n",
       "</style>\n",
       "<table border=\"1\" class=\"dataframe\">\n",
       "  <thead>\n",
       "    <tr style=\"text-align: right;\">\n",
       "      <th></th>\n",
       "      <th>subreddit</th>\n",
       "      <th>post</th>\n",
       "      <th>title</th>\n",
       "      <th>author</th>\n",
       "      <th>utc_datetime_str</th>\n",
       "      <th>post_length</th>\n",
       "      <th>post_word_count</th>\n",
       "      <th>title_length</th>\n",
       "      <th>title_word_count</th>\n",
       "      <th>title_post</th>\n",
       "    </tr>\n",
       "  </thead>\n",
       "  <tbody>\n",
       "    <tr>\n",
       "      <th>56</th>\n",
       "      <td>0</td>\n",
       "      <td></td>\n",
       "      <td>LPT: Make sure your pets travel in the human s...</td>\n",
       "      <td>wattatam</td>\n",
       "      <td>2023-03-01 15:46:53</td>\n",
       "      <td>0</td>\n",
       "      <td>0</td>\n",
       "      <td>63</td>\n",
       "      <td>13</td>\n",
       "      <td>LPT: Make sure your pets travel in the human s...</td>\n",
       "    </tr>\n",
       "    <tr>\n",
       "      <th>743</th>\n",
       "      <td>0</td>\n",
       "      <td>[https://www.thesun.co.uk/news/21445882/twitch...</td>\n",
       "      <td>Horror accident - Streamer running over dog (T...</td>\n",
       "      <td>fancy_the_rat</td>\n",
       "      <td>2023-02-24 19:27:58</td>\n",
       "      <td>158</td>\n",
       "      <td>1</td>\n",
       "      <td>76</td>\n",
       "      <td>10</td>\n",
       "      <td>Horror accident - Streamer running over dog (T...</td>\n",
       "    </tr>\n",
       "    <tr>\n",
       "      <th>112</th>\n",
       "      <td>0</td>\n",
       "      <td>Title.</td>\n",
       "      <td>Why is charging more for puppies from a given ...</td>\n",
       "      <td>Whisdeer</td>\n",
       "      <td>2023-03-01 01:19:59</td>\n",
       "      <td>6</td>\n",
       "      <td>1</td>\n",
       "      <td>83</td>\n",
       "      <td>15</td>\n",
       "      <td>Why is charging more for puppies from a given ...</td>\n",
       "    </tr>\n",
       "    <tr>\n",
       "      <th>1596</th>\n",
       "      <td>0</td>\n",
       "      <td>ty</td>\n",
       "      <td>n&amp;amp;d vs acana. for a golden retr pup</td>\n",
       "      <td>Funny_Razzmatazz_751</td>\n",
       "      <td>2023-02-19 09:05:54</td>\n",
       "      <td>2</td>\n",
       "      <td>1</td>\n",
       "      <td>39</td>\n",
       "      <td>8</td>\n",
       "      <td>n&amp;amp;d vs acana. for a golden retr pup ty</td>\n",
       "    </tr>\n",
       "    <tr>\n",
       "      <th>145</th>\n",
       "      <td>0</td>\n",
       "      <td>.</td>\n",
       "      <td>Would it be bad to gently wrap up my long-hair...</td>\n",
       "      <td>the-greenest-thumb</td>\n",
       "      <td>2023-02-28 20:20:52</td>\n",
       "      <td>1</td>\n",
       "      <td>1</td>\n",
       "      <td>229</td>\n",
       "      <td>46</td>\n",
       "      <td>Would it be bad to gently wrap up my long-hair...</td>\n",
       "    </tr>\n",
       "  </tbody>\n",
       "</table>\n",
       "</div>"
      ],
      "text/plain": [
       "      subreddit                                               post  \\\n",
       "56            0                                                      \n",
       "743           0  [https://www.thesun.co.uk/news/21445882/twitch...   \n",
       "112           0                                             Title.   \n",
       "1596          0                                                 ty   \n",
       "145           0                                                  .   \n",
       "\n",
       "                                                  title                author  \\\n",
       "56    LPT: Make sure your pets travel in the human s...              wattatam   \n",
       "743   Horror accident - Streamer running over dog (T...         fancy_the_rat   \n",
       "112   Why is charging more for puppies from a given ...              Whisdeer   \n",
       "1596            n&amp;d vs acana. for a golden retr pup  Funny_Razzmatazz_751   \n",
       "145   Would it be bad to gently wrap up my long-hair...    the-greenest-thumb   \n",
       "\n",
       "        utc_datetime_str  post_length  post_word_count  title_length  \\\n",
       "56   2023-03-01 15:46:53            0                0            63   \n",
       "743  2023-02-24 19:27:58          158                1            76   \n",
       "112  2023-03-01 01:19:59            6                1            83   \n",
       "1596 2023-02-19 09:05:54            2                1            39   \n",
       "145  2023-02-28 20:20:52            1                1           229   \n",
       "\n",
       "      title_word_count                                         title_post  \n",
       "56                  13  LPT: Make sure your pets travel in the human s...  \n",
       "743                 10  Horror accident - Streamer running over dog (T...  \n",
       "112                 15  Why is charging more for puppies from a given ...  \n",
       "1596                 8         n&amp;d vs acana. for a golden retr pup ty  \n",
       "145                 46  Would it be bad to gently wrap up my long-hair...  "
      ]
     },
     "execution_count": 14,
     "metadata": {},
     "output_type": "execute_result"
    }
   ],
   "source": [
    "dogs_v_kids.sort_values('post_word_count').head()"
   ]
  },
  {
   "cell_type": "code",
   "execution_count": 15,
   "id": "bc726980-e1bf-4982-8776-e487af9ded7a",
   "metadata": {},
   "outputs": [
    {
     "data": {
      "text/html": [
       "<div>\n",
       "<style scoped>\n",
       "    .dataframe tbody tr th:only-of-type {\n",
       "        vertical-align: middle;\n",
       "    }\n",
       "\n",
       "    .dataframe tbody tr th {\n",
       "        vertical-align: top;\n",
       "    }\n",
       "\n",
       "    .dataframe thead th {\n",
       "        text-align: right;\n",
       "    }\n",
       "</style>\n",
       "<table border=\"1\" class=\"dataframe\">\n",
       "  <thead>\n",
       "    <tr style=\"text-align: right;\">\n",
       "      <th></th>\n",
       "      <th>subreddit</th>\n",
       "      <th>post</th>\n",
       "      <th>title</th>\n",
       "      <th>author</th>\n",
       "      <th>utc_datetime_str</th>\n",
       "      <th>post_length</th>\n",
       "      <th>post_word_count</th>\n",
       "      <th>title_length</th>\n",
       "      <th>title_word_count</th>\n",
       "      <th>title_post</th>\n",
       "    </tr>\n",
       "  </thead>\n",
       "  <tbody>\n",
       "    <tr>\n",
       "      <th>1459</th>\n",
       "      <td>0</td>\n",
       "      <td>Hi everyone! I’ve been thinking for far too lo...</td>\n",
       "      <td>Considering a new dog- Rhodesian Ridgeback?</td>\n",
       "      <td>Crysser812</td>\n",
       "      <td>2023-02-20 02:54:16</td>\n",
       "      <td>15303</td>\n",
       "      <td>2781</td>\n",
       "      <td>43</td>\n",
       "      <td>6</td>\n",
       "      <td>Considering a new dog- Rhodesian Ridgeback? Hi...</td>\n",
       "    </tr>\n",
       "    <tr>\n",
       "      <th>2654</th>\n",
       "      <td>1</td>\n",
       "      <td>&amp;gt;! Prim ajutor bebelusi - Cum prevenim acci...</td>\n",
       "      <td>Prim ajutor bebelusi - Cum prevenim accidentel...</td>\n",
       "      <td>Car-BoyKidland</td>\n",
       "      <td>2023-02-23 07:08:50</td>\n",
       "      <td>15171</td>\n",
       "      <td>2452</td>\n",
       "      <td>70</td>\n",
       "      <td>10</td>\n",
       "      <td>Prim ajutor bebelusi - Cum prevenim accidentel...</td>\n",
       "    </tr>\n",
       "    <tr>\n",
       "      <th>1198</th>\n",
       "      <td>0</td>\n",
       "      <td>\\*\\*Introduction\\*\\*\\n\\n1) Will this be your f...</td>\n",
       "      <td>Grateful for your breed input for family compa...</td>\n",
       "      <td>korzoffthedogspider</td>\n",
       "      <td>2023-02-21 20:04:18</td>\n",
       "      <td>10057</td>\n",
       "      <td>1855</td>\n",
       "      <td>90</td>\n",
       "      <td>14</td>\n",
       "      <td>Grateful for your breed input for family compa...</td>\n",
       "    </tr>\n",
       "    <tr>\n",
       "      <th>1003</th>\n",
       "      <td>0</td>\n",
       "      <td>###**Introduction**\\n\\n1)  Will this be your f...</td>\n",
       "      <td>Would appreciate any outside look over my bree...</td>\n",
       "      <td>lurkielurker</td>\n",
       "      <td>2023-02-23 00:07:04</td>\n",
       "      <td>9220</td>\n",
       "      <td>1686</td>\n",
       "      <td>141</td>\n",
       "      <td>24</td>\n",
       "      <td>Would appreciate any outside look over my bree...</td>\n",
       "    </tr>\n",
       "    <tr>\n",
       "      <th>162</th>\n",
       "      <td>0</td>\n",
       "      <td>\\n\\nI feel like I have firts to explain why. I...</td>\n",
       "      <td>I had to give up my dog for aggression and I’m...</td>\n",
       "      <td>scorefall</td>\n",
       "      <td>2023-02-28 18:11:01</td>\n",
       "      <td>7923</td>\n",
       "      <td>1575</td>\n",
       "      <td>59</td>\n",
       "      <td>13</td>\n",
       "      <td>I had to give up my dog for aggression and I’m...</td>\n",
       "    </tr>\n",
       "  </tbody>\n",
       "</table>\n",
       "</div>"
      ],
      "text/plain": [
       "      subreddit                                               post  \\\n",
       "1459          0  Hi everyone! I’ve been thinking for far too lo...   \n",
       "2654          1  &gt;! Prim ajutor bebelusi - Cum prevenim acci...   \n",
       "1198          0  \\*\\*Introduction\\*\\*\\n\\n1) Will this be your f...   \n",
       "1003          0  ###**Introduction**\\n\\n1)  Will this be your f...   \n",
       "162           0  \\n\\nI feel like I have firts to explain why. I...   \n",
       "\n",
       "                                                  title               author  \\\n",
       "1459        Considering a new dog- Rhodesian Ridgeback?           Crysser812   \n",
       "2654  Prim ajutor bebelusi - Cum prevenim accidentel...       Car-BoyKidland   \n",
       "1198  Grateful for your breed input for family compa...  korzoffthedogspider   \n",
       "1003  Would appreciate any outside look over my bree...         lurkielurker   \n",
       "162   I had to give up my dog for aggression and I’m...            scorefall   \n",
       "\n",
       "        utc_datetime_str  post_length  post_word_count  title_length  \\\n",
       "1459 2023-02-20 02:54:16        15303             2781            43   \n",
       "2654 2023-02-23 07:08:50        15171             2452            70   \n",
       "1198 2023-02-21 20:04:18        10057             1855            90   \n",
       "1003 2023-02-23 00:07:04         9220             1686           141   \n",
       "162  2023-02-28 18:11:01         7923             1575            59   \n",
       "\n",
       "      title_word_count                                         title_post  \n",
       "1459                 6  Considering a new dog- Rhodesian Ridgeback? Hi...  \n",
       "2654                10  Prim ajutor bebelusi - Cum prevenim accidentel...  \n",
       "1198                14  Grateful for your breed input for family compa...  \n",
       "1003                24  Would appreciate any outside look over my bree...  \n",
       "162                 13  I had to give up my dog for aggression and I’m...  "
      ]
     },
     "execution_count": 15,
     "metadata": {},
     "output_type": "execute_result"
    }
   ],
   "source": [
    "dogs_v_kids.sort_values('post_word_count', ascending=False).head()"
   ]
  },
  {
   "cell_type": "markdown",
   "id": "79278ac6-de42-4932-9aae-f6b317ff4764",
   "metadata": {},
   "source": [
    "Distributions of Post and Title length:"
   ]
  },
  {
   "cell_type": "code",
   "execution_count": 16,
   "id": "c3611d8b-79a8-42ab-b993-3a56c824417c",
   "metadata": {},
   "outputs": [
    {
     "data": {
      "image/png": "[encoded data removed]",
      "text/plain": [
       "<Figure size 640x480 with 1 Axes>"
      ]
     },
     "metadata": {},
     "output_type": "display_data"
    }
   ],
   "source": [
    "dogs_v_kids['post_length'].hist(bins=50);"
   ]
  },
  {
   "cell_type": "code",
   "execution_count": 17,
   "id": "d935545d-ec42-4914-8792-45ce9420719a",
   "metadata": {},
   "outputs": [
    {
     "data": {
      "image/png": "[encoded data removed]",
      "text/plain": [
       "<Figure size 640x480 with 1 Axes>"
      ]
     },
     "metadata": {},
     "output_type": "display_data"
    }
   ],
   "source": [
    "dogs_v_kids['post_word_count'].hist(bins=50);"
   ]
  },
  {
   "cell_type": "code",
   "execution_count": 18,
   "id": "2ffb74dc-62ce-4f12-b3df-03b2972518b2",
   "metadata": {},
   "outputs": [
    {
     "data": {
      "image/png": "[encoded data removed]",
      "text/plain": [
       "<Figure size 640x480 with 1 Axes>"
      ]
     },
     "metadata": {},
     "output_type": "display_data"
    }
   ],
   "source": [
    "dogs_v_kids['title_length'].hist(bins=50);"
   ]
  },
  {
   "cell_type": "code",
   "execution_count": 19,
   "id": "0c49a894-5e33-48eb-82e5-c3430ebbdd86",
   "metadata": {},
   "outputs": [
    {
     "data": {
      "image/png": "[encoded data removed]",
      "text/plain": [
       "<Figure size 640x480 with 1 Axes>"
      ]
     },
     "metadata": {},
     "output_type": "display_data"
    }
   ],
   "source": [
    "dogs_v_kids['title_word_count'].hist(bins=50);"
   ]
  },
  {
   "cell_type": "code",
   "execution_count": 20,
   "id": "43a245cb-0cc7-4705-8501-bd4ef309c72f",
   "metadata": {},
   "outputs": [
    {
     "data": {
      "image/png": "[encoded data removed]",
      "text/plain": [
       "<Figure size 576.986x500 with 1 Axes>"
      ]
     },
     "metadata": {},
     "output_type": "display_data"
    }
   ],
   "source": [
    "sns.displot(x=dogs_v_kids['post_length'], hue=dogs_v_kids['subreddit'], kind='kde');"
   ]
  },
  {
   "cell_type": "code",
   "execution_count": 21,
   "id": "a7bed509-3a5e-4c61-88f3-bc2ba53d0180",
   "metadata": {},
   "outputs": [
    {
     "data": {
      "image/png": "[encoded data removed]",
      "text/plain": [
       "<Figure size 576.986x500 with 1 Axes>"
      ]
     },
     "metadata": {},
     "output_type": "display_data"
    }
   ],
   "source": [
    "sns.displot(x=dogs_v_kids['title_length'], hue=dogs_v_kids['subreddit'], kind='kde');"
   ]
  },
  {
   "cell_type": "markdown",
   "id": "45167da0-aa55-4754-89fd-21adc0c10f83",
   "metadata": {},
   "source": [
    "Now I'll use **CountVectorizer** to vectorize the two text variables for the purpose of EDA"
   ]
  },
  {
   "cell_type": "code",
   "execution_count": 22,
   "id": "ae60a42c-6a04-42b2-89d8-56ddad625d21",
   "metadata": {},
   "outputs": [],
   "source": [
    "cvec = CountVectorizer(stop_words='english')\n",
    "vectorized = cvec.fit_transform(dogs_v_kids['title_post'])\n",
    "vdf = pd.DataFrame(vectorized.todense(), columns = cvec.get_feature_names_out())"
   ]
  },
  {
   "cell_type": "code",
   "execution_count": 23,
   "id": "1e29a637-723e-4cd7-bd6c-78981a08af0e",
   "metadata": {},
   "outputs": [
    {
     "data": {
      "text/html": [
       "<div>\n",
       "<style scoped>\n",
       "    .dataframe tbody tr th:only-of-type {\n",
       "        vertical-align: middle;\n",
       "    }\n",
       "\n",
       "    .dataframe tbody tr th {\n",
       "        vertical-align: top;\n",
       "    }\n",
       "\n",
       "    .dataframe thead th {\n",
       "        text-align: right;\n",
       "    }\n",
       "</style>\n",
       "<table border=\"1\" class=\"dataframe\">\n",
       "  <thead>\n",
       "    <tr style=\"text-align: right;\">\n",
       "      <th></th>\n",
       "      <th>00</th>\n",
       "      <th>000</th>\n",
       "      <th>0063215225</th>\n",
       "      <th>00am</th>\n",
       "      <th>01</th>\n",
       "      <th>02</th>\n",
       "      <th>03</th>\n",
       "      <th>04</th>\n",
       "      <th>04am</th>\n",
       "      <th>05</th>\n",
       "      <th>...</th>\n",
       "      <th>παρκο</th>\n",
       "      <th>περιοχη</th>\n",
       "      <th>πολλα</th>\n",
       "      <th>πολλους</th>\n",
       "      <th>πολυ</th>\n",
       "      <th>σε</th>\n",
       "      <th>συμβολισμους</th>\n",
       "      <th>την</th>\n",
       "      <th>τουριστικη</th>\n",
       "      <th>χρονια</th>\n",
       "    </tr>\n",
       "  </thead>\n",
       "  <tbody>\n",
       "    <tr>\n",
       "      <th>0</th>\n",
       "      <td>0</td>\n",
       "      <td>0</td>\n",
       "      <td>0</td>\n",
       "      <td>0</td>\n",
       "      <td>0</td>\n",
       "      <td>0</td>\n",
       "      <td>0</td>\n",
       "      <td>0</td>\n",
       "      <td>0</td>\n",
       "      <td>0</td>\n",
       "      <td>...</td>\n",
       "      <td>0</td>\n",
       "      <td>0</td>\n",
       "      <td>0</td>\n",
       "      <td>0</td>\n",
       "      <td>0</td>\n",
       "      <td>0</td>\n",
       "      <td>0</td>\n",
       "      <td>0</td>\n",
       "      <td>0</td>\n",
       "      <td>0</td>\n",
       "    </tr>\n",
       "    <tr>\n",
       "      <th>1</th>\n",
       "      <td>0</td>\n",
       "      <td>0</td>\n",
       "      <td>0</td>\n",
       "      <td>0</td>\n",
       "      <td>0</td>\n",
       "      <td>0</td>\n",
       "      <td>0</td>\n",
       "      <td>0</td>\n",
       "      <td>0</td>\n",
       "      <td>0</td>\n",
       "      <td>...</td>\n",
       "      <td>0</td>\n",
       "      <td>0</td>\n",
       "      <td>0</td>\n",
       "      <td>0</td>\n",
       "      <td>0</td>\n",
       "      <td>0</td>\n",
       "      <td>0</td>\n",
       "      <td>0</td>\n",
       "      <td>0</td>\n",
       "      <td>0</td>\n",
       "    </tr>\n",
       "    <tr>\n",
       "      <th>2</th>\n",
       "      <td>0</td>\n",
       "      <td>0</td>\n",
       "      <td>0</td>\n",
       "      <td>0</td>\n",
       "      <td>0</td>\n",
       "      <td>0</td>\n",
       "      <td>0</td>\n",
       "      <td>0</td>\n",
       "      <td>0</td>\n",
       "      <td>0</td>\n",
       "      <td>...</td>\n",
       "      <td>0</td>\n",
       "      <td>0</td>\n",
       "      <td>0</td>\n",
       "      <td>0</td>\n",
       "      <td>0</td>\n",
       "      <td>0</td>\n",
       "      <td>0</td>\n",
       "      <td>0</td>\n",
       "      <td>0</td>\n",
       "      <td>0</td>\n",
       "    </tr>\n",
       "    <tr>\n",
       "      <th>3</th>\n",
       "      <td>0</td>\n",
       "      <td>0</td>\n",
       "      <td>0</td>\n",
       "      <td>0</td>\n",
       "      <td>0</td>\n",
       "      <td>0</td>\n",
       "      <td>0</td>\n",
       "      <td>0</td>\n",
       "      <td>0</td>\n",
       "      <td>0</td>\n",
       "      <td>...</td>\n",
       "      <td>0</td>\n",
       "      <td>0</td>\n",
       "      <td>0</td>\n",
       "      <td>0</td>\n",
       "      <td>0</td>\n",
       "      <td>0</td>\n",
       "      <td>0</td>\n",
       "      <td>0</td>\n",
       "      <td>0</td>\n",
       "      <td>0</td>\n",
       "    </tr>\n",
       "    <tr>\n",
       "      <th>4</th>\n",
       "      <td>0</td>\n",
       "      <td>0</td>\n",
       "      <td>0</td>\n",
       "      <td>0</td>\n",
       "      <td>0</td>\n",
       "      <td>0</td>\n",
       "      <td>0</td>\n",
       "      <td>0</td>\n",
       "      <td>0</td>\n",
       "      <td>0</td>\n",
       "      <td>...</td>\n",
       "      <td>0</td>\n",
       "      <td>0</td>\n",
       "      <td>0</td>\n",
       "      <td>0</td>\n",
       "      <td>0</td>\n",
       "      <td>0</td>\n",
       "      <td>0</td>\n",
       "      <td>0</td>\n",
       "      <td>0</td>\n",
       "      <td>0</td>\n",
       "    </tr>\n",
       "  </tbody>\n",
       "</table>\n",
       "<p>5 rows × 18064 columns</p>\n",
       "</div>"
      ],
      "text/plain": [
       "   00  000  0063215225  00am  01  02  03  04  04am  05  ...  παρκο  περιοχη  \\\n",
       "0   0    0           0     0   0   0   0   0     0   0  ...      0        0   \n",
       "1   0    0           0     0   0   0   0   0     0   0  ...      0        0   \n",
       "2   0    0           0     0   0   0   0   0     0   0  ...      0        0   \n",
       "3   0    0           0     0   0   0   0   0     0   0  ...      0        0   \n",
       "4   0    0           0     0   0   0   0   0     0   0  ...      0        0   \n",
       "\n",
       "   πολλα  πολλους  πολυ  σε  συμβολισμους  την  τουριστικη  χρονια  \n",
       "0      0        0     0   0             0    0           0       0  \n",
       "1      0        0     0   0             0    0           0       0  \n",
       "2      0        0     0   0             0    0           0       0  \n",
       "3      0        0     0   0             0    0           0       0  \n",
       "4      0        0     0   0             0    0           0       0  \n",
       "\n",
       "[5 rows x 18064 columns]"
      ]
     },
     "execution_count": 23,
     "metadata": {},
     "output_type": "execute_result"
    }
   ],
   "source": [
    "vdf.head()"
   ]
  },
  {
   "cell_type": "code",
   "execution_count": 32,
   "id": "6f508ac2-24e9-429a-964b-a710740bda0b",
   "metadata": {},
   "outputs": [
    {
     "data": {
      "image/png": "[encoded data removed]",
      "text/plain": [
       "<Figure size 640x480 with 1 Axes>"
      ]
     },
     "metadata": {},
     "output_type": "display_data"
    }
   ],
   "source": [
    "vdf.sum().sort_values(ascending=False).head(15).plot(kind='barh', color='#acbdb0');\n",
    "plt.savefig('../images/most_common_words.png')\n",
    "# Copied w/ minor alterations from lesson 505"
   ]
  },
  {
   "cell_type": "markdown",
   "id": "78c5aab2-73a3-441d-96d5-74fa21caf828",
   "metadata": {},
   "source": [
    "I'm noticing the words 'dog' and 'dogs' in the top 15. I'm torn as to whether or not I should add these to my stop words when it comes time to fit models. On the one hand, it occurs to me that leaving these words in might provide something of a crutch for my model, making the process far too easy in some cases. On the other, not allowing the model to see what would almost certainly be one of the most determinitive words could unnecessarily handicap it in real world applications"
   ]
  },
  {
   "cell_type": "markdown",
   "id": "12c7ddb9-9060-470b-866a-de752fd53a8c",
   "metadata": {},
   "source": [
    "Let's look at top words by each of the subreddits:\n",
    "\n",
    "*Note: I had to change the name of my **'subreddit'** variable in order to bring it into this dataframe, as the word 'subreddit' appears in the text of several posts*"
   ]
  },
  {
   "cell_type": "code",
   "execution_count": 25,
   "id": "564881c4-9034-4de4-9638-d137c71a4804",
   "metadata": {},
   "outputs": [],
   "source": [
    "vdf['y'] = dogs_v_kids['subreddit']"
   ]
  },
  {
   "cell_type": "code",
   "execution_count": 34,
   "id": "19893b70-bbd7-4823-9dd9-1f3d25de10a6",
   "metadata": {},
   "outputs": [
    {
     "data": {
      "image/png": "[encoded data removed]",
      "text/plain": [
       "<Figure size 640x480 with 1 Axes>"
      ]
     },
     "metadata": {},
     "output_type": "display_data"
    }
   ],
   "source": [
    "vdf[vdf['y'] == 0].sum().sort_values(ascending=False).head(15).plot(kind='barh', \n",
    "                                                                    color=['#da9468', '#da9468', '#acbdb0', '#acbdb0', \n",
    "                                                                           '#acbdb0', '#acbdb0', '#acbdb0', '#acbdb0',\n",
    "                                                                           '#acbdb0', '#acbdb0', '#acbdb0', '#da9468',\n",
    "                                                                           '#acbdb0', '#da9468', '#acbdb0']);\n",
    "plt.savefig('../images/most_common_words_rdogs.png')"
   ]
  },
  {
   "cell_type": "code",
   "execution_count": 36,
   "id": "614a6b3b-00d2-4df8-97a6-0e57acf2397f",
   "metadata": {},
   "outputs": [
    {
     "data": {
      "image/png": "[encoded data removed]",
      "text/plain": [
       "<Figure size 640x480 with 1 Axes>"
      ]
     },
     "metadata": {},
     "output_type": "display_data"
    }
   ],
   "source": [
    "vdf.drop(columns='y')[vdf['y'] == 1].sum().sort_values(ascending=False).head(15).plot(kind='barh',\n",
    "                                                                                      color=['#acbdb0', '#acbdb0', '#acbdb0', '#acbdb0',\n",
    "                                                                                             '#acbdb0', '#da9468', '#acbdb0', '#da9468',\n",
    "                                                                                             '#acbdb0', '#acbdb0', '#da9468', '#acbdb0',\n",
    "                                                                                             '#acbdb0', '#acbdb0', '#da9468']);\n",
    "plt.savefig('../images/most_common_words_rparenting.png')"
   ]
  }
 ],
 "metadata": {
  "kernelspec": {
   "display_name": "Python 3 (ipykernel)",
   "language": "python",
   "name": "python3"
  },
  "language_info": {
   "codemirror_mode": {
    "name": "ipython",
    "version": 3
   },
   "file_extension": ".py",
   "mimetype": "text/x-python",
   "name": "python",
   "nbconvert_exporter": "python",
   "pygments_lexer": "ipython3",
   "version": "3.9.13"
  }
 },
 "nbformat": 4,
 "nbformat_minor": 5
}
