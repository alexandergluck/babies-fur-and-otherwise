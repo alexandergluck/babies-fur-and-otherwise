{
 "cells": [
  {
   "cell_type": "markdown",
   "id": "045b9317-72fb-4937-aab8-4a3301a10a7d",
   "metadata": {},
   "source": [
    "# Problem Statement and Data Collection #"
   ]
  },
  {
   "cell_type": "markdown",
   "id": "8ead41ad-d473-4499-be81-6ebc45081447",
   "metadata": {},
   "source": [
    "## Problem Statement ##\n",
    "\n",
    "The marketing mavens at ABC Toy Co. are dealing with a surprising challenge. It turns out that people who have small children (ABC's target demographic), and people who have dogs tend to talk about their... dependents in similar ways. As a result, ABC has wasted a fortune in internet advertising that turned out to be targeted towards people who don't have kids at all. In order to eliminate this wasteful spending, and better target their advertising towards the people most likely to buy their children's products, ABC has commissioned a data scientist to build a machine learning model that can distinguish between those who have actual human children, and those whose babies are of the fur variety.\n",
    "\n",
    "While ABC is concerned about wasteful spending, they still view missing out on reaching potential customers as the greater evil. The ideal model, therefore, will optimize for **sensitivity**, while also taking **accuracy** into consideration."
   ]
  },
  {
   "cell_type": "markdown",
   "id": "579dfb2f-0711-4caa-82b5-777272cfcc7b",
   "metadata": {},
   "source": [
    "### Methodology ###"
   ]
  },
  {
   "cell_type": "markdown",
   "id": "f9a964af-4487-4988-901b-e004b1cf4483",
   "metadata": {},
   "source": [
    "#### Data ####\n",
    "\n",
    "In order to train my models, I'll be looking at posts from two subreddits, one each on children and dogs. Specifically: \n",
    "- r/parenting\n",
    "- r/dogs\n",
    "\n",
    "I chose these two subreddits because their tone is similar, with posts largely concerning practical issues and advice related to the raising and rearing of children and dogs, respectively.\n",
    "\n",
    "By accessing the **pushshift/api**, which is an api for **Reddit** posts and comments, I will assemble a sample dataset of 4000 total posts, 2000 from each subreddit. My final dataset will consist of these posts after culling duplicates.\n",
    "\n",
    "The goal of my models will be to correctly identify which of the two subreddits each post comes from. Specifically, I'm interested in correctly identifying posts from the **r/parenting** subreddit, as those posting to this subreddit are potential customers that my client is interested in reaching."
   ]
  },
  {
   "cell_type": "markdown",
   "id": "261f4c4e-44ab-47a4-8c47-59dc040ce02a",
   "metadata": {},
   "source": [
    "#### Exploratory Data Analysis ####\n",
    "\n",
    "During EDA I'll look into some of the characteristics of my data. Some things I'll look into:\n",
    "- Post length:\n",
    "    - How long is the average post?\n",
    "    - Is there a relationship between post length and which subreddit the post comes from?\n",
    "- Common Words:\n",
    "    - After removing some meaningless words, what are some of the most common words used, both overall and by subreddit?\n",
    "    - How often do words that are obvious differentiators appear?\n",
    "        - *eg. how often does the word 'dog' appear in posts in the **r/dogs** subreddit*\n",
    "        - I'll be looking to build a custom list of **crutch words** out of these common differentiators, for use in my models"
   ]
  },
  {
   "cell_type": "markdown",
   "id": "7da4426d-f07c-4c51-bf53-275b750e7546",
   "metadata": {},
   "source": [
    "#### Modelling ####\n",
    "\n",
    "I'll build four different types of models:\n",
    "\n",
    "1. Logistic Regression\n",
    "2. Random Forest\n",
    "3. Gradient Boost\n",
    "4. Support Vector Machine\n",
    "\n",
    "For each model type I'll build two sets of models:\n",
    "\n",
    "1. The first set will be given the corpus of data with the 'Crutch Words' still included\n",
    "2. The second will be given data with the 'Crutch Words' removed\n",
    "\n",
    "For each model I'll use GridSearch to determine best parameters"
   ]
  },
  {
   "cell_type": "markdown",
   "id": "7f45b3bc-e9cc-458d-b535-634b586e208a",
   "metadata": {},
   "source": [
    "#### Model Analysis ####\n",
    "\n",
    "After I have run all my models, I'll conduct analysis to determine which models performed the best. I'll also take a look at other metrics, such as **feature importances**, to see what further insights I can gain about my data."
   ]
  },
  {
   "cell_type": "markdown",
   "id": "39d4a8a9-f1ae-4486-9910-e92b99dd6080",
   "metadata": {},
   "source": [
    "#### Production Model, Conclusions and Recommendations ####\n",
    "\n",
    "As stated above, I'll select my production model based on the model that is best optimized for **sensitivity**, with some consideration given to **accuracy** as well.\n",
    "\n",
    "I'll then present conclusions, as well as recommendations for moving forward."
   ]
  },
  {
   "cell_type": "markdown",
   "id": "4c2ddc16-e72b-41ca-b990-fbffd7fa0f5b",
   "metadata": {},
   "source": [
    "## Data Collection ##"
   ]
  },
  {
   "cell_type": "code",
   "execution_count": 1,
   "id": "93fb2887-bde3-4a95-8d0a-a483dc90e485",
   "metadata": {},
   "outputs": [],
   "source": [
    "import pandas as pd\n",
    "import requests"
   ]
  },
  {
   "cell_type": "code",
   "execution_count": 2,
   "id": "23e8c397-72fa-4462-8795-c72a9caa95fe",
   "metadata": {},
   "outputs": [],
   "source": [
    "base_url = 'https://api.pushshift.io/reddit/search/submission?'\n",
    "r_dogs = 'subreddit=dogs'\n",
    "r_parenting = 'subreddit=parenting'\n",
    "size = 500"
   ]
  },
  {
   "cell_type": "code",
   "execution_count": 3,
   "id": "f4a43151-0aa9-43a5-a8fe-8fbda097ccfa",
   "metadata": {},
   "outputs": [
    {
     "data": {
      "text/plain": [
       "200"
      ]
     },
     "execution_count": 3,
     "metadata": {},
     "output_type": "execute_result"
    }
   ],
   "source": [
    "res = requests.get(f'{base_url}{r_dogs}&size={size}')\n",
    "res.status_code\n",
    "# Utilized https://github.com/pushshift/api and lesson 503 for help with API requests"
   ]
  },
  {
   "cell_type": "code",
   "execution_count": 4,
   "id": "2e099944-bf70-46cd-8461-573e3091fb47",
   "metadata": {},
   "outputs": [
    {
     "data": {
      "text/plain": [
       "dict_keys(['data', 'error', 'metadata'])"
      ]
     },
     "execution_count": 4,
     "metadata": {},
     "output_type": "execute_result"
    }
   ],
   "source": [
    "data = res.json()\n",
    "data.keys()"
   ]
  },
  {
   "cell_type": "markdown",
   "id": "a8d1442b-5ef4-499c-8b90-7ae02ca648ad",
   "metadata": {},
   "source": [
    "It looks like I'll have to go one level further into the data to get the actual entries, likely under the 'data' key.\n",
    "\n",
    "Let's look at the first entry:"
   ]
  },
  {
   "cell_type": "code",
   "execution_count": 5,
   "id": "3747cf1b-5885-4a3b-8384-c18208f80843",
   "metadata": {
    "scrolled": true,
    "tags": []
   },
   "outputs": [
    {
     "data": {
      "text/plain": [
       "{'subreddit': 'dogs',\n",
       " 'selftext': 'We have a 1 year old maltese shihtzu, we have done the bare minimum of meeting on lead, as we have tried to aim for ignoring and being neutral around dogs ..\\nI feel we have got to a goood point where he can ignore dogs etc… I’m just wondering how do we go about on lead meetings. \\nLet’s Say we have let him meet 8 dogs on lead, there has been 3 times, he has kind of  air snapped towards the other dog.. \\nwhat is the reasons behind this? Should I just not let him greet other dogs? How can I help him greet nicely ? \\n\\nAny advice, information would be appreciated 😀\\n\\nWe are starting group classes on the weekend to help with socialization and general obedience….',\n",
       " 'author_fullname': 't2_hpma2uhc',\n",
       " 'gilded': 0,\n",
       " 'title': 'On lead greetings',\n",
       " 'link_flair_richtext': [{'e': 'text', 't': '[Misc Help]'}],\n",
       " 'subreddit_name_prefixed': 'r/dogs',\n",
       " 'hidden': False,\n",
       " 'pwls': 6,\n",
       " 'link_flair_css_class': 'help',\n",
       " 'thumbnail_height': None,\n",
       " 'top_awarded_type': None,\n",
       " 'hide_score': True,\n",
       " 'quarantine': False,\n",
       " 'link_flair_text_color': 'light',\n",
       " 'upvote_ratio': 1.0,\n",
       " 'author_flair_background_color': None,\n",
       " 'subreddit_type': 'public',\n",
       " 'total_awards_received': 0,\n",
       " 'media_embed': {},\n",
       " 'thumbnail_width': None,\n",
       " 'author_flair_template_id': None,\n",
       " 'is_original_content': False,\n",
       " 'secure_media': None,\n",
       " 'is_reddit_media_domain': False,\n",
       " 'is_meta': False,\n",
       " 'category': None,\n",
       " 'secure_media_embed': {},\n",
       " 'link_flair_text': '[Misc Help]',\n",
       " 'score': 1,\n",
       " 'is_created_from_ads_ui': False,\n",
       " 'author_premium': False,\n",
       " 'thumbnail': 'self',\n",
       " 'edited': False,\n",
       " 'author_flair_css_class': None,\n",
       " 'author_flair_richtext': [],\n",
       " 'gildings': {},\n",
       " 'content_categories': None,\n",
       " 'is_self': True,\n",
       " 'link_flair_type': 'richtext',\n",
       " 'wls': 6,\n",
       " 'removed_by_category': None,\n",
       " 'author_flair_type': 'text',\n",
       " 'domain': 'self.dogs',\n",
       " 'allow_live_comments': False,\n",
       " 'suggested_sort': None,\n",
       " 'view_count': None,\n",
       " 'archived': False,\n",
       " 'no_follow': True,\n",
       " 'is_crosspostable': True,\n",
       " 'pinned': False,\n",
       " 'over_18': False,\n",
       " 'all_awardings': [],\n",
       " 'awarders': [],\n",
       " 'media_only': False,\n",
       " 'link_flair_template_id': '023c4da8-1baf-11e6-a4b9-0eecc761c039',\n",
       " 'can_gild': True,\n",
       " 'spoiler': False,\n",
       " 'locked': False,\n",
       " 'author_flair_text': None,\n",
       " 'treatment_tags': [],\n",
       " 'removed_by': None,\n",
       " 'distinguished': None,\n",
       " 'subreddit_id': 't5_2qhhk',\n",
       " 'link_flair_background_color': '#0aa18f',\n",
       " 'id': '11fn0fo',\n",
       " 'is_robot_indexable': True,\n",
       " 'author': 'M3409',\n",
       " 'discussion_type': None,\n",
       " 'num_comments': 1,\n",
       " 'send_replies': True,\n",
       " 'whitelist_status': 'all_ads',\n",
       " 'contest_mode': False,\n",
       " 'author_patreon_flair': False,\n",
       " 'author_flair_text_color': None,\n",
       " 'permalink': '/r/dogs/comments/11fn0fo/on_lead_greetings/',\n",
       " 'parent_whitelist_status': 'all_ads',\n",
       " 'stickied': False,\n",
       " 'url': 'https://www.reddit.com/r/dogs/comments/11fn0fo/on_lead_greetings/',\n",
       " 'subreddit_subscribers': 2495253,\n",
       " 'created_utc': 1677716171,\n",
       " 'num_crossposts': 0,\n",
       " 'media': None,\n",
       " 'is_video': False,\n",
       " 'retrieved_utc': 1677716189,\n",
       " 'updated_utc': 1677716190,\n",
       " 'utc_datetime_str': '2023-03-02 00:16:11'}"
      ]
     },
     "execution_count": 5,
     "metadata": {},
     "output_type": "execute_result"
    }
   ],
   "source": [
    "data['data'][0]"
   ]
  },
  {
   "cell_type": "markdown",
   "id": "2949ce10-6418-4ff0-b9de-79ff2f2a0bc8",
   "metadata": {},
   "source": [
    "I have successfully located the data I want. Next I'll convert it to a dataframe:"
   ]
  },
  {
   "cell_type": "code",
   "execution_count": 6,
   "id": "4ea7258b-c549-4eda-9ed1-6868fb50685b",
   "metadata": {},
   "outputs": [
    {
     "data": {
      "text/html": [
       "<div>\n",
       "<style scoped>\n",
       "    .dataframe tbody tr th:only-of-type {\n",
       "        vertical-align: middle;\n",
       "    }\n",
       "\n",
       "    .dataframe tbody tr th {\n",
       "        vertical-align: top;\n",
       "    }\n",
       "\n",
       "    .dataframe thead th {\n",
       "        text-align: right;\n",
       "    }\n",
       "</style>\n",
       "<table border=\"1\" class=\"dataframe\">\n",
       "  <thead>\n",
       "    <tr style=\"text-align: right;\">\n",
       "      <th></th>\n",
       "      <th>subreddit</th>\n",
       "      <th>selftext</th>\n",
       "      <th>author_fullname</th>\n",
       "      <th>gilded</th>\n",
       "      <th>title</th>\n",
       "      <th>link_flair_richtext</th>\n",
       "      <th>subreddit_name_prefixed</th>\n",
       "      <th>hidden</th>\n",
       "      <th>pwls</th>\n",
       "      <th>link_flair_css_class</th>\n",
       "      <th>...</th>\n",
       "      <th>retrieved_utc</th>\n",
       "      <th>updated_utc</th>\n",
       "      <th>utc_datetime_str</th>\n",
       "      <th>post_hint</th>\n",
       "      <th>preview</th>\n",
       "      <th>crosspost_parent_list</th>\n",
       "      <th>url_overridden_by_dest</th>\n",
       "      <th>crosspost_parent</th>\n",
       "      <th>edited_on</th>\n",
       "      <th>author_cakeday</th>\n",
       "    </tr>\n",
       "  </thead>\n",
       "  <tbody>\n",
       "    <tr>\n",
       "      <th>0</th>\n",
       "      <td>dogs</td>\n",
       "      <td>We have a 1 year old maltese shihtzu, we have ...</td>\n",
       "      <td>t2_hpma2uhc</td>\n",
       "      <td>0</td>\n",
       "      <td>On lead greetings</td>\n",
       "      <td>[{'e': 'text', 't': '[Misc Help]'}]</td>\n",
       "      <td>r/dogs</td>\n",
       "      <td>False</td>\n",
       "      <td>6</td>\n",
       "      <td>help</td>\n",
       "      <td>...</td>\n",
       "      <td>1677716189</td>\n",
       "      <td>1677716190</td>\n",
       "      <td>2023-03-02 00:16:11</td>\n",
       "      <td>NaN</td>\n",
       "      <td>NaN</td>\n",
       "      <td>NaN</td>\n",
       "      <td>NaN</td>\n",
       "      <td>NaN</td>\n",
       "      <td>NaN</td>\n",
       "      <td>NaN</td>\n",
       "    </tr>\n",
       "    <tr>\n",
       "      <th>1</th>\n",
       "      <td>dogs</td>\n",
       "      <td>Color, pile thickness, pattern?\\n\\nI have a mi...</td>\n",
       "      <td>t2_3taem</td>\n",
       "      <td>0</td>\n",
       "      <td>Home carpet recommendations?</td>\n",
       "      <td>[{'e': 'text', 't': '[Misc Help]'}]</td>\n",
       "      <td>r/dogs</td>\n",
       "      <td>False</td>\n",
       "      <td>6</td>\n",
       "      <td>help</td>\n",
       "      <td>...</td>\n",
       "      <td>1677716137</td>\n",
       "      <td>1677716138</td>\n",
       "      <td>2023-03-02 00:15:20</td>\n",
       "      <td>NaN</td>\n",
       "      <td>NaN</td>\n",
       "      <td>NaN</td>\n",
       "      <td>NaN</td>\n",
       "      <td>NaN</td>\n",
       "      <td>NaN</td>\n",
       "      <td>NaN</td>\n",
       "    </tr>\n",
       "    <tr>\n",
       "      <th>2</th>\n",
       "      <td>dogs</td>\n",
       "      <td>Hello, Noah is a white german shepherd, he has...</td>\n",
       "      <td>t2_3w8o4mpt</td>\n",
       "      <td>0</td>\n",
       "      <td>Dog epilepsy</td>\n",
       "      <td>[{'e': 'text', 't': '[Health]'}]</td>\n",
       "      <td>r/dogs</td>\n",
       "      <td>False</td>\n",
       "      <td>6</td>\n",
       "      <td></td>\n",
       "      <td>...</td>\n",
       "      <td>1677716070</td>\n",
       "      <td>1677716070</td>\n",
       "      <td>2023-03-02 00:14:14</td>\n",
       "      <td>NaN</td>\n",
       "      <td>NaN</td>\n",
       "      <td>NaN</td>\n",
       "      <td>NaN</td>\n",
       "      <td>NaN</td>\n",
       "      <td>NaN</td>\n",
       "      <td>NaN</td>\n",
       "    </tr>\n",
       "    <tr>\n",
       "      <th>3</th>\n",
       "      <td>dogs</td>\n",
       "      <td>So I’ve moved in to my aunts house and she own...</td>\n",
       "      <td>t2_7xddgy2c</td>\n",
       "      <td>0</td>\n",
       "      <td>Advice needed</td>\n",
       "      <td>[{'e': 'text', 't': '[Discussion]'}]</td>\n",
       "      <td>r/dogs</td>\n",
       "      <td>False</td>\n",
       "      <td>6</td>\n",
       "      <td>discussion</td>\n",
       "      <td>...</td>\n",
       "      <td>1677715950</td>\n",
       "      <td>1677715951</td>\n",
       "      <td>2023-03-02 00:12:16</td>\n",
       "      <td>NaN</td>\n",
       "      <td>NaN</td>\n",
       "      <td>NaN</td>\n",
       "      <td>NaN</td>\n",
       "      <td>NaN</td>\n",
       "      <td>NaN</td>\n",
       "      <td>NaN</td>\n",
       "    </tr>\n",
       "    <tr>\n",
       "      <th>4</th>\n",
       "      <td>dogs</td>\n",
       "      <td>This is an app that could be useful to find a...</td>\n",
       "      <td>t2_15qg9q</td>\n",
       "      <td>0</td>\n",
       "      <td>Mappet is an app for dogs lovers</td>\n",
       "      <td>[{'e': 'text', 't': '[Breeds] 📝Recommendation'}]</td>\n",
       "      <td>r/dogs</td>\n",
       "      <td>False</td>\n",
       "      <td>6</td>\n",
       "      <td>breeds</td>\n",
       "      <td>...</td>\n",
       "      <td>1677715532</td>\n",
       "      <td>1677715533</td>\n",
       "      <td>2023-03-02 00:05:20</td>\n",
       "      <td>self</td>\n",
       "      <td>{'images': [{'source': {'url': 'https://extern...</td>\n",
       "      <td>NaN</td>\n",
       "      <td>NaN</td>\n",
       "      <td>NaN</td>\n",
       "      <td>NaN</td>\n",
       "      <td>NaN</td>\n",
       "    </tr>\n",
       "  </tbody>\n",
       "</table>\n",
       "<p>5 rows × 94 columns</p>\n",
       "</div>"
      ],
      "text/plain": [
       "  subreddit                                           selftext  \\\n",
       "0      dogs  We have a 1 year old maltese shihtzu, we have ...   \n",
       "1      dogs  Color, pile thickness, pattern?\\n\\nI have a mi...   \n",
       "2      dogs  Hello, Noah is a white german shepherd, he has...   \n",
       "3      dogs  So I’ve moved in to my aunts house and she own...   \n",
       "4      dogs   This is an app that could be useful to find a...   \n",
       "\n",
       "  author_fullname  gilded                             title  \\\n",
       "0     t2_hpma2uhc       0                 On lead greetings   \n",
       "1        t2_3taem       0      Home carpet recommendations?   \n",
       "2     t2_3w8o4mpt       0                      Dog epilepsy   \n",
       "3     t2_7xddgy2c       0                     Advice needed   \n",
       "4       t2_15qg9q       0  Mappet is an app for dogs lovers   \n",
       "\n",
       "                                link_flair_richtext subreddit_name_prefixed  \\\n",
       "0               [{'e': 'text', 't': '[Misc Help]'}]                  r/dogs   \n",
       "1               [{'e': 'text', 't': '[Misc Help]'}]                  r/dogs   \n",
       "2                  [{'e': 'text', 't': '[Health]'}]                  r/dogs   \n",
       "3              [{'e': 'text', 't': '[Discussion]'}]                  r/dogs   \n",
       "4  [{'e': 'text', 't': '[Breeds] 📝Recommendation'}]                  r/dogs   \n",
       "\n",
       "   hidden  pwls link_flair_css_class  ... retrieved_utc updated_utc  \\\n",
       "0   False     6                 help  ...    1677716189  1677716190   \n",
       "1   False     6                 help  ...    1677716137  1677716138   \n",
       "2   False     6                       ...    1677716070  1677716070   \n",
       "3   False     6           discussion  ...    1677715950  1677715951   \n",
       "4   False     6               breeds  ...    1677715532  1677715533   \n",
       "\n",
       "      utc_datetime_str  post_hint  \\\n",
       "0  2023-03-02 00:16:11        NaN   \n",
       "1  2023-03-02 00:15:20        NaN   \n",
       "2  2023-03-02 00:14:14        NaN   \n",
       "3  2023-03-02 00:12:16        NaN   \n",
       "4  2023-03-02 00:05:20       self   \n",
       "\n",
       "                                             preview  crosspost_parent_list  \\\n",
       "0                                                NaN                    NaN   \n",
       "1                                                NaN                    NaN   \n",
       "2                                                NaN                    NaN   \n",
       "3                                                NaN                    NaN   \n",
       "4  {'images': [{'source': {'url': 'https://extern...                    NaN   \n",
       "\n",
       "  url_overridden_by_dest crosspost_parent  edited_on author_cakeday  \n",
       "0                    NaN              NaN        NaN            NaN  \n",
       "1                    NaN              NaN        NaN            NaN  \n",
       "2                    NaN              NaN        NaN            NaN  \n",
       "3                    NaN              NaN        NaN            NaN  \n",
       "4                    NaN              NaN        NaN            NaN  \n",
       "\n",
       "[5 rows x 94 columns]"
      ]
     },
     "execution_count": 6,
     "metadata": {},
     "output_type": "execute_result"
    }
   ],
   "source": [
    "dogs = pd.DataFrame(data['data'])\n",
    "dogs.head()"
   ]
  },
  {
   "cell_type": "code",
   "execution_count": 7,
   "id": "7a52ef9d-f575-48cb-a72a-fcf1e64b2bfe",
   "metadata": {},
   "outputs": [
    {
     "data": {
      "text/plain": [
       "(500, 94)"
      ]
     },
     "execution_count": 7,
     "metadata": {},
     "output_type": "execute_result"
    }
   ],
   "source": [
    "dogs.shape"
   ]
  },
  {
   "cell_type": "markdown",
   "id": "7b2f7a78-0ff9-4ab2-9599-f53d510b9767",
   "metadata": {},
   "source": [
    "For subsequent requests, I need to ensure that I will not be pulling duplicate data. The **pushshift/api** has a parameter that I can use for this purpose. The **'before'** parameter takes a 'utc' datetime, and returns only entries that were posted before that datetime. I can take the earliest datetime from my first request, and set it as the **'before'** parameter for my second, and so on. In that way, there will be no overlap in the timespan of the posts captured in each request"
   ]
  },
  {
   "cell_type": "code",
   "execution_count": 8,
   "id": "092685c9-4407-4b08-b8cc-01e45c94cce0",
   "metadata": {},
   "outputs": [],
   "source": [
    "utc = dogs['created_utc'].min()\n",
    "\n",
    "for _ in range(3):\n",
    "    res = requests.get(f'{base_url}{r_dogs}&size={size}&before={utc}')\n",
    "    dogs = pd.concat(objs = [dogs, pd.DataFrame(res.json()['data'])])\n",
    "    utc = dogs['created_utc'].min()"
   ]
  },
  {
   "cell_type": "code",
   "execution_count": 9,
   "id": "b4dfb25f-579c-47a8-8b3a-ff67894ad513",
   "metadata": {},
   "outputs": [
    {
     "data": {
      "text/plain": [
       "(2000, 94)"
      ]
     },
     "execution_count": 9,
     "metadata": {},
     "output_type": "execute_result"
    }
   ],
   "source": [
    "dogs.shape"
   ]
  },
  {
   "cell_type": "code",
   "execution_count": 10,
   "id": "f787d8f7-b1c3-4299-b8c0-cccb04e9691d",
   "metadata": {},
   "outputs": [
    {
     "data": {
      "text/plain": [
       "1676821862    2\n",
       "1676762853    2\n",
       "1677716171    1\n",
       "1677024664    1\n",
       "1677020592    1\n",
       "             ..\n",
       "1677361920    1\n",
       "1677363606    1\n",
       "1677363879    1\n",
       "1677363888    1\n",
       "1676688620    1\n",
       "Name: created_utc, Length: 1998, dtype: int64"
      ]
     },
     "execution_count": 10,
     "metadata": {},
     "output_type": "execute_result"
    }
   ],
   "source": [
    "dogs['created_utc'].value_counts()"
   ]
  },
  {
   "cell_type": "markdown",
   "id": "757803b2-9a23-4792-a607-4fa338008b88",
   "metadata": {},
   "source": [
    "Now I'll do the same for posts from the **r/parenting** subreddit:"
   ]
  },
  {
   "cell_type": "code",
   "execution_count": 11,
   "id": "57d69448-c699-473d-9ea6-e6fc58634716",
   "metadata": {},
   "outputs": [
    {
     "data": {
      "text/html": [
       "<div>\n",
       "<style scoped>\n",
       "    .dataframe tbody tr th:only-of-type {\n",
       "        vertical-align: middle;\n",
       "    }\n",
       "\n",
       "    .dataframe tbody tr th {\n",
       "        vertical-align: top;\n",
       "    }\n",
       "\n",
       "    .dataframe thead th {\n",
       "        text-align: right;\n",
       "    }\n",
       "</style>\n",
       "<table border=\"1\" class=\"dataframe\">\n",
       "  <thead>\n",
       "    <tr style=\"text-align: right;\">\n",
       "      <th></th>\n",
       "      <th>subreddit</th>\n",
       "      <th>selftext</th>\n",
       "      <th>author_fullname</th>\n",
       "      <th>gilded</th>\n",
       "      <th>title</th>\n",
       "      <th>link_flair_richtext</th>\n",
       "      <th>subreddit_name_prefixed</th>\n",
       "      <th>hidden</th>\n",
       "      <th>pwls</th>\n",
       "      <th>link_flair_css_class</th>\n",
       "      <th>...</th>\n",
       "      <th>num_crossposts</th>\n",
       "      <th>media</th>\n",
       "      <th>is_video</th>\n",
       "      <th>retrieved_utc</th>\n",
       "      <th>updated_utc</th>\n",
       "      <th>utc_datetime_str</th>\n",
       "      <th>post_hint</th>\n",
       "      <th>preview</th>\n",
       "      <th>edited_on</th>\n",
       "      <th>author_cakeday</th>\n",
       "    </tr>\n",
       "  </thead>\n",
       "  <tbody>\n",
       "    <tr>\n",
       "      <th>0</th>\n",
       "      <td>Parenting</td>\n",
       "      <td>Has anyone found a way to help their child man...</td>\n",
       "      <td>t2_c3vi6x5j</td>\n",
       "      <td>0</td>\n",
       "      <td>Perfectionism in 6 year old</td>\n",
       "      <td>[{'e': 'text', 't': 'Child 4-9 Years'}]</td>\n",
       "      <td>r/Parenting</td>\n",
       "      <td>False</td>\n",
       "      <td>6</td>\n",
       "      <td>child</td>\n",
       "      <td>...</td>\n",
       "      <td>0</td>\n",
       "      <td>None</td>\n",
       "      <td>False</td>\n",
       "      <td>1677715022</td>\n",
       "      <td>1677715023</td>\n",
       "      <td>2023-03-01 23:56:49</td>\n",
       "      <td>NaN</td>\n",
       "      <td>NaN</td>\n",
       "      <td>NaN</td>\n",
       "      <td>NaN</td>\n",
       "    </tr>\n",
       "    <tr>\n",
       "      <th>1</th>\n",
       "      <td>Parenting</td>\n",
       "      <td>My 8 year old regularly FaceTimes with four fr...</td>\n",
       "      <td>t2_dopol9qi</td>\n",
       "      <td>0</td>\n",
       "      <td>My 8 year old has put me in an uncomfortable p...</td>\n",
       "      <td>[{'e': 'text', 't': 'Child 4-9 Years'}]</td>\n",
       "      <td>r/Parenting</td>\n",
       "      <td>False</td>\n",
       "      <td>6</td>\n",
       "      <td>child</td>\n",
       "      <td>...</td>\n",
       "      <td>0</td>\n",
       "      <td>None</td>\n",
       "      <td>False</td>\n",
       "      <td>1677715022</td>\n",
       "      <td>1677715023</td>\n",
       "      <td>2023-03-01 23:56:48</td>\n",
       "      <td>NaN</td>\n",
       "      <td>NaN</td>\n",
       "      <td>NaN</td>\n",
       "      <td>NaN</td>\n",
       "    </tr>\n",
       "    <tr>\n",
       "      <th>2</th>\n",
       "      <td>Parenting</td>\n",
       "      <td>I love my kid. I’m more than him jumping aroun...</td>\n",
       "      <td>t2_4907o7c</td>\n",
       "      <td>0</td>\n",
       "      <td>Bathtub cracking/falling through ceiling becau...</td>\n",
       "      <td>[{'e': 'text', 't': 'Child 4-9 Years'}]</td>\n",
       "      <td>r/Parenting</td>\n",
       "      <td>False</td>\n",
       "      <td>6</td>\n",
       "      <td>child</td>\n",
       "      <td>...</td>\n",
       "      <td>0</td>\n",
       "      <td>None</td>\n",
       "      <td>False</td>\n",
       "      <td>1677714979</td>\n",
       "      <td>1677714980</td>\n",
       "      <td>2023-03-01 23:56:03</td>\n",
       "      <td>NaN</td>\n",
       "      <td>NaN</td>\n",
       "      <td>NaN</td>\n",
       "      <td>NaN</td>\n",
       "    </tr>\n",
       "    <tr>\n",
       "      <th>3</th>\n",
       "      <td>Parenting</td>\n",
       "      <td>My 5 yr old never wants to come home, she thro...</td>\n",
       "      <td>t2_4ms79k23</td>\n",
       "      <td>0</td>\n",
       "      <td>I need advice on my 5yr old</td>\n",
       "      <td>[{'e': 'text', 't': 'Child 4-9 Years'}]</td>\n",
       "      <td>r/Parenting</td>\n",
       "      <td>False</td>\n",
       "      <td>6</td>\n",
       "      <td>child</td>\n",
       "      <td>...</td>\n",
       "      <td>0</td>\n",
       "      <td>None</td>\n",
       "      <td>False</td>\n",
       "      <td>1677714429</td>\n",
       "      <td>1677714430</td>\n",
       "      <td>2023-03-01 23:46:56</td>\n",
       "      <td>NaN</td>\n",
       "      <td>NaN</td>\n",
       "      <td>NaN</td>\n",
       "      <td>NaN</td>\n",
       "    </tr>\n",
       "    <tr>\n",
       "      <th>4</th>\n",
       "      <td>Parenting</td>\n",
       "      <td>My toddler is too big for 5t clothes now - mos...</td>\n",
       "      <td>t2_7od5uzkz</td>\n",
       "      <td>0</td>\n",
       "      <td>what comes after 5t - why is sizing so confusing</td>\n",
       "      <td>[{'e': 'text', 't': 'Child 4-9 Years'}]</td>\n",
       "      <td>r/Parenting</td>\n",
       "      <td>False</td>\n",
       "      <td>6</td>\n",
       "      <td>child</td>\n",
       "      <td>...</td>\n",
       "      <td>0</td>\n",
       "      <td>None</td>\n",
       "      <td>False</td>\n",
       "      <td>1677714001</td>\n",
       "      <td>1677714001</td>\n",
       "      <td>2023-03-01 23:39:47</td>\n",
       "      <td>NaN</td>\n",
       "      <td>NaN</td>\n",
       "      <td>NaN</td>\n",
       "      <td>NaN</td>\n",
       "    </tr>\n",
       "  </tbody>\n",
       "</table>\n",
       "<p>5 rows × 91 columns</p>\n",
       "</div>"
      ],
      "text/plain": [
       "   subreddit                                           selftext  \\\n",
       "0  Parenting  Has anyone found a way to help their child man...   \n",
       "1  Parenting  My 8 year old regularly FaceTimes with four fr...   \n",
       "2  Parenting  I love my kid. I’m more than him jumping aroun...   \n",
       "3  Parenting  My 5 yr old never wants to come home, she thro...   \n",
       "4  Parenting  My toddler is too big for 5t clothes now - mos...   \n",
       "\n",
       "  author_fullname  gilded                                              title  \\\n",
       "0     t2_c3vi6x5j       0                        Perfectionism in 6 year old   \n",
       "1     t2_dopol9qi       0  My 8 year old has put me in an uncomfortable p...   \n",
       "2      t2_4907o7c       0  Bathtub cracking/falling through ceiling becau...   \n",
       "3     t2_4ms79k23       0                        I need advice on my 5yr old   \n",
       "4     t2_7od5uzkz       0   what comes after 5t - why is sizing so confusing   \n",
       "\n",
       "                       link_flair_richtext subreddit_name_prefixed  hidden  \\\n",
       "0  [{'e': 'text', 't': 'Child 4-9 Years'}]             r/Parenting   False   \n",
       "1  [{'e': 'text', 't': 'Child 4-9 Years'}]             r/Parenting   False   \n",
       "2  [{'e': 'text', 't': 'Child 4-9 Years'}]             r/Parenting   False   \n",
       "3  [{'e': 'text', 't': 'Child 4-9 Years'}]             r/Parenting   False   \n",
       "4  [{'e': 'text', 't': 'Child 4-9 Years'}]             r/Parenting   False   \n",
       "\n",
       "   pwls link_flair_css_class  ... num_crossposts media  is_video  \\\n",
       "0     6                child  ...              0  None     False   \n",
       "1     6                child  ...              0  None     False   \n",
       "2     6                child  ...              0  None     False   \n",
       "3     6                child  ...              0  None     False   \n",
       "4     6                child  ...              0  None     False   \n",
       "\n",
       "   retrieved_utc updated_utc     utc_datetime_str post_hint preview  \\\n",
       "0     1677715022  1677715023  2023-03-01 23:56:49       NaN     NaN   \n",
       "1     1677715022  1677715023  2023-03-01 23:56:48       NaN     NaN   \n",
       "2     1677714979  1677714980  2023-03-01 23:56:03       NaN     NaN   \n",
       "3     1677714429  1677714430  2023-03-01 23:46:56       NaN     NaN   \n",
       "4     1677714001  1677714001  2023-03-01 23:39:47       NaN     NaN   \n",
       "\n",
       "   edited_on author_cakeday  \n",
       "0        NaN            NaN  \n",
       "1        NaN            NaN  \n",
       "2        NaN            NaN  \n",
       "3        NaN            NaN  \n",
       "4        NaN            NaN  \n",
       "\n",
       "[5 rows x 91 columns]"
      ]
     },
     "execution_count": 11,
     "metadata": {},
     "output_type": "execute_result"
    }
   ],
   "source": [
    "res = requests.get(f'{base_url}{r_parenting}&size={size}')\n",
    "kids = pd.DataFrame(res.json()['data'])\n",
    "kids.head()"
   ]
  },
  {
   "cell_type": "code",
   "execution_count": 12,
   "id": "4d809731-c8e5-4576-ba8e-e5956f0a50da",
   "metadata": {},
   "outputs": [
    {
     "data": {
      "text/plain": [
       "(2000, 91)"
      ]
     },
     "execution_count": 12,
     "metadata": {},
     "output_type": "execute_result"
    }
   ],
   "source": [
    "utc = kids['retrieved_utc'].min()\n",
    "\n",
    "for _ in range(3):\n",
    "    res = requests.get(f'{base_url}{r_parenting}&size={size}&before={utc}')\n",
    "    kids = pd.concat(objs = [kids, pd.DataFrame(res.json()['data'])])\n",
    "    utc = kids['created_utc'].min()\n",
    "    \n",
    "kids.shape"
   ]
  },
  {
   "cell_type": "markdown",
   "id": "ec0af92c-b6c1-4a5a-936b-dee793bf80ad",
   "metadata": {},
   "source": [
    "Now that I have all of my data, I'll combine it into a single dataframe:"
   ]
  },
  {
   "cell_type": "code",
   "execution_count": 13,
   "id": "ddb89fb3-edbd-43fc-9fb8-e90c05baf0a0",
   "metadata": {},
   "outputs": [
    {
     "data": {
      "text/plain": [
       "(4000, 94)"
      ]
     },
     "execution_count": 13,
     "metadata": {},
     "output_type": "execute_result"
    }
   ],
   "source": [
    "dogs_v_kids = pd.concat(objs = [dogs, kids])\n",
    "dogs_v_kids.shape"
   ]
  },
  {
   "cell_type": "markdown",
   "id": "af87c138-bba6-461a-aef0-2100aeb14b12",
   "metadata": {},
   "source": [
    "When I constructed my requests, I made sure that I was not pulling any duplicate data using the **'before'** parameter. Items do get reposted, however, so there may still be duplicates. There may even be posts that are cross-posted in both subreddits\n",
    "\n",
    "I'll check for duplicates on the **'selftext'** variable. I could use **'title'**, but I'm more concerned about false duplicates there, as I can envision a scenario where two posts with different content could have the same title"
   ]
  },
  {
   "cell_type": "code",
   "execution_count": 14,
   "id": "80127713-e953-4f4b-9a69-15c17c2c6733",
   "metadata": {},
   "outputs": [
    {
     "data": {
      "text/plain": [
       "False    3326\n",
       "True      674\n",
       "Name: selftext, dtype: int64"
      ]
     },
     "execution_count": 14,
     "metadata": {},
     "output_type": "execute_result"
    }
   ],
   "source": [
    "dogs_v_kids['selftext'].duplicated().value_counts()"
   ]
  },
  {
   "cell_type": "markdown",
   "id": "fae023f7-a68a-4b4f-b391-5c9930c30008",
   "metadata": {},
   "source": [
    "It looks like there are a number of duplicates. I really only want unique posts, so I will drop the duplicate posts, keeping one copy of each"
   ]
  },
  {
   "cell_type": "code",
   "execution_count": 18,
   "id": "6c59a213-8232-4159-82a9-30cac204b6e2",
   "metadata": {},
   "outputs": [],
   "source": [
    "dogs_v_kids.drop_duplicates(subset = 'selftext', keep = 'first', inplace=True)\n",
    "# Help with .duplicated() and .drop_duplicates() methods from https://pandas.pydata.org/docs/reference/api/pandas.DataFrame.drop_duplicates.html"
   ]
  },
  {
   "cell_type": "code",
   "execution_count": 19,
   "id": "70159aaa-4435-4f59-a9d5-322b541955c0",
   "metadata": {},
   "outputs": [
    {
     "data": {
      "text/plain": [
       "dogs         1761\n",
       "Parenting    1565\n",
       "Name: subreddit, dtype: int64"
      ]
     },
     "execution_count": 19,
     "metadata": {},
     "output_type": "execute_result"
    }
   ],
   "source": [
    "dogs_v_kids['subreddit'].value_counts()"
   ]
  },
  {
   "cell_type": "markdown",
   "id": "7697819b-f954-4c9f-aafc-228719c1fcf6",
   "metadata": {},
   "source": [
    "After removing duplicates, I still have a good number of posts from each subreddit. I'm satisfied with my data collection, so I'll save my dataframe to a .csv, and move on to data cleaning and EDA:"
   ]
  },
  {
   "cell_type": "code",
   "execution_count": 21,
   "id": "7079b046-3ce3-453f-ba64-4fc24bc185fb",
   "metadata": {},
   "outputs": [],
   "source": [
    "dogs_v_kids.to_csv('../data/dogs_v_children.csv', index=False)"
   ]
  }
 ],
 "metadata": {
  "kernelspec": {
   "display_name": "Python 3 (ipykernel)",
   "language": "python",
   "name": "python3"
  },
  "language_info": {
   "codemirror_mode": {
    "name": "ipython",
    "version": 3
   },
   "file_extension": ".py",
   "mimetype": "text/x-python",
   "name": "python",
   "nbconvert_exporter": "python",
   "pygments_lexer": "ipython3",
   "version": "3.9.13"
  }
 },
 "nbformat": 4,
 "nbformat_minor": 5
}
